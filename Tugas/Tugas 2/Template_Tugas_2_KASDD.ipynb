{
  "nbformat": 4,
  "nbformat_minor": 0,
  "metadata": {
    "colab": {
      "name": "Template Tugas 2 KASDD.ipynb",
      "provenance": [],
      "collapsed_sections": []
    },
    "kernelspec": {
      "name": "python3",
      "display_name": "Python 3"
    },
    "language_info": {
      "name": "python"
    }
  },
  "cells": [
    {
      "cell_type": "markdown",
      "metadata": {
        "id": "0k_j9vD93i96"
      },
      "source": [
        "<center>\n",
        "<img src=\"https://drive.google.com/uc?id=1f1gGVI-rxcHjA90WEGNvvtSXF1pAxQwg\" alt=\"Fasilkom UI\" width=\"300\"/>\n",
        "\n",
        "CSGE603130 • Kecerdasan Artifisial dan Sains Data Dasar\n",
        "\n",
        "Semester Ganjil 2021/2022\n",
        "\n",
        "Fakultas Ilmu Komputer, Universitas Indonesia\n",
        "\n",
        "##**Tugas *2*: *Clustering***\n",
        "\n",
        "###**Tenggat Waktu: 12 Oktober 2021, 23.55 WIB**\n",
        "</center>\n",
        "\n",
        "####**Ketentuan:**\n",
        "\n",
        "1. Dataset yang digunakan pada tugas ini beserta deskripsinya telah disediakan di SCeLe.\n",
        "2. Buatlah program Jupyter Notebook yang menjawab pertanyaan sesuai dengan perintah soal yang disediakan.\n",
        "3. Dokumen Jupyter Notebook yang telah dilengkapi dengan jawaban dikumpulkan dengan format penamaan **Kelas_TugasX_NPM_Nama.ipynb**. Contoh: F_Tugas2_1706979341_Lulu Ilmaknun Qurotaini.ipynb\n",
        "4. Kumpulkan dokumen tersebut pada submisi yang telah disediakan di SCeLe sesuai dengan kelas masing-masing sebelum **12 Oktober 2021, 23.55 WIB**. Keterlambatan pengumpulan akan dikenakan pinalti.\n",
        "5. Praktikum ini dirancang sebagai **tugas mandiri**. Plagiarisme tidak diperkenankan dalam bentuk apapun. Adapun kolaborasi berupa diskusi (tanpa menyalin) dan literasi masih diperbolehkan dengan mencantumkan kolaborator dan sumber.\n"
      ]
    },
    {
      "cell_type": "markdown",
      "metadata": {
        "id": "JnRUE1Ul62_R"
      },
      "source": [
        "## **Pernyataan Integritas**\n",
        "\n",
        "Wajib diisi. Tanpa pernyataan integritas submisi akan dikenakan pinalti."
      ]
    },
    {
      "cell_type": "code",
      "metadata": {
        "id": "9tnfWWpN7vjq"
      },
      "source": [
        "# Isi dengan data diri Anda\n",
        "NAMA = \"\"\n",
        "KELAS = \"\"\n",
        "NPM = \"\"\n",
        "\n",
        "# Isi dengan NPM teman yang berdiskusi dengan Anda\n",
        "KOLABORATOR = []\n",
        "\n",
        "# Isi dengan sumber referensi yang Anda gunakan dalam mengerjakan\n",
        "REFERENSI = []"
      ],
      "execution_count": null,
      "outputs": []
    },
    {
      "cell_type": "code",
      "metadata": {
        "colab": {
          "base_uri": "https://localhost:8080/"
        },
        "id": "KVEdteyu3hot",
        "outputId": "6770b256-1495-47a4-a77b-e81fbc5e593e"
      },
      "source": [
        "PERNYATAAN_INTEGRITAS = \"Saya, %s dari kelas %s dengan NPM %s, menyatakan bahwa seluruh jawaban pada pekerjaan ini murni saya kerjakan sendiri.\\n\\\n",
        "Saya tidak mencontek jawaban, memberikan jawaban, maupun menyalin dari sumber manapun.\\n \\\n",
        "\\n\\\n",
        "Jika saya melanggar pernyataan tersebut, saya siap menerima konsekuensi apapun yang diberikan.\\n   \\\n",
        "(%s)\" % (NAMA, KELAS, NPM, NAMA)\n",
        "\n",
        "print(PERNYATAAN_INTEGRITAS)"
      ],
      "execution_count": null,
      "outputs": [
        {
          "output_type": "stream",
          "name": "stdout",
          "text": [
            "Saya,  dari kelas  dengan NPM , menyatakan bahwa seluruh jawaban pada pekerjaan ini murni saya kerjakan sendiri.\n",
            "Saya tidak mencontek jawaban, memberikan jawaban, maupun menyalin dari sumber manapun.\n",
            " \n",
            "Jika saya melanggar pernyataan tersebut, saya siap menerima konsekuensi apapun yang diberikan.\n",
            "   ()\n"
          ]
        }
      ]
    },
    {
      "cell_type": "markdown",
      "metadata": {
        "id": "1XRLZsrKgDEG"
      },
      "source": [
        "## Soal Tugas 2\n",
        "**Catatan**: Algoritma clustering yang boleh dipakai pada tugas ini hanya K-means dan Agglomerative."
      ]
    },
    {
      "cell_type": "markdown",
      "metadata": {
        "id": "MFgDYzvZgO2-"
      },
      "source": [
        "### Soal 1 [15 Poin] - Teori\n",
        "\n"
      ]
    },
    {
      "cell_type": "markdown",
      "metadata": {
        "id": "2BVdJbihjZ63"
      },
      "source": [
        "#### a. Jelaskan mengapa K-means clustering tidak cocok untuk yang bukan hyper-spheres?"
      ]
    },
    {
      "cell_type": "markdown",
      "metadata": {
        "id": "CtDpZsD2ga4v"
      },
      "source": [
        "#### b. Jelaskan mengapa algoritma Hierarchical clustering dapat digunakan tanpa perlu menetapkan jumlah cluster?"
      ]
    },
    {
      "cell_type": "markdown",
      "metadata": {
        "id": "VEKmS-BKgk6l"
      },
      "source": [
        "#### c. Jelaskan apa itu nilai metrik intra-class similarity dan cara menghitungnya!"
      ]
    },
    {
      "cell_type": "markdown",
      "metadata": {
        "id": "CAqErPqTglBl"
      },
      "source": [
        "#### d. Jelaskan apa itu nilai metrik inter-class similarity dan cara menghitungnya!"
      ]
    },
    {
      "cell_type": "markdown",
      "metadata": {
        "id": "ocJWNhfFgscS"
      },
      "source": [
        "### Soal 2 [40 Poin] - Guess the clustering\n",
        "\n",
        "\n",
        "\n"
      ]
    },
    {
      "cell_type": "markdown",
      "metadata": {
        "id": "emoJa689jf9H"
      },
      "source": [
        "#### a. Buka data dari soal2.csv dan plot semua titik di plot dua dimensi!"
      ]
    },
    {
      "cell_type": "markdown",
      "metadata": {
        "id": "QXC0LuKBhRHZ"
      },
      "source": [
        "#### b. Dari plot tersebut, usulkan jumlah klaster yang dapat membagi data dengan baik!\n",
        "\n"
      ]
    },
    {
      "cell_type": "markdown",
      "metadata": {
        "id": "ffXmlWsphTFh"
      },
      "source": [
        "####c. Gunakan sebuah algoritma clustering yang dapat membagi data sesuai dengan jumlah klasteryang Anda usulkan. Jelaskan mengapa algoritma clustering tersebut digunakan!\n",
        "**Catatan**: Jawaban seperti karena “K-Means bisa/baik dipakai untuk clustering” tidak cukup.\n",
        "Semua algoritma clustering bisa dipakai untuk clustering. Tapi kenapa itu?\n",
        "\n"
      ]
    },
    {
      "cell_type": "markdown",
      "metadata": {
        "id": "Iz58cqkIhVY6"
      },
      "source": [
        "#### d. Visualisasikan hasil clustering dengan menampilkan scatter plot data yang di color-codedberdasarkan klasternya. Selain itu, cetak jumlah cluster yang dihasilkan!\n",
        "**Hint**: Pelajari parameter c pada fungsi matplotlib.pyplot.scatter()\n",
        "\n"
      ]
    },
    {
      "cell_type": "markdown",
      "metadata": {
        "id": "D8o2u6ufhW5t"
      },
      "source": [
        "#### e. Hitung nilai intra-class similarity hasil clustering tersebut dengan menghitung jumlah darijarak (sum of distance) masing-masing sampel dengan pusat klasternya! Koordinat sebuah pusat klaster adalah rata-rata dari semua sampel di klaster tersebut. Rumus jarak yang digunakan adalah L2-norm/Euclidean Distance.\n",
        "\n"
      ]
    },
    {
      "cell_type": "markdown",
      "metadata": {
        "id": "fMoHizu1hYH0"
      },
      "source": [
        "#### f. Hitung nilai silhouette coefficient dari hasil clustering tersebut!"
      ]
    },
    {
      "cell_type": "markdown",
      "metadata": {
        "id": "nHCYjGWOhhxn"
      },
      "source": [
        "### Soal 3 [30 Poin] - Hierarchical Clustering\n",
        "\n"
      ]
    },
    {
      "cell_type": "markdown",
      "metadata": {
        "id": "gIMX_u_BjiFM"
      },
      "source": [
        "#### a. Buka data dari soal3.csv dan plot semua titik di plot dua dimensi"
      ]
    },
    {
      "cell_type": "markdown",
      "metadata": {
        "id": "ty_hjM3shzwm"
      },
      "source": [
        "#### b. Pada soal ini, anda diharapkan melakukan clustering menggunakan algoritma Agglomerative sehingga terbuat klaster seperti berikut:\n",
        "\n",
        "![temp.png](data:image/png;base64,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)"
      ]
    },
    {
      "cell_type": "markdown",
      "metadata": {
        "id": "3tAwPBWLiBei"
      },
      "source": [
        "#### c. Kemungkinan besar saat Anda menggunakan modul algoritma Agglomerative dari library sklearn, Anda harus mengubah parameter yang digunakan. Sebutkan parameter apa saja yang anda gunakan beserta nilainya, dan jelaskan alasan anda menggunakan parameter tersebut dan menggunakan nilai tersebut.\n",
        "\n"
      ]
    },
    {
      "cell_type": "markdown",
      "metadata": {
        "id": "OyYK7ghoiMGl"
      },
      "source": [
        "#### d. (Bonus) Lakukan clustering menggunakan K-Means pada data tersebut, visualisasikan hasilnya, kemudian lakukan analisis terhadap hasil tersebut."
      ]
    },
    {
      "cell_type": "markdown",
      "metadata": {
        "id": "9g9aC2ZfiNKS"
      },
      "source": [
        "### Soal 4 [20 Poin] - Which came first: dimensionality reduction or clustering?\n",
        "\n",
        "\n",
        "\n"
      ]
    },
    {
      "cell_type": "markdown",
      "metadata": {
        "id": "EQUGjW4XjkCr"
      },
      "source": [
        "#### a. Buka data dari soal4.csv dan tampilkan 10 baris pertama! Hitung jumlah data dan jumlah fitur!"
      ]
    },
    {
      "cell_type": "markdown",
      "metadata": {
        "id": "jgRUWtJ7ii15"
      },
      "source": [
        "#### b. Ikuti langkah-langkah berikut:\n"
      ]
    },
    {
      "cell_type": "markdown",
      "metadata": {
        "id": "pvvbB-jrij94"
      },
      "source": [
        "##### i. Salin data asli dan masukkan dalam variable data_copy_1!"
      ]
    },
    {
      "cell_type": "markdown",
      "metadata": {
        "id": "px49a8fXimaf"
      },
      "source": [
        "##### ii. Lakukan Dimensionality reduction (PCA) pada data_copy_1 sehingga jumlah fiturnya menjadi 2!"
      ]
    },
    {
      "cell_type": "markdown",
      "metadata": {
        "id": "ejzL0-zFif5r"
      },
      "source": [
        "##### iii. Visualisasikan data_copy_1 yang sudah direduksi, kemudian tentukan berapa jumlah cluster yang tepat!\n",
        "\n"
      ]
    },
    {
      "cell_type": "markdown",
      "metadata": {
        "id": "P39d9WxdjM0c"
      },
      "source": [
        "##### iv. Lakukan clustering pada data_copy_1 yang sudah direduksi menggunakan K-Means dengan parameter random_state=2021!\n",
        "\n"
      ]
    },
    {
      "cell_type": "markdown",
      "metadata": {
        "id": "b7uCpQjFjOCS"
      },
      "source": [
        "##### v. Visualisasikan hasil clustering pada data_copy_1 yang sudah direduksi!\n",
        "\n"
      ]
    },
    {
      "cell_type": "markdown",
      "metadata": {
        "id": "aSYv-3i1jPTR"
      },
      "source": [
        "#### c. Ikuti langkah-langkah berikut:\n",
        "\n"
      ]
    },
    {
      "cell_type": "markdown",
      "metadata": {
        "id": "75DYYxx0jQnl"
      },
      "source": [
        "##### i. Salin data asli dan masukkan dalam variable data_copy_2!\n"
      ]
    },
    {
      "cell_type": "markdown",
      "metadata": {
        "id": "R3rQDSe2jR4_"
      },
      "source": [
        "##### ii. Lakukan clustering pada data_copy_2 menggunakan K-Means dengan parameter random_state=2021 dan jumlah cluster sama dengan jumlah cluster yang kamu gunakan pada poin b!\n"
      ]
    },
    {
      "cell_type": "markdown",
      "metadata": {
        "id": "uShnWaF4jS9s"
      },
      "source": [
        "##### iii. Lakukan Dimensionality reduction (PCA) pada data_copy_2 sehingga jumlah fiturnya menjadi 2!\n"
      ]
    },
    {
      "cell_type": "markdown",
      "metadata": {
        "id": "fGLMbxVwjUFn"
      },
      "source": [
        "##### iv. Visualisasikan hasil clustering pada data_copy_2 yang sudah direduksi!\n"
      ]
    },
    {
      "cell_type": "markdown",
      "metadata": {
        "id": "nMOBuSTnjVKt"
      },
      "source": [
        "#### d. Apakah ada perbedaan pada hasil poin b dan poin c? Mengapa demikian? Apa kesimpulan yang bisa anda ambil?"
      ]
    }
  ]
}