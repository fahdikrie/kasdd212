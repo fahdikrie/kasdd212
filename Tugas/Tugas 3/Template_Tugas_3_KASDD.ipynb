{
  "nbformat": 4,
  "nbformat_minor": 0,
  "metadata": {
    "colab": {
      "name": "Template Tugas 3 KASDD",
      "provenance": [],
      "collapsed_sections": []
    },
    "kernelspec": {
      "name": "python3",
      "display_name": "Python 3"
    },
    "language_info": {
      "name": "python"
    }
  },
  "cells": [
    {
      "cell_type": "markdown",
      "metadata": {
        "id": "0k_j9vD93i96"
      },
      "source": [
        "<center>\n",
        "<img src=\"https://drive.google.com/uc?id=1f1gGVI-rxcHjA90WEGNvvtSXF1pAxQwg\" alt=\"Fasilkom UI\" width=\"300\"/>\n",
        "\n",
        "CSGE603130 • Kecerdasan Artifisial dan Sains Data Dasar\n",
        "\n",
        "Semester Ganjil 2021/2022\n",
        "\n",
        "Fakultas Ilmu Komputer, Universitas Indonesia\n",
        "\n",
        "##**Tugas *3*: *Regresi***\n",
        "\n",
        "###**Tenggat Waktu: 18 November 2021, 23.55 WIB**\n",
        "</center>\n",
        "\n",
        "####**Ketentuan:**\n",
        "\n",
        "1. Dataset yang digunakan pada tugas ini beserta deskripsinya telah disediakan di SCeLe.\n",
        "2. Buatlah program Jupyter Notebook yang menjawab pertanyaan sesuai dengan perintah soal yang disediakan.\n",
        "3. Dokumen Jupyter Notebook yang telah dilengkapi dengan jawaban dikumpulkan dengan format penamaan **Kelas_TugasX_NPM_Nama.ipynb**. Contoh: F_Tugas1_1706979341_Lulu Ilmaknun Qurotaini.ipynb\n",
        "4. Kumpulkan dokumen tersebut pada submisi yang telah disediakan di SCeLe sesuai dengan kelas masing-masing sebelum **18 November 2021, 23.55 WIB**. Keterlambatan pengumpulan akan dikenakan pinalti.\n",
        "5. Praktikum ini dirancang sebagai **tugas mandiri**. Plagiarisme tidak diperkenankan dalam bentuk apapun. Adapun kolaborasi berupa diskusi (tanpa menyalin) dan literasi masih diperbolehkan dengan mencantumkan kolaborator dan sumber.\n"
      ]
    },
    {
      "cell_type": "markdown",
      "metadata": {
        "id": "JnRUE1Ul62_R"
      },
      "source": [
        "## **Pernyataan Integritas**\n",
        "\n",
        "Wajib diisi. Tanpa pernyataan integritas submisi akan dikenakan pinalti."
      ]
    },
    {
      "cell_type": "code",
      "metadata": {
        "id": "9tnfWWpN7vjq"
      },
      "source": [
        "# Isi dengan data diri Anda\n",
        "NAMA = \"\"\n",
        "KELAS = \"\"\n",
        "NPM = \"\"\n",
        "\n",
        "# Isi dengan NPM teman yang berdiskusi dengan Anda\n",
        "KOLABORATOR = []\n",
        "\n",
        "# Isi dengan sumber referensi yang Anda gunakan dalam mengerjakan\n",
        "REFERENSI = []"
      ],
      "execution_count": null,
      "outputs": []
    },
    {
      "cell_type": "code",
      "metadata": {
        "colab": {
          "base_uri": "https://localhost:8080/"
        },
        "id": "KVEdteyu3hot",
        "outputId": "59edfab0-3ca9-4939-d06b-d22d78fc8d98"
      },
      "source": [
        "PERNYATAAN_INTEGRITAS = \"Saya, %s dari kelas %s dengan NPM %s, menyatakan bahwa seluruh jawaban pada pekerjaan ini murni saya kerjakan sendiri.\\n\\\n",
        "Saya tidak mencontek jawaban, memberikan jawaban, maupun menyalin dari sumber manapun.\\n \\\n",
        "\\n\\\n",
        "Jika saya melanggar pernyataan tersebut, saya siap menerima konsekuensi apapun yang diberikan.\\n   \\\n",
        "(%s)\" % (NAMA, KELAS, NPM, NAMA)\n",
        "\n",
        "print(PERNYATAAN_INTEGRITAS)"
      ],
      "execution_count": null,
      "outputs": [
        {
          "output_type": "stream",
          "name": "stdout",
          "text": [
            "Saya,  dari kelas  dengan NPM , menyatakan bahwa seluruh jawaban pada pekerjaan ini murni saya kerjakan sendiri.\n",
            "Saya tidak mencontek jawaban, memberikan jawaban, maupun menyalin dari sumber manapun.\n",
            " \n",
            "Jika saya melanggar pernyataan tersebut, saya siap menerima konsekuensi apapun yang diberikan.\n",
            "   ()\n"
          ]
        }
      ]
    },
    {
      "cell_type": "markdown",
      "metadata": {
        "id": "9CmWck-cA9CJ"
      },
      "source": [
        "## **Preprocessing**"
      ]
    },
    {
      "cell_type": "markdown",
      "metadata": {
        "id": "Fqcv19xqA9AH"
      },
      "source": [
        "### Nomor 1\n",
        "[10] Berikan ringkasan mengenai data tersebut terkait dengan deskripsi setiap atribut, jumlah atribut (numerik & kategorik), jumlah missing values, jumlah duplikasi data, dan kemungkinan adanya outliers pada data!"
      ]
    },
    {
      "cell_type": "code",
      "metadata": {
        "id": "pt0wkTEgBWeT"
      },
      "source": [
        ""
      ],
      "execution_count": null,
      "outputs": []
    },
    {
      "cell_type": "markdown",
      "metadata": {
        "id": "64g80fVqBW4U"
      },
      "source": [
        "### Nomor 2\n",
        "[5] Berdasarkan eksplorasi anda pada nomor 1, lakukan data preparation hingga data tersebut menurut anda cukup “clean” dan dapat memberikan hasil regresi yang maksimal."
      ]
    },
    {
      "cell_type": "code",
      "metadata": {
        "id": "qCETRGT7BZ0t"
      },
      "source": [
        ""
      ],
      "execution_count": null,
      "outputs": []
    },
    {
      "cell_type": "markdown",
      "metadata": {
        "id": "stkrtywMBaPo"
      },
      "source": [
        "### Nomor 3\n",
        "[10] Menurut Anda, apakah perlu dilakukan normalisasi terhadap data sebelum pemrosesan lebih lanjut, atau cukup menggunakan data asli? Jika ya, bentuk normalisasi apa yang tepat digunakan pada data? Jelaskan secara singkat alasan Anda!"
      ]
    },
    {
      "cell_type": "code",
      "metadata": {
        "id": "3QaN5zxcBcry"
      },
      "source": [
        ""
      ],
      "execution_count": null,
      "outputs": []
    },
    {
      "cell_type": "markdown",
      "metadata": {
        "id": "elZ3vXibBCnx"
      },
      "source": [
        "## **Regresi**\n",
        "(Penggunaan library diperbolehkan). Gunakan TARGET_deathRate sebagai kolom target."
      ]
    },
    {
      "cell_type": "markdown",
      "metadata": {
        "id": "aj4_DFwQBgAO"
      },
      "source": [
        "### Nomor 1\n",
        "[15] Implementasikan Linear Regression pada data hasil preprocessing. Gunakan Method dari library sklearn.\n",
        "\n",
        "a. Tampilkan visualisasi hasil prediksi\n",
        "\n",
        "b. Tampilkan nilai MSE, MAE, RMSE, dan R2 Square"
      ]
    },
    {
      "cell_type": "code",
      "metadata": {
        "id": "AxYs48QXBhkE"
      },
      "source": [
        ""
      ],
      "execution_count": null,
      "outputs": []
    },
    {
      "cell_type": "markdown",
      "metadata": {
        "id": "coDGghwsBoSX"
      },
      "source": [
        "### Nomor 2\n",
        "[15] Implementasikan Ridge Regression pada data hasil preprocessing. Gunakan method dari library sklearn.\n",
        "\n",
        "a. Tampilkan nilai R2 Square\n",
        "\n",
        "b. Coba ubah parameter alpha dengan nilai yang lebih besar dan analisis bagaimana hubungan perubahan parameter tersebut dengan kualitas hasil regresi.\n"
      ]
    },
    {
      "cell_type": "code",
      "metadata": {
        "id": "EK27FheIFqrt"
      },
      "source": [
        ""
      ],
      "execution_count": null,
      "outputs": []
    },
    {
      "cell_type": "markdown",
      "metadata": {
        "id": "1waX1EvFBtrk"
      },
      "source": [
        "### Nomor 3\n",
        "[15] Implementasikan Lasso Regression pada data hasil preprocessing. Gunakan method dari library sklearn.\n",
        "\n",
        "a. Tampilkan nilai R2 Square\n",
        "\n",
        "b. Coba ubah parameter alpha dengan nilai yang lebih besar dan analisis bagaimana hubungan perubahan parameter tersebut dengan kualitas hasil regresi.\n"
      ]
    },
    {
      "cell_type": "markdown",
      "metadata": {
        "id": "wE8trQwoBztz"
      },
      "source": [
        "NOTE: Parameter alpha adalah parameter yang merepresentasikan “kekuatan” dari regularisasi yang dilakukan oleh model. Regularisasi adalah teknik modifikasi yang digunakan untuk mengurangi *generalization error*, dengan kata lain menghindari *overfitting*. Hal ini dilakukan dengan memberikan batasan/*constraint* atau penambahan penalti pada parameter/atribut yang kita gunakan. Untuk lebih jelas, silahkan baca dokumentasi model Ridge dan Lasso yang ada pada link berikut : [API Reference — scikit-learn 1.0.1 documentation ](https://scikit-learn.org/stable/modules/classes.html#module-sklearn.linear_model)"
      ]
    },
    {
      "cell_type": "code",
      "metadata": {
        "id": "Ll--PQvDB0ia"
      },
      "source": [
        ""
      ],
      "execution_count": null,
      "outputs": []
    },
    {
      "cell_type": "markdown",
      "metadata": {
        "id": "WbJQZUllBFmw"
      },
      "source": [
        "## Logistic and Softmax Regression"
      ]
    },
    {
      "cell_type": "markdown",
      "metadata": {
        "id": "VjgFpFMUB2Ak"
      },
      "source": [
        "### Nomor 1\n",
        "[15] Implementasikan Logistic Regression dengan target yang digunakan adalah kolom TARGET_logistic. Gunakan method dari library sklearn.\n",
        "\n",
        "a. Visualisasikan hasil regression yang didapat dengan membandingkan hasil prediksi dan nilai target aktual.\n",
        "\n",
        "b. Tampilkan rata-rata akurasi yang didapat (baca method .score() pada dokumentasi sklearn)\n"
      ]
    },
    {
      "cell_type": "code",
      "metadata": {
        "id": "i7MSiWVRBH5C"
      },
      "source": [
        ""
      ],
      "execution_count": null,
      "outputs": []
    },
    {
      "cell_type": "markdown",
      "metadata": {
        "id": "aN9ZAhRmB4q4"
      },
      "source": [
        "### Nomor 2\n",
        "[15] Implementasikan Softmax Regression dengan target yang digunakan adalah kolom TARGET_softmax. Gunakan method dari library sklearn.\n",
        "\n",
        "a. Visualisasikan hasil regression yang didapat dengan membandingkan hasil prediksi dan nilai target aktual.\n",
        "\n",
        "b. Tampilkan rata-rata akurasi yang didapat.\n"
      ]
    },
    {
      "cell_type": "code",
      "metadata": {
        "id": "7iDJ6NQ_B75A"
      },
      "source": [
        ""
      ],
      "execution_count": null,
      "outputs": []
    }
  ]
}