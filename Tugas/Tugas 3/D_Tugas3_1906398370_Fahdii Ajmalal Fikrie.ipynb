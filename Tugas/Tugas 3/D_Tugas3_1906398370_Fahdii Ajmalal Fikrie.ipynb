{
  "cells": [
    {
      "cell_type": "markdown",
      "metadata": {
        "id": "0k_j9vD93i96"
      },
      "source": [
        "<center>\n",
        "<img src=\"https://drive.google.com/uc?id=1f1gGVI-rxcHjA90WEGNvvtSXF1pAxQwg\" alt=\"Fasilkom UI\" width=\"300\"/>\n",
        "\n",
        "CSGE603130 • Kecerdasan Artifisial dan Sains Data Dasar\n",
        "\n",
        "Semester Ganjil 2021/2022\n",
        "\n",
        "Fakultas Ilmu Komputer, Universitas Indonesia\n",
        "\n",
        "## **Tugas *3*: *Regresi***\n",
        "\n",
        "### **Tenggat Waktu: 18 November 2021, 23.55 WIB**\n",
        "</center>\n",
        "\n",
        "#### **Ketentuan:**\n",
        "\n",
        "1. Dataset yang digunakan pada tugas ini beserta deskripsinya telah disediakan di SCeLe.\n",
        "2. Buatlah program Jupyter Notebook yang menjawab pertanyaan sesuai dengan perintah soal yang disediakan.\n",
        "3. Dokumen Jupyter Notebook yang telah dilengkapi dengan jawaban dikumpulkan dengan format penamaan **Kelas_TugasX_NPM_Nama.ipynb**. Contoh: F_Tugas1_1706979341_Lulu Ilmaknun Qurotaini.ipynb\n",
        "4. Kumpulkan dokumen tersebut pada submisi yang telah disediakan di SCeLe sesuai dengan kelas masing-masing sebelum **18 November 2021, 23.55 WIB**. Keterlambatan pengumpulan akan dikenakan pinalti.\n",
        "5. Praktikum ini dirancang sebagai **tugas mandiri**. Plagiarisme tidak diperkenankan dalam bentuk apapun. Adapun kolaborasi berupa diskusi (tanpa menyalin) dan literasi masih diperbolehkan dengan mencantumkan kolaborator dan sumber.\n"
      ]
    },
    {
      "cell_type": "markdown",
      "metadata": {
        "id": "JnRUE1Ul62_R"
      },
      "source": [
        "## **Pernyataan Integritas**\n",
        "\n",
        "Wajib diisi. Tanpa pernyataan integritas submisi akan dikenakan pinalti."
      ]
    },
    {
      "cell_type": "code",
      "execution_count": 840,
      "metadata": {
        "id": "9tnfWWpN7vjq"
      },
      "outputs": [],
      "source": [
        "# Isi dengan data diri Anda\n",
        "NAMA = \"Fahdii Ajmalal Fikrie\"\n",
        "KELAS = \"D\"\n",
        "NPM = \"1906398370\"\n",
        "\n",
        "# Isi dengan NPM teman yang berdiskusi dengan Anda\n",
        "KOLABORATOR = [\n",
        "    \"Hugo Irwanto: ngasih tau kalo geography didrop dan binnedInc di encode\",\n",
        "    \"Fairuza Raryasdya dan Radhiansya Zain: bertanya mengenai pendekatan dalam memproses outlier\"\n",
        "]\n",
        "\n",
        "# Isi dengan sumber referensi yang Anda gunakan dalam mengerjakan\n",
        "REFERENSI = [\n",
        "    \"https://stackoverflow.com/questions/59742169/what-is-the-parameter-alpha-in-ridge-regression\",\n",
        "    \"https://stackoverflow.com/questions/59706137/what-is-alpha-in-ridge-regression\",\n",
        "    \"https://www.pluralsight.com/guides/linear-lasso-and-ridge-regression-with-r\",\n",
        "    \"https://towardsdatascience.com/logistic-regression-using-python-sklearn-numpy-mnist-handwriting-recognition-matplotlib-a6b31e2b166a\",\n",
        "    \"https://medium.com/@lily_su/logistic-regression-accuracy-cross-validation-58d9eb58d6e6\"\n",
        "]"
      ]
    },
    {
      "cell_type": "code",
      "execution_count": 841,
      "metadata": {
        "colab": {
          "base_uri": "https://localhost:8080/"
        },
        "id": "KVEdteyu3hot",
        "outputId": "59edfab0-3ca9-4939-d06b-d22d78fc8d98"
      },
      "outputs": [
        {
          "name": "stdout",
          "output_type": "stream",
          "text": [
            "Saya, Fahdii Ajmalal Fikrie dari kelas D dengan NPM 1906398370, menyatakan bahwa seluruh jawaban pada pekerjaan ini murni saya kerjakan sendiri.\n",
            "Saya tidak mencontek jawaban, memberikan jawaban, maupun menyalin dari sumber manapun.\n",
            " \n",
            "Jika saya melanggar pernyataan tersebut, saya siap menerima konsekuensi apapun yang diberikan.\n",
            "   (Fahdii Ajmalal Fikrie)\n"
          ]
        }
      ],
      "source": [
        "PERNYATAAN_INTEGRITAS = \"Saya, %s dari kelas %s dengan NPM %s, menyatakan bahwa seluruh jawaban pada pekerjaan ini murni saya kerjakan sendiri.\\n\\\n",
        "Saya tidak mencontek jawaban, memberikan jawaban, maupun menyalin dari sumber manapun.\\n \\\n",
        "\\n\\\n",
        "Jika saya melanggar pernyataan tersebut, saya siap menerima konsekuensi apapun yang diberikan.\\n   \\\n",
        "(%s)\" % (NAMA, KELAS, NPM, NAMA)\n",
        "\n",
        "print(PERNYATAAN_INTEGRITAS)"
      ]
    },
    {
      "cell_type": "code",
      "execution_count": 842,
      "metadata": {},
      "outputs": [],
      "source": [
        "import matplotlib.pyplot as plt\n",
        "import pandas as pd\n",
        "import numpy as np\n",
        "\n",
        "from sklearn.linear_model import (\n",
        "    LinearRegression, Ridge,\n",
        "    Lasso, LogisticRegression,\n",
        ")\n",
        "from sklearn.model_selection import train_test_split\n",
        "from sklearn.preprocessing import StandardScaler\n",
        "from sklearn.preprocessing import LabelEncoder\n",
        "from sklearn import metrics\n",
        "\n",
        "from IPython.display import display\n",
        "from pprint import pprint"
      ]
    },
    {
      "cell_type": "markdown",
      "metadata": {
        "id": "9CmWck-cA9CJ"
      },
      "source": [
        "## **Preprocessing**"
      ]
    },
    {
      "cell_type": "markdown",
      "metadata": {
        "id": "Fqcv19xqA9AH"
      },
      "source": [
        "### Nomor 1\n",
        "[10] Berikan ringkasan mengenai data tersebut terkait dengan deskripsi setiap atribut, jumlah atribut (numerik & kategorik), jumlah missing values, jumlah duplikasi data, dan kemungkinan adanya outliers pada data!"
      ]
    },
    {
      "cell_type": "code",
      "execution_count": 843,
      "metadata": {
        "id": "pt0wkTEgBWeT"
      },
      "outputs": [
        {
          "data": {
            "text/html": [
              "<div>\n",
              "<style scoped>\n",
              "    .dataframe tbody tr th:only-of-type {\n",
              "        vertical-align: middle;\n",
              "    }\n",
              "\n",
              "    .dataframe tbody tr th {\n",
              "        vertical-align: top;\n",
              "    }\n",
              "\n",
              "    .dataframe thead th {\n",
              "        text-align: right;\n",
              "    }\n",
              "</style>\n",
              "<table border=\"1\" class=\"dataframe\">\n",
              "  <thead>\n",
              "    <tr style=\"text-align: right;\">\n",
              "      <th></th>\n",
              "      <th>avgAnnCount</th>\n",
              "      <th>avgDeathsPerYear</th>\n",
              "      <th>TARGET_deathRate</th>\n",
              "      <th>incidenceRate</th>\n",
              "      <th>medIncome</th>\n",
              "      <th>popEst2015</th>\n",
              "      <th>povertyPercent</th>\n",
              "      <th>studyPerCap</th>\n",
              "      <th>binnedInc</th>\n",
              "      <th>MedianAge</th>\n",
              "      <th>...</th>\n",
              "      <th>PctPublicCoverage</th>\n",
              "      <th>PctPublicCoverageAlone</th>\n",
              "      <th>PctWhite</th>\n",
              "      <th>PctBlack</th>\n",
              "      <th>PctAsian</th>\n",
              "      <th>PctOtherRace</th>\n",
              "      <th>PctMarriedHouseholds</th>\n",
              "      <th>BirthRate</th>\n",
              "      <th>TARGET_logistic</th>\n",
              "      <th>TARGET_softmax</th>\n",
              "    </tr>\n",
              "  </thead>\n",
              "  <tbody>\n",
              "    <tr>\n",
              "      <th>0</th>\n",
              "      <td>1397.0</td>\n",
              "      <td>469</td>\n",
              "      <td>164.9</td>\n",
              "      <td>489.8</td>\n",
              "      <td>61898</td>\n",
              "      <td>260131</td>\n",
              "      <td>11.2</td>\n",
              "      <td>499.748204</td>\n",
              "      <td>(61494.5, 125635]</td>\n",
              "      <td>39.3</td>\n",
              "      <td>...</td>\n",
              "      <td>32.9</td>\n",
              "      <td>14.0</td>\n",
              "      <td>81.780529</td>\n",
              "      <td>2.594728</td>\n",
              "      <td>4.821857</td>\n",
              "      <td>1.843479</td>\n",
              "      <td>52.856076</td>\n",
              "      <td>6.118831</td>\n",
              "      <td>1</td>\n",
              "      <td>2</td>\n",
              "    </tr>\n",
              "    <tr>\n",
              "      <th>1</th>\n",
              "      <td>173.0</td>\n",
              "      <td>70</td>\n",
              "      <td>161.3</td>\n",
              "      <td>411.6</td>\n",
              "      <td>48127</td>\n",
              "      <td>43269</td>\n",
              "      <td>18.6</td>\n",
              "      <td>23.111234</td>\n",
              "      <td>(48021.6, 51046.4]</td>\n",
              "      <td>33.0</td>\n",
              "      <td>...</td>\n",
              "      <td>31.1</td>\n",
              "      <td>15.3</td>\n",
              "      <td>89.228509</td>\n",
              "      <td>0.969102</td>\n",
              "      <td>2.246233</td>\n",
              "      <td>3.741352</td>\n",
              "      <td>45.372500</td>\n",
              "      <td>4.333096</td>\n",
              "      <td>1</td>\n",
              "      <td>2</td>\n",
              "    </tr>\n",
              "    <tr>\n",
              "      <th>2</th>\n",
              "      <td>102.0</td>\n",
              "      <td>50</td>\n",
              "      <td>174.7</td>\n",
              "      <td>349.7</td>\n",
              "      <td>49348</td>\n",
              "      <td>21026</td>\n",
              "      <td>14.6</td>\n",
              "      <td>47.560164</td>\n",
              "      <td>(48021.6, 51046.4]</td>\n",
              "      <td>45.0</td>\n",
              "      <td>...</td>\n",
              "      <td>42.1</td>\n",
              "      <td>21.1</td>\n",
              "      <td>90.922190</td>\n",
              "      <td>0.739673</td>\n",
              "      <td>0.465898</td>\n",
              "      <td>2.747358</td>\n",
              "      <td>54.444868</td>\n",
              "      <td>3.729488</td>\n",
              "      <td>1</td>\n",
              "      <td>2</td>\n",
              "    </tr>\n",
              "    <tr>\n",
              "      <th>3</th>\n",
              "      <td>427.0</td>\n",
              "      <td>202</td>\n",
              "      <td>194.8</td>\n",
              "      <td>430.4</td>\n",
              "      <td>44243</td>\n",
              "      <td>75882</td>\n",
              "      <td>17.1</td>\n",
              "      <td>342.637253</td>\n",
              "      <td>(42724.4, 45201]</td>\n",
              "      <td>42.8</td>\n",
              "      <td>...</td>\n",
              "      <td>45.3</td>\n",
              "      <td>25.0</td>\n",
              "      <td>91.744686</td>\n",
              "      <td>0.782626</td>\n",
              "      <td>1.161359</td>\n",
              "      <td>1.362643</td>\n",
              "      <td>51.021514</td>\n",
              "      <td>4.603841</td>\n",
              "      <td>2</td>\n",
              "      <td>3</td>\n",
              "    </tr>\n",
              "    <tr>\n",
              "      <th>4</th>\n",
              "      <td>57.0</td>\n",
              "      <td>26</td>\n",
              "      <td>144.4</td>\n",
              "      <td>350.1</td>\n",
              "      <td>49955</td>\n",
              "      <td>10321</td>\n",
              "      <td>12.5</td>\n",
              "      <td>0.000000</td>\n",
              "      <td>(48021.6, 51046.4]</td>\n",
              "      <td>48.3</td>\n",
              "      <td>...</td>\n",
              "      <td>44.0</td>\n",
              "      <td>22.7</td>\n",
              "      <td>94.104024</td>\n",
              "      <td>0.270192</td>\n",
              "      <td>0.665830</td>\n",
              "      <td>0.492135</td>\n",
              "      <td>54.027460</td>\n",
              "      <td>6.796657</td>\n",
              "      <td>1</td>\n",
              "      <td>1</td>\n",
              "    </tr>\n",
              "  </tbody>\n",
              "</table>\n",
              "<p>5 rows × 36 columns</p>\n",
              "</div>"
            ],
            "text/plain": [
              "   avgAnnCount  avgDeathsPerYear  TARGET_deathRate  incidenceRate  medIncome  \\\n",
              "0       1397.0               469             164.9          489.8      61898   \n",
              "1        173.0                70             161.3          411.6      48127   \n",
              "2        102.0                50             174.7          349.7      49348   \n",
              "3        427.0               202             194.8          430.4      44243   \n",
              "4         57.0                26             144.4          350.1      49955   \n",
              "\n",
              "   popEst2015  povertyPercent  studyPerCap           binnedInc  MedianAge  \\\n",
              "0      260131            11.2   499.748204   (61494.5, 125635]       39.3   \n",
              "1       43269            18.6    23.111234  (48021.6, 51046.4]       33.0   \n",
              "2       21026            14.6    47.560164  (48021.6, 51046.4]       45.0   \n",
              "3       75882            17.1   342.637253    (42724.4, 45201]       42.8   \n",
              "4       10321            12.5     0.000000  (48021.6, 51046.4]       48.3   \n",
              "\n",
              "   ...  PctPublicCoverage  PctPublicCoverageAlone   PctWhite  PctBlack  \\\n",
              "0  ...               32.9                    14.0  81.780529  2.594728   \n",
              "1  ...               31.1                    15.3  89.228509  0.969102   \n",
              "2  ...               42.1                    21.1  90.922190  0.739673   \n",
              "3  ...               45.3                    25.0  91.744686  0.782626   \n",
              "4  ...               44.0                    22.7  94.104024  0.270192   \n",
              "\n",
              "   PctAsian  PctOtherRace  PctMarriedHouseholds  BirthRate  TARGET_logistic  \\\n",
              "0  4.821857      1.843479             52.856076   6.118831                1   \n",
              "1  2.246233      3.741352             45.372500   4.333096                1   \n",
              "2  0.465898      2.747358             54.444868   3.729488                1   \n",
              "3  1.161359      1.362643             51.021514   4.603841                2   \n",
              "4  0.665830      0.492135             54.027460   6.796657                1   \n",
              "\n",
              "   TARGET_softmax  \n",
              "0               2  \n",
              "1               2  \n",
              "2               2  \n",
              "3               3  \n",
              "4               1  \n",
              "\n",
              "[5 rows x 36 columns]"
            ]
          },
          "execution_count": 843,
          "metadata": {},
          "output_type": "execute_result"
        }
      ],
      "source": [
        "# Mengimpor dataset\n",
        "cancer_df = pd.read_csv(\"cancer_reg.csv\")\n",
        "cancer_df.head(5)"
      ]
    },
    {
      "cell_type": "code",
      "execution_count": 844,
      "metadata": {},
      "outputs": [
        {
          "name": "stdout",
          "output_type": "stream",
          "text": [
            "Deskripsi setiap atribut/fitur: \n",
            "\n",
            "<class 'pandas.core.frame.DataFrame'>\n",
            "RangeIndex: 3047 entries, 0 to 3046\n",
            "Data columns (total 36 columns):\n",
            " #   Column                   Non-Null Count  Dtype  \n",
            "---  ------                   --------------  -----  \n",
            " 0   avgAnnCount              3047 non-null   float64\n",
            " 1   avgDeathsPerYear         3047 non-null   int64  \n",
            " 2   TARGET_deathRate         3047 non-null   float64\n",
            " 3   incidenceRate            3047 non-null   float64\n",
            " 4   medIncome                3047 non-null   int64  \n",
            " 5   popEst2015               3047 non-null   int64  \n",
            " 6   povertyPercent           3047 non-null   float64\n",
            " 7   studyPerCap              3047 non-null   float64\n",
            " 8   binnedInc                3047 non-null   object \n",
            " 9   MedianAge                3047 non-null   float64\n",
            " 10  MedianAgeMale            3047 non-null   float64\n",
            " 11  MedianAgeFemale          3047 non-null   float64\n",
            " 12  Geography                3047 non-null   object \n",
            " 13  AvgHouseholdSize         3047 non-null   float64\n",
            " 14  PercentMarried           3047 non-null   float64\n",
            " 15  PctNoHS18_24             3047 non-null   float64\n",
            " 16  PctHS18_24               3047 non-null   float64\n",
            " 17  PctSomeCol18_24          762 non-null    float64\n",
            " 18  PctBachDeg18_24          3047 non-null   float64\n",
            " 19  PctHS25_Over             3047 non-null   float64\n",
            " 20  PctBachDeg25_Over        3047 non-null   float64\n",
            " 21  PctEmployed16_Over       2895 non-null   float64\n",
            " 22  PctUnemployed16_Over     3047 non-null   float64\n",
            " 23  PctPrivateCoverage       3047 non-null   float64\n",
            " 24  PctPrivateCoverageAlone  2438 non-null   float64\n",
            " 25  PctEmpPrivCoverage       3047 non-null   float64\n",
            " 26  PctPublicCoverage        3047 non-null   float64\n",
            " 27  PctPublicCoverageAlone   3047 non-null   float64\n",
            " 28  PctWhite                 3047 non-null   float64\n",
            " 29  PctBlack                 3047 non-null   float64\n",
            " 30  PctAsian                 3047 non-null   float64\n",
            " 31  PctOtherRace             3047 non-null   float64\n",
            " 32  PctMarriedHouseholds     3047 non-null   float64\n",
            " 33  BirthRate                3047 non-null   float64\n",
            " 34  TARGET_logistic          3047 non-null   int64  \n",
            " 35  TARGET_softmax           3047 non-null   int64  \n",
            "dtypes: float64(29), int64(5), object(2)\n",
            "memory usage: 857.1+ KB\n"
          ]
        }
      ],
      "source": [
        "# Deskripsi setiap atribut/fitur\n",
        "print(\"Deskripsi setiap atribut/fitur: \\n\")\n",
        "cancer_df.info()"
      ]
    },
    {
      "cell_type": "code",
      "execution_count": 845,
      "metadata": {},
      "outputs": [
        {
          "name": "stdout",
          "output_type": "stream",
          "text": [
            "Deskripsi dan jumlah masing-masing atribut numerik: \n",
            "\n"
          ]
        },
        {
          "data": {
            "text/html": [
              "<div>\n",
              "<style scoped>\n",
              "    .dataframe tbody tr th:only-of-type {\n",
              "        vertical-align: middle;\n",
              "    }\n",
              "\n",
              "    .dataframe tbody tr th {\n",
              "        vertical-align: top;\n",
              "    }\n",
              "\n",
              "    .dataframe thead th {\n",
              "        text-align: right;\n",
              "    }\n",
              "</style>\n",
              "<table border=\"1\" class=\"dataframe\">\n",
              "  <thead>\n",
              "    <tr style=\"text-align: right;\">\n",
              "      <th></th>\n",
              "      <th>avgAnnCount</th>\n",
              "      <th>avgDeathsPerYear</th>\n",
              "      <th>TARGET_deathRate</th>\n",
              "      <th>incidenceRate</th>\n",
              "      <th>medIncome</th>\n",
              "      <th>popEst2015</th>\n",
              "      <th>povertyPercent</th>\n",
              "      <th>studyPerCap</th>\n",
              "      <th>MedianAge</th>\n",
              "      <th>MedianAgeMale</th>\n",
              "      <th>...</th>\n",
              "      <th>PctPublicCoverage</th>\n",
              "      <th>PctPublicCoverageAlone</th>\n",
              "      <th>PctWhite</th>\n",
              "      <th>PctBlack</th>\n",
              "      <th>PctAsian</th>\n",
              "      <th>PctOtherRace</th>\n",
              "      <th>PctMarriedHouseholds</th>\n",
              "      <th>BirthRate</th>\n",
              "      <th>TARGET_logistic</th>\n",
              "      <th>TARGET_softmax</th>\n",
              "    </tr>\n",
              "  </thead>\n",
              "  <tbody>\n",
              "    <tr>\n",
              "      <th>count</th>\n",
              "      <td>3047.000000</td>\n",
              "      <td>3047.000000</td>\n",
              "      <td>3047.000000</td>\n",
              "      <td>3047.000000</td>\n",
              "      <td>3047.000000</td>\n",
              "      <td>3.047000e+03</td>\n",
              "      <td>3047.000000</td>\n",
              "      <td>3047.000000</td>\n",
              "      <td>3047.000000</td>\n",
              "      <td>3047.000000</td>\n",
              "      <td>...</td>\n",
              "      <td>3047.000000</td>\n",
              "      <td>3047.000000</td>\n",
              "      <td>3047.000000</td>\n",
              "      <td>3047.000000</td>\n",
              "      <td>3047.000000</td>\n",
              "      <td>3047.000000</td>\n",
              "      <td>3047.000000</td>\n",
              "      <td>3047.000000</td>\n",
              "      <td>3047.000000</td>\n",
              "      <td>3047.000000</td>\n",
              "    </tr>\n",
              "    <tr>\n",
              "      <th>mean</th>\n",
              "      <td>606.338544</td>\n",
              "      <td>185.965868</td>\n",
              "      <td>178.664063</td>\n",
              "      <td>448.268586</td>\n",
              "      <td>47063.281917</td>\n",
              "      <td>1.026374e+05</td>\n",
              "      <td>16.878175</td>\n",
              "      <td>155.399415</td>\n",
              "      <td>45.272333</td>\n",
              "      <td>39.570725</td>\n",
              "      <td>...</td>\n",
              "      <td>36.252642</td>\n",
              "      <td>19.240072</td>\n",
              "      <td>83.645286</td>\n",
              "      <td>9.107978</td>\n",
              "      <td>1.253965</td>\n",
              "      <td>1.983523</td>\n",
              "      <td>51.243872</td>\n",
              "      <td>5.640306</td>\n",
              "      <td>1.467017</td>\n",
              "      <td>2.084345</td>\n",
              "    </tr>\n",
              "    <tr>\n",
              "      <th>std</th>\n",
              "      <td>1416.356223</td>\n",
              "      <td>504.134286</td>\n",
              "      <td>27.751511</td>\n",
              "      <td>54.560733</td>\n",
              "      <td>12040.090836</td>\n",
              "      <td>3.290592e+05</td>\n",
              "      <td>6.409087</td>\n",
              "      <td>529.628366</td>\n",
              "      <td>45.304480</td>\n",
              "      <td>5.226017</td>\n",
              "      <td>...</td>\n",
              "      <td>7.841741</td>\n",
              "      <td>6.113041</td>\n",
              "      <td>16.380025</td>\n",
              "      <td>14.534538</td>\n",
              "      <td>2.610276</td>\n",
              "      <td>3.517710</td>\n",
              "      <td>6.572814</td>\n",
              "      <td>1.985816</td>\n",
              "      <td>0.498993</td>\n",
              "      <td>0.737185</td>\n",
              "    </tr>\n",
              "    <tr>\n",
              "      <th>min</th>\n",
              "      <td>6.000000</td>\n",
              "      <td>3.000000</td>\n",
              "      <td>59.700000</td>\n",
              "      <td>201.300000</td>\n",
              "      <td>22640.000000</td>\n",
              "      <td>8.270000e+02</td>\n",
              "      <td>3.200000</td>\n",
              "      <td>0.000000</td>\n",
              "      <td>22.300000</td>\n",
              "      <td>22.400000</td>\n",
              "      <td>...</td>\n",
              "      <td>11.200000</td>\n",
              "      <td>2.600000</td>\n",
              "      <td>10.199155</td>\n",
              "      <td>0.000000</td>\n",
              "      <td>0.000000</td>\n",
              "      <td>0.000000</td>\n",
              "      <td>22.992490</td>\n",
              "      <td>0.000000</td>\n",
              "      <td>1.000000</td>\n",
              "      <td>1.000000</td>\n",
              "    </tr>\n",
              "    <tr>\n",
              "      <th>25%</th>\n",
              "      <td>76.000000</td>\n",
              "      <td>28.000000</td>\n",
              "      <td>161.200000</td>\n",
              "      <td>420.300000</td>\n",
              "      <td>38882.500000</td>\n",
              "      <td>1.168400e+04</td>\n",
              "      <td>12.150000</td>\n",
              "      <td>0.000000</td>\n",
              "      <td>37.700000</td>\n",
              "      <td>36.350000</td>\n",
              "      <td>...</td>\n",
              "      <td>30.900000</td>\n",
              "      <td>14.850000</td>\n",
              "      <td>77.296180</td>\n",
              "      <td>0.620675</td>\n",
              "      <td>0.254199</td>\n",
              "      <td>0.295172</td>\n",
              "      <td>47.763063</td>\n",
              "      <td>4.521419</td>\n",
              "      <td>1.000000</td>\n",
              "      <td>2.000000</td>\n",
              "    </tr>\n",
              "    <tr>\n",
              "      <th>50%</th>\n",
              "      <td>171.000000</td>\n",
              "      <td>61.000000</td>\n",
              "      <td>178.100000</td>\n",
              "      <td>453.549422</td>\n",
              "      <td>45207.000000</td>\n",
              "      <td>2.664300e+04</td>\n",
              "      <td>15.900000</td>\n",
              "      <td>0.000000</td>\n",
              "      <td>41.000000</td>\n",
              "      <td>39.600000</td>\n",
              "      <td>...</td>\n",
              "      <td>36.300000</td>\n",
              "      <td>18.800000</td>\n",
              "      <td>90.059774</td>\n",
              "      <td>2.247576</td>\n",
              "      <td>0.549812</td>\n",
              "      <td>0.826185</td>\n",
              "      <td>51.669941</td>\n",
              "      <td>5.381478</td>\n",
              "      <td>1.000000</td>\n",
              "      <td>2.000000</td>\n",
              "    </tr>\n",
              "    <tr>\n",
              "      <th>75%</th>\n",
              "      <td>518.000000</td>\n",
              "      <td>149.000000</td>\n",
              "      <td>195.200000</td>\n",
              "      <td>480.850000</td>\n",
              "      <td>52492.000000</td>\n",
              "      <td>6.867100e+04</td>\n",
              "      <td>20.400000</td>\n",
              "      <td>83.650776</td>\n",
              "      <td>44.000000</td>\n",
              "      <td>42.500000</td>\n",
              "      <td>...</td>\n",
              "      <td>41.550000</td>\n",
              "      <td>23.100000</td>\n",
              "      <td>95.451693</td>\n",
              "      <td>10.509732</td>\n",
              "      <td>1.221037</td>\n",
              "      <td>2.177960</td>\n",
              "      <td>55.395132</td>\n",
              "      <td>6.493677</td>\n",
              "      <td>2.000000</td>\n",
              "      <td>3.000000</td>\n",
              "    </tr>\n",
              "    <tr>\n",
              "      <th>max</th>\n",
              "      <td>38150.000000</td>\n",
              "      <td>14010.000000</td>\n",
              "      <td>362.800000</td>\n",
              "      <td>1206.900000</td>\n",
              "      <td>125635.000000</td>\n",
              "      <td>1.017029e+07</td>\n",
              "      <td>47.400000</td>\n",
              "      <td>9762.308998</td>\n",
              "      <td>624.000000</td>\n",
              "      <td>64.700000</td>\n",
              "      <td>...</td>\n",
              "      <td>65.100000</td>\n",
              "      <td>46.600000</td>\n",
              "      <td>100.000000</td>\n",
              "      <td>85.947799</td>\n",
              "      <td>42.619425</td>\n",
              "      <td>41.930251</td>\n",
              "      <td>78.075397</td>\n",
              "      <td>21.326165</td>\n",
              "      <td>2.000000</td>\n",
              "      <td>3.000000</td>\n",
              "    </tr>\n",
              "  </tbody>\n",
              "</table>\n",
              "<p>8 rows × 34 columns</p>\n",
              "</div>"
            ],
            "text/plain": [
              "        avgAnnCount  avgDeathsPerYear  TARGET_deathRate  incidenceRate  \\\n",
              "count   3047.000000       3047.000000       3047.000000    3047.000000   \n",
              "mean     606.338544        185.965868        178.664063     448.268586   \n",
              "std     1416.356223        504.134286         27.751511      54.560733   \n",
              "min        6.000000          3.000000         59.700000     201.300000   \n",
              "25%       76.000000         28.000000        161.200000     420.300000   \n",
              "50%      171.000000         61.000000        178.100000     453.549422   \n",
              "75%      518.000000        149.000000        195.200000     480.850000   \n",
              "max    38150.000000      14010.000000        362.800000    1206.900000   \n",
              "\n",
              "           medIncome    popEst2015  povertyPercent  studyPerCap    MedianAge  \\\n",
              "count    3047.000000  3.047000e+03     3047.000000  3047.000000  3047.000000   \n",
              "mean    47063.281917  1.026374e+05       16.878175   155.399415    45.272333   \n",
              "std     12040.090836  3.290592e+05        6.409087   529.628366    45.304480   \n",
              "min     22640.000000  8.270000e+02        3.200000     0.000000    22.300000   \n",
              "25%     38882.500000  1.168400e+04       12.150000     0.000000    37.700000   \n",
              "50%     45207.000000  2.664300e+04       15.900000     0.000000    41.000000   \n",
              "75%     52492.000000  6.867100e+04       20.400000    83.650776    44.000000   \n",
              "max    125635.000000  1.017029e+07       47.400000  9762.308998   624.000000   \n",
              "\n",
              "       MedianAgeMale  ...  PctPublicCoverage  PctPublicCoverageAlone  \\\n",
              "count    3047.000000  ...        3047.000000             3047.000000   \n",
              "mean       39.570725  ...          36.252642               19.240072   \n",
              "std         5.226017  ...           7.841741                6.113041   \n",
              "min        22.400000  ...          11.200000                2.600000   \n",
              "25%        36.350000  ...          30.900000               14.850000   \n",
              "50%        39.600000  ...          36.300000               18.800000   \n",
              "75%        42.500000  ...          41.550000               23.100000   \n",
              "max        64.700000  ...          65.100000               46.600000   \n",
              "\n",
              "          PctWhite     PctBlack     PctAsian  PctOtherRace  \\\n",
              "count  3047.000000  3047.000000  3047.000000   3047.000000   \n",
              "mean     83.645286     9.107978     1.253965      1.983523   \n",
              "std      16.380025    14.534538     2.610276      3.517710   \n",
              "min      10.199155     0.000000     0.000000      0.000000   \n",
              "25%      77.296180     0.620675     0.254199      0.295172   \n",
              "50%      90.059774     2.247576     0.549812      0.826185   \n",
              "75%      95.451693    10.509732     1.221037      2.177960   \n",
              "max     100.000000    85.947799    42.619425     41.930251   \n",
              "\n",
              "       PctMarriedHouseholds    BirthRate  TARGET_logistic  TARGET_softmax  \n",
              "count           3047.000000  3047.000000      3047.000000     3047.000000  \n",
              "mean              51.243872     5.640306         1.467017        2.084345  \n",
              "std                6.572814     1.985816         0.498993        0.737185  \n",
              "min               22.992490     0.000000         1.000000        1.000000  \n",
              "25%               47.763063     4.521419         1.000000        2.000000  \n",
              "50%               51.669941     5.381478         1.000000        2.000000  \n",
              "75%               55.395132     6.493677         2.000000        3.000000  \n",
              "max               78.075397    21.326165         2.000000        3.000000  \n",
              "\n",
              "[8 rows x 34 columns]"
            ]
          },
          "execution_count": 845,
          "metadata": {},
          "output_type": "execute_result"
        }
      ],
      "source": [
        "# Deskripsi dan jumlah masing-masing atribut numerik\n",
        "print(\"Deskripsi dan jumlah masing-masing atribut numerik: \\n\")\n",
        "cancer_df.describe()"
      ]
    },
    {
      "cell_type": "code",
      "execution_count": 846,
      "metadata": {},
      "outputs": [
        {
          "name": "stdout",
          "output_type": "stream",
          "text": [
            "Deskripsi dan jumlah masing-masing atribut kategorik: \n",
            "\n"
          ]
        },
        {
          "data": {
            "text/html": [
              "<div>\n",
              "<style scoped>\n",
              "    .dataframe tbody tr th:only-of-type {\n",
              "        vertical-align: middle;\n",
              "    }\n",
              "\n",
              "    .dataframe tbody tr th {\n",
              "        vertical-align: top;\n",
              "    }\n",
              "\n",
              "    .dataframe thead th {\n",
              "        text-align: right;\n",
              "    }\n",
              "</style>\n",
              "<table border=\"1\" class=\"dataframe\">\n",
              "  <thead>\n",
              "    <tr style=\"text-align: right;\">\n",
              "      <th></th>\n",
              "      <th>binnedInc</th>\n",
              "      <th>Geography</th>\n",
              "    </tr>\n",
              "  </thead>\n",
              "  <tbody>\n",
              "    <tr>\n",
              "      <th>count</th>\n",
              "      <td>3047</td>\n",
              "      <td>3047</td>\n",
              "    </tr>\n",
              "    <tr>\n",
              "      <th>unique</th>\n",
              "      <td>10</td>\n",
              "      <td>3047</td>\n",
              "    </tr>\n",
              "    <tr>\n",
              "      <th>top</th>\n",
              "      <td>(54545.6, 61494.5]</td>\n",
              "      <td>Kitsap County, Washington</td>\n",
              "    </tr>\n",
              "    <tr>\n",
              "      <th>freq</th>\n",
              "      <td>306</td>\n",
              "      <td>1</td>\n",
              "    </tr>\n",
              "  </tbody>\n",
              "</table>\n",
              "</div>"
            ],
            "text/plain": [
              "                 binnedInc                  Geography\n",
              "count                 3047                       3047\n",
              "unique                  10                       3047\n",
              "top     (54545.6, 61494.5]  Kitsap County, Washington\n",
              "freq                   306                          1"
            ]
          },
          "execution_count": 846,
          "metadata": {},
          "output_type": "execute_result"
        }
      ],
      "source": [
        "# Deskripsi dan jumlah masing-masing atribut kategorik\n",
        "print(\"Deskripsi dan jumlah masing-masing atribut kategorik: \\n\")\n",
        "cancer_df.describe(include=np)"
      ]
    },
    {
      "cell_type": "code",
      "execution_count": 847,
      "metadata": {},
      "outputs": [
        {
          "name": "stdout",
          "output_type": "stream",
          "text": [
            "Missing value pada cancer_df: \n",
            "\n",
            "                         Total   Percent\n",
            "PctSomeCol18_24           2285  0.749918\n",
            "PctPrivateCoverageAlone    609  0.199869\n",
            "PctEmployed16_Over         152  0.049885\n"
          ]
        }
      ],
      "source": [
        "def cek_null(df):\n",
        "    \"\"\"\n",
        "    Fungsi untuk mengecek null/missing value\n",
        "    Courtesy Tutorial Lab 3\n",
        "    \"\"\"\n",
        "    col_na = df.isnull().sum().sort_values(ascending=False)\n",
        "    percent = col_na / len(df)\n",
        "\n",
        "    missing_data = pd.concat([col_na, percent], axis=1, keys=['Total', 'Percent'])\n",
        "    print(missing_data[missing_data['Total'] > 0])\n",
        "\n",
        "# Mengecek missing value pada cancer_df\n",
        "print(\"Missing value pada cancer_df: \\n\")\n",
        "cek_null(cancer_df)"
      ]
    },
    {
      "cell_type": "code",
      "execution_count": 848,
      "metadata": {},
      "outputs": [
        {
          "name": "stdout",
          "output_type": "stream",
          "text": [
            "Jumlah duplicates pada cancer_df: \n",
            "\n"
          ]
        },
        {
          "data": {
            "text/plain": [
              "0"
            ]
          },
          "execution_count": 848,
          "metadata": {},
          "output_type": "execute_result"
        }
      ],
      "source": [
        "# Menghitung jumlah duplicates pada setiap kolom\n",
        "print(\"Jumlah duplicates pada cancer_df: \\n\")\n",
        "cancer_df.duplicated(keep=False).sum()"
      ]
    },
    {
      "cell_type": "code",
      "execution_count": 849,
      "metadata": {},
      "outputs": [
        {
          "name": "stdout",
          "output_type": "stream",
          "text": [
            "Jumlah outliers pada setiap atribut/kolom: \n",
            "\n"
          ]
        },
        {
          "data": {
            "text/plain": [
              "(3047, 36)"
            ]
          },
          "metadata": {},
          "output_type": "display_data"
        },
        {
          "name": "stdout",
          "output_type": "stream",
          "text": [
            "AvgHouseholdSize           201\n",
            "BirthRate                  164\n",
            "Geography                    0\n",
            "MedianAge                   93\n",
            "MedianAgeFemale             78\n",
            "MedianAgeMale               89\n",
            "PctAsian                   323\n",
            "PctBachDeg18_24             94\n",
            "PctBachDeg25_Over           82\n",
            "PctBlack                   395\n",
            "PctEmpPrivCoverage           9\n",
            "PctEmployed16_Over          20\n",
            "PctHS18_24                  52\n",
            "PctHS25_Over                31\n",
            "PctMarriedHouseholds       100\n",
            "PctNoHS18_24                69\n",
            "PctOtherRace               297\n",
            "PctPrivateCoverage          21\n",
            "PctPrivateCoverageAlone      4\n",
            "PctPublicCoverage           18\n",
            "PctPublicCoverageAlone      36\n",
            "PctSomeCol18_24             31\n",
            "PctUnemployed16_Over        68\n",
            "PctWhite                   174\n",
            "PercentMarried              68\n",
            "TARGET_deathRate            64\n",
            "TARGET_logistic              0\n",
            "TARGET_softmax               0\n",
            "avgAnnCount                461\n",
            "avgDeathsPerYear           349\n",
            "binnedInc                    0\n",
            "incidenceRate               93\n",
            "medIncome                  122\n",
            "popEst2015                 412\n",
            "povertyPercent              69\n",
            "studyPerCap                504\n",
            "dtype: int64\n"
          ]
        },
        {
          "name": "stderr",
          "output_type": "stream",
          "text": [
            "/var/folders/4y/f7n6cknn4dd3pvy303271wjh0000gn/T/ipykernel_94215/3522142349.py:8: FutureWarning: Automatic reindexing on DataFrame vs Series comparisons is deprecated and will raise ValueError in a future version.  Do `left, right = left.align(right, axis=1, copy=False)` before e.g. `left == right`\n",
            "  outlier_data = ((cancer_df < (Q1 - 1.5 * IQR)) | (cancer_df > (Q3 + 1.5 * IQR))).sum()\n"
          ]
        }
      ],
      "source": [
        "# Menghitung jumlah outliers pada setiap kolom\n",
        "Q1 = cancer_df.quantile(0.25)\n",
        "Q3 = cancer_df.quantile(0.75)\n",
        "IQR = Q3 - Q1\n",
        "\n",
        "print(\"Jumlah outliers pada setiap atribut/kolom: \\n\")\n",
        "display(cancer_df.shape)\n",
        "outlier_data = ((cancer_df < (Q1 - 1.5 * IQR)) | (cancer_df > (Q3 + 1.5 * IQR))).sum()\n",
        "pprint(outlier_data)"
      ]
    },
    {
      "cell_type": "markdown",
      "metadata": {
        "id": "64g80fVqBW4U"
      },
      "source": [
        "### Nomor 2\n",
        "[5] Berdasarkan eksplorasi anda pada nomor 1, lakukan data preparation hingga data tersebut menurut anda cukup “clean” dan dapat memberikan hasil regresi yang maksimal."
      ]
    },
    {
      "cell_type": "markdown",
      "metadata": {},
      "source": [
        "**Memproses null/missing value**\n",
        "\n",
        "Missing value ditemukan pada tiga kolom, yaitu `PctSomeCol18_24`, `PctPrivateCoverageAlone`, `PctEmployed16_Over`.\n",
        "\n",
        "Pada fitur `PctSomeCol18_24`, akan didrop karena nilai missing value yang besar (77%). Untuk sisanya, pendekatan processing untuk missing value yang dipilih adalah pendekatan data imputation dengan menggunakan mean."
      ]
    },
    {
      "cell_type": "code",
      "execution_count": 850,
      "metadata": {
        "id": "qCETRGT7BZ0t"
      },
      "outputs": [
        {
          "name": "stdout",
          "output_type": "stream",
          "text": [
            "Kolom dengan NaN/Missing Value setelah diproses: \n",
            "\n",
            "Empty DataFrame\n",
            "Columns: [Total, Percent]\n",
            "Index: []\n"
          ]
        },
        {
          "data": {
            "text/plain": [
              "(3047, 35)"
            ]
          },
          "metadata": {},
          "output_type": "display_data"
        }
      ],
      "source": [
        "# Mendrop kolom PctSomeCol18_24\n",
        "cancer_df_processed = cancer_df.copy(deep=True)\n",
        "cancer_df_processed = cancer_df_processed.drop(['PctSomeCol18_24'], axis=1)\n",
        "\n",
        "# Data imputation w/ Mean untuk kolom PctPrivateCoverageAlone dan PctEmployed16_Over\n",
        "cancer_df_processed['PctPrivateCoverageAlone'].fillna((\n",
        "    cancer_df_processed['PctPrivateCoverageAlone'].mean()),\n",
        "    inplace=True\n",
        ")\n",
        "cancer_df_processed['PctEmployed16_Over'].fillna((\n",
        "    cancer_df_processed['PctEmployed16_Over'].mean()),\n",
        "    inplace=True\n",
        ")\n",
        "\n",
        "print(\"Kolom dengan NaN/Missing Value setelah diproses: \\n\")\n",
        "cek_null(cancer_df_processed)\n",
        "display(cancer_df_processed.shape)"
      ]
    },
    {
      "cell_type": "markdown",
      "metadata": {},
      "source": [
        "**Special Treatment untuk Geography dan binnedInc**"
      ]
    },
    {
      "cell_type": "code",
      "execution_count": 851,
      "metadata": {},
      "outputs": [],
      "source": [
        "cancer_df_processed = cancer_df_processed.drop(['Geography'], axis=1)\n",
        "\n",
        "label_encoder = LabelEncoder()\n",
        "cancer_df_processed['binnedInc'] = label_encoder.fit_transform(cancer_df_processed['binnedInc'])"
      ]
    },
    {
      "cell_type": "markdown",
      "metadata": {},
      "source": [
        "**Memproses Outlier**\n",
        "\n",
        "Melihat dari data outlier di atas, terdapat 3 outlier yang nilainya besar (di atas 15%), yaitu `studyPerCap` dan `avgAnnCount`. Maka, kedua kolom tersebut akan didrop agar mempertahankan row pada kolom yang lainnya."
      ]
    },
    {
      "cell_type": "code",
      "execution_count": 852,
      "metadata": {},
      "outputs": [
        {
          "name": "stdout",
          "output_type": "stream",
          "text": [
            "Data jumlah outliers masing-masing kolom setelah diproses: \n",
            "\n"
          ]
        },
        {
          "name": "stderr",
          "output_type": "stream",
          "text": [
            "/var/folders/4y/f7n6cknn4dd3pvy303271wjh0000gn/T/ipykernel_94215/3791826523.py:4: FutureWarning: Automatic reindexing on DataFrame vs Series comparisons is deprecated and will raise ValueError in a future version.  Do `left, right = left.align(right, axis=1, copy=False)` before e.g. `left == right`\n",
            "  outlier_data = ((cancer_df_processed < (Q1 - 1.5 * IQR)) | (cancer_df_processed > (Q3 + 1.5 * IQR))).sum()\n"
          ]
        },
        {
          "data": {
            "text/plain": [
              "AvgHouseholdSize           201\n",
              "BirthRate                  164\n",
              "MedianAge                   93\n",
              "MedianAgeFemale             78\n",
              "MedianAgeMale               89\n",
              "PctAsian                   323\n",
              "PctBachDeg18_24             94\n",
              "PctBachDeg25_Over           82\n",
              "PctBlack                   395\n",
              "PctEmpPrivCoverage           9\n",
              "PctEmployed16_Over          20\n",
              "PctHS18_24                  52\n",
              "PctHS25_Over                31\n",
              "PctMarriedHouseholds       100\n",
              "PctNoHS18_24                69\n",
              "PctOtherRace               297\n",
              "PctPrivateCoverage          21\n",
              "PctPrivateCoverageAlone      4\n",
              "PctPublicCoverage           18\n",
              "PctPublicCoverageAlone      36\n",
              "PctSomeCol18_24              0\n",
              "PctUnemployed16_Over        68\n",
              "PctWhite                   174\n",
              "PercentMarried              68\n",
              "TARGET_deathRate            64\n",
              "TARGET_logistic              0\n",
              "TARGET_softmax               0\n",
              "avgAnnCount                  0\n",
              "avgDeathsPerYear           349\n",
              "binnedInc                    0\n",
              "incidenceRate               93\n",
              "medIncome                  122\n",
              "popEst2015                 412\n",
              "povertyPercent              69\n",
              "studyPerCap                  0\n",
              "dtype: int64"
            ]
          },
          "metadata": {},
          "output_type": "display_data"
        },
        {
          "data": {
            "text/plain": [
              "(3047, 32)"
            ]
          },
          "metadata": {},
          "output_type": "display_data"
        }
      ],
      "source": [
        "cancer_df_processed = cancer_df_processed.drop(['studyPerCap', 'avgAnnCount'], axis=1)\n",
        "\n",
        "print(\"Data jumlah outliers masing-masing kolom setelah diproses: \\n\")\n",
        "outlier_data = ((cancer_df_processed < (Q1 - 1.5 * IQR)) | (cancer_df_processed > (Q3 + 1.5 * IQR))).sum()\n",
        "display(outlier_data)\n",
        "display(cancer_df_processed.shape)"
      ]
    },
    {
      "cell_type": "markdown",
      "metadata": {},
      "source": [
        "~~Jadi ngurang setengah datasetnya :(~~"
      ]
    },
    {
      "cell_type": "markdown",
      "metadata": {
        "id": "stkrtywMBaPo"
      },
      "source": [
        "### Nomor 3\n",
        "[10] Menurut Anda, apakah perlu dilakukan normalisasi terhadap data sebelum pemrosesan lebih lanjut, atau cukup menggunakan data asli? Jika ya, bentuk normalisasi apa yang tepat digunakan pada data? Jelaskan secara singkat alasan Anda!"
      ]
    },
    {
      "cell_type": "markdown",
      "metadata": {},
      "source": [
        "Dalam kasus ini, normalisasi akan berguna untuk mensejajarkan nilai antar atribut numerik yang mana terjadi ketimpangan pada antar kolomnya.\n",
        "\n",
        "Berdasarkan hasil preprocessing di atas (meskipun sudah dilakukan preprop, tapi masih ada outliers di beberapa kolom meskipun tidak dominan), pendekatan normalisasi yang paling cocok adalah `StandardScaler` sebagaimana yang tertera pada penjelasan use case masing-masing normalisasi di Tutorial Lab 3."
      ]
    },
    {
      "cell_type": "code",
      "execution_count": 853,
      "metadata": {},
      "outputs": [],
      "source": [
        "# Mengekstrak target dari cancer_df_preprocessed\n",
        "cancer_df_processed_no_target = cancer_df_processed.drop(['TARGET_deathRate', 'TARGET_logistic', 'TARGET_softmax'], axis=1)\n",
        "\n",
        "standard_scaler = StandardScaler()\n",
        "cancer_std = standard_scaler.fit_transform(cancer_df_processed_no_target)"
      ]
    },
    {
      "cell_type": "code",
      "execution_count": 854,
      "metadata": {},
      "outputs": [
        {
          "data": {
            "text/html": [
              "<div>\n",
              "<style scoped>\n",
              "    .dataframe tbody tr th:only-of-type {\n",
              "        vertical-align: middle;\n",
              "    }\n",
              "\n",
              "    .dataframe tbody tr th {\n",
              "        vertical-align: top;\n",
              "    }\n",
              "\n",
              "    .dataframe thead th {\n",
              "        text-align: right;\n",
              "    }\n",
              "</style>\n",
              "<table border=\"1\" class=\"dataframe\">\n",
              "  <thead>\n",
              "    <tr style=\"text-align: right;\">\n",
              "      <th></th>\n",
              "      <th>avgDeathsPerYear</th>\n",
              "      <th>incidenceRate</th>\n",
              "      <th>medIncome</th>\n",
              "      <th>popEst2015</th>\n",
              "      <th>povertyPercent</th>\n",
              "      <th>binnedInc</th>\n",
              "      <th>MedianAge</th>\n",
              "      <th>MedianAgeMale</th>\n",
              "      <th>MedianAgeFemale</th>\n",
              "      <th>AvgHouseholdSize</th>\n",
              "      <th>...</th>\n",
              "      <th>PctPrivateCoverageAlone</th>\n",
              "      <th>PctEmpPrivCoverage</th>\n",
              "      <th>PctPublicCoverage</th>\n",
              "      <th>PctPublicCoverageAlone</th>\n",
              "      <th>PctWhite</th>\n",
              "      <th>PctBlack</th>\n",
              "      <th>PctAsian</th>\n",
              "      <th>PctOtherRace</th>\n",
              "      <th>PctMarriedHouseholds</th>\n",
              "      <th>BirthRate</th>\n",
              "    </tr>\n",
              "  </thead>\n",
              "  <tbody>\n",
              "    <tr>\n",
              "      <th>0</th>\n",
              "      <td>0.561518</td>\n",
              "      <td>0.761321</td>\n",
              "      <td>1.232312</td>\n",
              "      <td>0.478696</td>\n",
              "      <td>-0.886102</td>\n",
              "      <td>1.218383</td>\n",
              "      <td>-0.131848</td>\n",
              "      <td>-0.511128</td>\n",
              "      <td>-0.084151</td>\n",
              "      <td>0.140614</td>\n",
              "      <td>...</td>\n",
              "      <td>0.000000</td>\n",
              "      <td>0.042734</td>\n",
              "      <td>-0.427608</td>\n",
              "      <td>-0.857336</td>\n",
              "      <td>-0.113862</td>\n",
              "      <td>-0.448196</td>\n",
              "      <td>1.367088</td>\n",
              "      <td>-0.039818</td>\n",
              "      <td>0.245324</td>\n",
              "      <td>0.241011</td>\n",
              "    </tr>\n",
              "    <tr>\n",
              "      <th>1</th>\n",
              "      <td>-0.230067</td>\n",
              "      <td>-0.672179</td>\n",
              "      <td>0.088363</td>\n",
              "      <td>-0.180448</td>\n",
              "      <td>0.268698</td>\n",
              "      <td>0.173418</td>\n",
              "      <td>-0.270930</td>\n",
              "      <td>-1.410622</td>\n",
              "      <td>-1.595872</td>\n",
              "      <td>-0.325473</td>\n",
              "      <td>...</td>\n",
              "      <td>0.592879</td>\n",
              "      <td>0.254461</td>\n",
              "      <td>-0.657187</td>\n",
              "      <td>-0.644641</td>\n",
              "      <td>0.340912</td>\n",
              "      <td>-0.560060</td>\n",
              "      <td>0.380201</td>\n",
              "      <td>0.499790</td>\n",
              "      <td>-0.893428</td>\n",
              "      <td>-0.658382</td>\n",
              "    </tr>\n",
              "    <tr>\n",
              "      <th>2</th>\n",
              "      <td>-0.269746</td>\n",
              "      <td>-1.806881</td>\n",
              "      <td>0.189790</td>\n",
              "      <td>-0.248055</td>\n",
              "      <td>-0.355519</td>\n",
              "      <td>0.173418</td>\n",
              "      <td>-0.006012</td>\n",
              "      <td>0.847682</td>\n",
              "      <td>0.690607</td>\n",
              "      <td>0.327049</td>\n",
              "      <td>...</td>\n",
              "      <td>-0.549357</td>\n",
              "      <td>-0.666550</td>\n",
              "      <td>0.745793</td>\n",
              "      <td>0.304306</td>\n",
              "      <td>0.444328</td>\n",
              "      <td>-0.575848</td>\n",
              "      <td>-0.301959</td>\n",
              "      <td>0.217176</td>\n",
              "      <td>0.487085</td>\n",
              "      <td>-0.962391</td>\n",
              "    </tr>\n",
              "    <tr>\n",
              "      <th>3</th>\n",
              "      <td>0.031811</td>\n",
              "      <td>-0.327553</td>\n",
              "      <td>-0.234279</td>\n",
              "      <td>-0.081322</td>\n",
              "      <td>0.034617</td>\n",
              "      <td>-0.523226</td>\n",
              "      <td>-0.054580</td>\n",
              "      <td>0.503195</td>\n",
              "      <td>0.237090</td>\n",
              "      <td>0.094006</td>\n",
              "      <td>...</td>\n",
              "      <td>-0.904226</td>\n",
              "      <td>-0.655964</td>\n",
              "      <td>1.153933</td>\n",
              "      <td>0.942391</td>\n",
              "      <td>0.494549</td>\n",
              "      <td>-0.572892</td>\n",
              "      <td>-0.035483</td>\n",
              "      <td>-0.176530</td>\n",
              "      <td>-0.033835</td>\n",
              "      <td>-0.522020</td>\n",
              "    </tr>\n",
              "    <tr>\n",
              "      <th>4</th>\n",
              "      <td>-0.317360</td>\n",
              "      <td>-1.799549</td>\n",
              "      <td>0.240214</td>\n",
              "      <td>-0.280592</td>\n",
              "      <td>-0.683232</td>\n",
              "      <td>0.173418</td>\n",
              "      <td>0.066840</td>\n",
              "      <td>1.574933</td>\n",
              "      <td>1.276399</td>\n",
              "      <td>-0.325473</td>\n",
              "      <td>...</td>\n",
              "      <td>-0.504998</td>\n",
              "      <td>-0.645377</td>\n",
              "      <td>0.988126</td>\n",
              "      <td>0.566084</td>\n",
              "      <td>0.638610</td>\n",
              "      <td>-0.608154</td>\n",
              "      <td>-0.225352</td>\n",
              "      <td>-0.424035</td>\n",
              "      <td>0.423570</td>\n",
              "      <td>0.582401</td>\n",
              "    </tr>\n",
              "  </tbody>\n",
              "</table>\n",
              "<p>5 rows × 29 columns</p>\n",
              "</div>"
            ],
            "text/plain": [
              "   avgDeathsPerYear  incidenceRate  medIncome  popEst2015  povertyPercent  \\\n",
              "0          0.561518       0.761321   1.232312    0.478696       -0.886102   \n",
              "1         -0.230067      -0.672179   0.088363   -0.180448        0.268698   \n",
              "2         -0.269746      -1.806881   0.189790   -0.248055       -0.355519   \n",
              "3          0.031811      -0.327553  -0.234279   -0.081322        0.034617   \n",
              "4         -0.317360      -1.799549   0.240214   -0.280592       -0.683232   \n",
              "\n",
              "   binnedInc  MedianAge  MedianAgeMale  MedianAgeFemale  AvgHouseholdSize  \\\n",
              "0   1.218383  -0.131848      -0.511128        -0.084151          0.140614   \n",
              "1   0.173418  -0.270930      -1.410622        -1.595872         -0.325473   \n",
              "2   0.173418  -0.006012       0.847682         0.690607          0.327049   \n",
              "3  -0.523226  -0.054580       0.503195         0.237090          0.094006   \n",
              "4   0.173418   0.066840       1.574933         1.276399         -0.325473   \n",
              "\n",
              "   ...  PctPrivateCoverageAlone  PctEmpPrivCoverage  PctPublicCoverage  \\\n",
              "0  ...                 0.000000            0.042734          -0.427608   \n",
              "1  ...                 0.592879            0.254461          -0.657187   \n",
              "2  ...                -0.549357           -0.666550           0.745793   \n",
              "3  ...                -0.904226           -0.655964           1.153933   \n",
              "4  ...                -0.504998           -0.645377           0.988126   \n",
              "\n",
              "   PctPublicCoverageAlone  PctWhite  PctBlack  PctAsian  PctOtherRace  \\\n",
              "0               -0.857336 -0.113862 -0.448196  1.367088     -0.039818   \n",
              "1               -0.644641  0.340912 -0.560060  0.380201      0.499790   \n",
              "2                0.304306  0.444328 -0.575848 -0.301959      0.217176   \n",
              "3                0.942391  0.494549 -0.572892 -0.035483     -0.176530   \n",
              "4                0.566084  0.638610 -0.608154 -0.225352     -0.424035   \n",
              "\n",
              "   PctMarriedHouseholds  BirthRate  \n",
              "0              0.245324   0.241011  \n",
              "1             -0.893428  -0.658382  \n",
              "2              0.487085  -0.962391  \n",
              "3             -0.033835  -0.522020  \n",
              "4              0.423570   0.582401  \n",
              "\n",
              "[5 rows x 29 columns]"
            ]
          },
          "metadata": {},
          "output_type": "display_data"
        }
      ],
      "source": [
        "cancer_df_normalized = pd.DataFrame(cancer_std, columns=cancer_df_processed_no_target.columns)\n",
        "display(cancer_df_normalized.head(5))"
      ]
    },
    {
      "cell_type": "markdown",
      "metadata": {
        "id": "elZ3vXibBCnx"
      },
      "source": [
        "## **Regresi**\n",
        "(Penggunaan library diperbolehkan). Gunakan TARGET_deathRate sebagai kolom target."
      ]
    },
    {
      "cell_type": "code",
      "execution_count": 855,
      "metadata": {},
      "outputs": [
        {
          "data": {
            "text/html": [
              "<div>\n",
              "<style scoped>\n",
              "    .dataframe tbody tr th:only-of-type {\n",
              "        vertical-align: middle;\n",
              "    }\n",
              "\n",
              "    .dataframe tbody tr th {\n",
              "        vertical-align: top;\n",
              "    }\n",
              "\n",
              "    .dataframe thead th {\n",
              "        text-align: right;\n",
              "    }\n",
              "</style>\n",
              "<table border=\"1\" class=\"dataframe\">\n",
              "  <thead>\n",
              "    <tr style=\"text-align: right;\">\n",
              "      <th></th>\n",
              "      <th>avgDeathsPerYear</th>\n",
              "      <th>incidenceRate</th>\n",
              "      <th>medIncome</th>\n",
              "      <th>popEst2015</th>\n",
              "      <th>povertyPercent</th>\n",
              "      <th>binnedInc</th>\n",
              "      <th>MedianAge</th>\n",
              "      <th>MedianAgeMale</th>\n",
              "      <th>MedianAgeFemale</th>\n",
              "      <th>AvgHouseholdSize</th>\n",
              "      <th>...</th>\n",
              "      <th>PctPrivateCoverageAlone</th>\n",
              "      <th>PctEmpPrivCoverage</th>\n",
              "      <th>PctPublicCoverage</th>\n",
              "      <th>PctPublicCoverageAlone</th>\n",
              "      <th>PctWhite</th>\n",
              "      <th>PctBlack</th>\n",
              "      <th>PctAsian</th>\n",
              "      <th>PctOtherRace</th>\n",
              "      <th>PctMarriedHouseholds</th>\n",
              "      <th>BirthRate</th>\n",
              "    </tr>\n",
              "  </thead>\n",
              "  <tbody>\n",
              "    <tr>\n",
              "      <th>0</th>\n",
              "      <td>0.561518</td>\n",
              "      <td>0.761321</td>\n",
              "      <td>1.232312</td>\n",
              "      <td>0.478696</td>\n",
              "      <td>-0.886102</td>\n",
              "      <td>1.218383</td>\n",
              "      <td>-0.131848</td>\n",
              "      <td>-0.511128</td>\n",
              "      <td>-0.084151</td>\n",
              "      <td>0.140614</td>\n",
              "      <td>...</td>\n",
              "      <td>0.000000</td>\n",
              "      <td>0.042734</td>\n",
              "      <td>-0.427608</td>\n",
              "      <td>-0.857336</td>\n",
              "      <td>-0.113862</td>\n",
              "      <td>-0.448196</td>\n",
              "      <td>1.367088</td>\n",
              "      <td>-0.039818</td>\n",
              "      <td>0.245324</td>\n",
              "      <td>0.241011</td>\n",
              "    </tr>\n",
              "    <tr>\n",
              "      <th>1</th>\n",
              "      <td>-0.230067</td>\n",
              "      <td>-0.672179</td>\n",
              "      <td>0.088363</td>\n",
              "      <td>-0.180448</td>\n",
              "      <td>0.268698</td>\n",
              "      <td>0.173418</td>\n",
              "      <td>-0.270930</td>\n",
              "      <td>-1.410622</td>\n",
              "      <td>-1.595872</td>\n",
              "      <td>-0.325473</td>\n",
              "      <td>...</td>\n",
              "      <td>0.592879</td>\n",
              "      <td>0.254461</td>\n",
              "      <td>-0.657187</td>\n",
              "      <td>-0.644641</td>\n",
              "      <td>0.340912</td>\n",
              "      <td>-0.560060</td>\n",
              "      <td>0.380201</td>\n",
              "      <td>0.499790</td>\n",
              "      <td>-0.893428</td>\n",
              "      <td>-0.658382</td>\n",
              "    </tr>\n",
              "    <tr>\n",
              "      <th>2</th>\n",
              "      <td>-0.269746</td>\n",
              "      <td>-1.806881</td>\n",
              "      <td>0.189790</td>\n",
              "      <td>-0.248055</td>\n",
              "      <td>-0.355519</td>\n",
              "      <td>0.173418</td>\n",
              "      <td>-0.006012</td>\n",
              "      <td>0.847682</td>\n",
              "      <td>0.690607</td>\n",
              "      <td>0.327049</td>\n",
              "      <td>...</td>\n",
              "      <td>-0.549357</td>\n",
              "      <td>-0.666550</td>\n",
              "      <td>0.745793</td>\n",
              "      <td>0.304306</td>\n",
              "      <td>0.444328</td>\n",
              "      <td>-0.575848</td>\n",
              "      <td>-0.301959</td>\n",
              "      <td>0.217176</td>\n",
              "      <td>0.487085</td>\n",
              "      <td>-0.962391</td>\n",
              "    </tr>\n",
              "    <tr>\n",
              "      <th>3</th>\n",
              "      <td>0.031811</td>\n",
              "      <td>-0.327553</td>\n",
              "      <td>-0.234279</td>\n",
              "      <td>-0.081322</td>\n",
              "      <td>0.034617</td>\n",
              "      <td>-0.523226</td>\n",
              "      <td>-0.054580</td>\n",
              "      <td>0.503195</td>\n",
              "      <td>0.237090</td>\n",
              "      <td>0.094006</td>\n",
              "      <td>...</td>\n",
              "      <td>-0.904226</td>\n",
              "      <td>-0.655964</td>\n",
              "      <td>1.153933</td>\n",
              "      <td>0.942391</td>\n",
              "      <td>0.494549</td>\n",
              "      <td>-0.572892</td>\n",
              "      <td>-0.035483</td>\n",
              "      <td>-0.176530</td>\n",
              "      <td>-0.033835</td>\n",
              "      <td>-0.522020</td>\n",
              "    </tr>\n",
              "    <tr>\n",
              "      <th>4</th>\n",
              "      <td>-0.317360</td>\n",
              "      <td>-1.799549</td>\n",
              "      <td>0.240214</td>\n",
              "      <td>-0.280592</td>\n",
              "      <td>-0.683232</td>\n",
              "      <td>0.173418</td>\n",
              "      <td>0.066840</td>\n",
              "      <td>1.574933</td>\n",
              "      <td>1.276399</td>\n",
              "      <td>-0.325473</td>\n",
              "      <td>...</td>\n",
              "      <td>-0.504998</td>\n",
              "      <td>-0.645377</td>\n",
              "      <td>0.988126</td>\n",
              "      <td>0.566084</td>\n",
              "      <td>0.638610</td>\n",
              "      <td>-0.608154</td>\n",
              "      <td>-0.225352</td>\n",
              "      <td>-0.424035</td>\n",
              "      <td>0.423570</td>\n",
              "      <td>0.582401</td>\n",
              "    </tr>\n",
              "    <tr>\n",
              "      <th>...</th>\n",
              "      <td>...</td>\n",
              "      <td>...</td>\n",
              "      <td>...</td>\n",
              "      <td>...</td>\n",
              "      <td>...</td>\n",
              "      <td>...</td>\n",
              "      <td>...</td>\n",
              "      <td>...</td>\n",
              "      <td>...</td>\n",
              "      <td>...</td>\n",
              "      <td>...</td>\n",
              "      <td>...</td>\n",
              "      <td>...</td>\n",
              "      <td>...</td>\n",
              "      <td>...</td>\n",
              "      <td>...</td>\n",
              "      <td>...</td>\n",
              "      <td>...</td>\n",
              "      <td>...</td>\n",
              "      <td>...</td>\n",
              "      <td>...</td>\n",
              "    </tr>\n",
              "    <tr>\n",
              "      <th>3042</th>\n",
              "      <td>-0.339183</td>\n",
              "      <td>0.096804</td>\n",
              "      <td>-0.008497</td>\n",
              "      <td>-0.292683</td>\n",
              "      <td>-0.698838</td>\n",
              "      <td>-0.174904</td>\n",
              "      <td>-0.023673</td>\n",
              "      <td>0.292675</td>\n",
              "      <td>1.257502</td>\n",
              "      <td>-0.931387</td>\n",
              "      <td>...</td>\n",
              "      <td>0.714865</td>\n",
              "      <td>0.360325</td>\n",
              "      <td>-0.580660</td>\n",
              "      <td>-0.988226</td>\n",
              "      <td>0.405165</td>\n",
              "      <td>-0.362660</td>\n",
              "      <td>-0.354945</td>\n",
              "      <td>-0.080479</td>\n",
              "      <td>-0.027396</td>\n",
              "      <td>1.074398</td>\n",
              "    </tr>\n",
              "    <tr>\n",
              "      <th>3043</th>\n",
              "      <td>-0.283633</td>\n",
              "      <td>0.096804</td>\n",
              "      <td>0.128402</td>\n",
              "      <td>-0.199144</td>\n",
              "      <td>0.299909</td>\n",
              "      <td>0.173418</td>\n",
              "      <td>-0.328329</td>\n",
              "      <td>-1.965629</td>\n",
              "      <td>-2.030492</td>\n",
              "      <td>0.979572</td>\n",
              "      <td>...</td>\n",
              "      <td>0.537430</td>\n",
              "      <td>0.783778</td>\n",
              "      <td>-0.950537</td>\n",
              "      <td>-0.251974</td>\n",
              "      <td>-0.484758</td>\n",
              "      <td>-0.466635</td>\n",
              "      <td>1.069394</td>\n",
              "      <td>3.453599</td>\n",
              "      <td>0.116265</td>\n",
              "      <td>1.282386</td>\n",
              "    </tr>\n",
              "    <tr>\n",
              "      <th>3044</th>\n",
              "      <td>-0.277682</td>\n",
              "      <td>0.096804</td>\n",
              "      <td>0.338983</td>\n",
              "      <td>-0.206992</td>\n",
              "      <td>-0.293097</td>\n",
              "      <td>0.521740</td>\n",
              "      <td>-0.317291</td>\n",
              "      <td>-1.735971</td>\n",
              "      <td>-2.068285</td>\n",
              "      <td>1.305833</td>\n",
              "      <td>...</td>\n",
              "      <td>0.459803</td>\n",
              "      <td>0.699087</td>\n",
              "      <td>-1.231133</td>\n",
              "      <td>-0.399224</td>\n",
              "      <td>0.263556</td>\n",
              "      <td>-0.467569</td>\n",
              "      <td>0.023950</td>\n",
              "      <td>1.051192</td>\n",
              "      <td>0.594984</td>\n",
              "      <td>1.092368</td>\n",
              "    </tr>\n",
              "    <tr>\n",
              "      <th>3045</th>\n",
              "      <td>-0.265778</td>\n",
              "      <td>0.096804</td>\n",
              "      <td>0.305838</td>\n",
              "      <td>-0.234125</td>\n",
              "      <td>-0.558389</td>\n",
              "      <td>0.173418</td>\n",
              "      <td>-0.138471</td>\n",
              "      <td>-0.511128</td>\n",
              "      <td>-0.310909</td>\n",
              "      <td>0.187223</td>\n",
              "      <td>...</td>\n",
              "      <td>0.870120</td>\n",
              "      <td>0.889642</td>\n",
              "      <td>-0.861256</td>\n",
              "      <td>-0.857336</td>\n",
              "      <td>0.565440</td>\n",
              "      <td>-0.545784</td>\n",
              "      <td>-0.386740</td>\n",
              "      <td>0.042156</td>\n",
              "      <td>1.101742</td>\n",
              "      <td>0.978415</td>\n",
              "    </tr>\n",
              "    <tr>\n",
              "      <th>3046</th>\n",
              "      <td>-0.273714</td>\n",
              "      <td>0.096804</td>\n",
              "      <td>-0.487641</td>\n",
              "      <td>-0.199411</td>\n",
              "      <td>-0.464756</td>\n",
              "      <td>-0.871547</td>\n",
              "      <td>-0.421050</td>\n",
              "      <td>-2.692880</td>\n",
              "      <td>-2.861939</td>\n",
              "      <td>0.816441</td>\n",
              "      <td>...</td>\n",
              "      <td>1.313707</td>\n",
              "      <td>-1.936911</td>\n",
              "      <td>-1.422448</td>\n",
              "      <td>-1.086393</td>\n",
              "      <td>-0.827189</td>\n",
              "      <td>0.514867</td>\n",
              "      <td>0.737126</td>\n",
              "      <td>-0.178289</td>\n",
              "      <td>0.729848</td>\n",
              "      <td>1.682918</td>\n",
              "    </tr>\n",
              "  </tbody>\n",
              "</table>\n",
              "<p>3047 rows × 29 columns</p>\n",
              "</div>"
            ],
            "text/plain": [
              "      avgDeathsPerYear  incidenceRate  medIncome  popEst2015  povertyPercent  \\\n",
              "0             0.561518       0.761321   1.232312    0.478696       -0.886102   \n",
              "1            -0.230067      -0.672179   0.088363   -0.180448        0.268698   \n",
              "2            -0.269746      -1.806881   0.189790   -0.248055       -0.355519   \n",
              "3             0.031811      -0.327553  -0.234279   -0.081322        0.034617   \n",
              "4            -0.317360      -1.799549   0.240214   -0.280592       -0.683232   \n",
              "...                ...            ...        ...         ...             ...   \n",
              "3042         -0.339183       0.096804  -0.008497   -0.292683       -0.698838   \n",
              "3043         -0.283633       0.096804   0.128402   -0.199144        0.299909   \n",
              "3044         -0.277682       0.096804   0.338983   -0.206992       -0.293097   \n",
              "3045         -0.265778       0.096804   0.305838   -0.234125       -0.558389   \n",
              "3046         -0.273714       0.096804  -0.487641   -0.199411       -0.464756   \n",
              "\n",
              "      binnedInc  MedianAge  MedianAgeMale  MedianAgeFemale  AvgHouseholdSize  \\\n",
              "0      1.218383  -0.131848      -0.511128        -0.084151          0.140614   \n",
              "1      0.173418  -0.270930      -1.410622        -1.595872         -0.325473   \n",
              "2      0.173418  -0.006012       0.847682         0.690607          0.327049   \n",
              "3     -0.523226  -0.054580       0.503195         0.237090          0.094006   \n",
              "4      0.173418   0.066840       1.574933         1.276399         -0.325473   \n",
              "...         ...        ...            ...              ...               ...   \n",
              "3042  -0.174904  -0.023673       0.292675         1.257502         -0.931387   \n",
              "3043   0.173418  -0.328329      -1.965629        -2.030492          0.979572   \n",
              "3044   0.521740  -0.317291      -1.735971        -2.068285          1.305833   \n",
              "3045   0.173418  -0.138471      -0.511128        -0.310909          0.187223   \n",
              "3046  -0.871547  -0.421050      -2.692880        -2.861939          0.816441   \n",
              "\n",
              "      ...  PctPrivateCoverageAlone  PctEmpPrivCoverage  PctPublicCoverage  \\\n",
              "0     ...                 0.000000            0.042734          -0.427608   \n",
              "1     ...                 0.592879            0.254461          -0.657187   \n",
              "2     ...                -0.549357           -0.666550           0.745793   \n",
              "3     ...                -0.904226           -0.655964           1.153933   \n",
              "4     ...                -0.504998           -0.645377           0.988126   \n",
              "...   ...                      ...                 ...                ...   \n",
              "3042  ...                 0.714865            0.360325          -0.580660   \n",
              "3043  ...                 0.537430            0.783778          -0.950537   \n",
              "3044  ...                 0.459803            0.699087          -1.231133   \n",
              "3045  ...                 0.870120            0.889642          -0.861256   \n",
              "3046  ...                 1.313707           -1.936911          -1.422448   \n",
              "\n",
              "      PctPublicCoverageAlone  PctWhite  PctBlack  PctAsian  PctOtherRace  \\\n",
              "0                  -0.857336 -0.113862 -0.448196  1.367088     -0.039818   \n",
              "1                  -0.644641  0.340912 -0.560060  0.380201      0.499790   \n",
              "2                   0.304306  0.444328 -0.575848 -0.301959      0.217176   \n",
              "3                   0.942391  0.494549 -0.572892 -0.035483     -0.176530   \n",
              "4                   0.566084  0.638610 -0.608154 -0.225352     -0.424035   \n",
              "...                      ...       ...       ...       ...           ...   \n",
              "3042               -0.988226  0.405165 -0.362660 -0.354945     -0.080479   \n",
              "3043               -0.251974 -0.484758 -0.466635  1.069394      3.453599   \n",
              "3044               -0.399224  0.263556 -0.467569  0.023950      1.051192   \n",
              "3045               -0.857336  0.565440 -0.545784 -0.386740      0.042156   \n",
              "3046               -1.086393 -0.827189  0.514867  0.737126     -0.178289   \n",
              "\n",
              "      PctMarriedHouseholds  BirthRate  \n",
              "0                 0.245324   0.241011  \n",
              "1                -0.893428  -0.658382  \n",
              "2                 0.487085  -0.962391  \n",
              "3                -0.033835  -0.522020  \n",
              "4                 0.423570   0.582401  \n",
              "...                    ...        ...  \n",
              "3042             -0.027396   1.074398  \n",
              "3043              0.116265   1.282386  \n",
              "3044              0.594984   1.092368  \n",
              "3045              1.101742   0.978415  \n",
              "3046              0.729848   1.682918  \n",
              "\n",
              "[3047 rows x 29 columns]"
            ]
          },
          "metadata": {},
          "output_type": "display_data"
        }
      ],
      "source": [
        "# Mengekstrak data dan target/label\n",
        "label = cancer_df_processed[['TARGET_deathRate']]\n",
        "data = cancer_df_normalized\n",
        "\n",
        "display(data)\n",
        "\n",
        "# Membagi dataset menjadi training set dan test set\n",
        "# dengan jumlah training set adalah sebanyak 80% dari data keseluruhan\n",
        "data_train, data_test, label_train, label_test = train_test_split(data, label, train_size=0.8)"
      ]
    },
    {
      "cell_type": "markdown",
      "metadata": {
        "id": "aj4_DFwQBgAO"
      },
      "source": [
        "### Nomor 1\n",
        "[15] Implementasikan Linear Regression pada data hasil preprocessing. Gunakan Method dari library sklearn.\n",
        "\n",
        "a. Tampilkan visualisasi hasil prediksi\n",
        "\n",
        "b. Tampilkan nilai MSE, MAE, RMSE, dan R2 Square"
      ]
    },
    {
      "cell_type": "markdown",
      "metadata": {},
      "source": [
        "**Menginisiasi model Linear Regression**"
      ]
    },
    {
      "cell_type": "code",
      "execution_count": 856,
      "metadata": {
        "id": "AxYs48QXBhkE"
      },
      "outputs": [
        {
          "data": {
            "text/plain": [
              "LinearRegression()"
            ]
          },
          "execution_count": 856,
          "metadata": {},
          "output_type": "execute_result"
        }
      ],
      "source": [
        "linear_reg_model = LinearRegression()\n",
        "linear_reg_model.fit(data_train, label_train)"
      ]
    },
    {
      "cell_type": "markdown",
      "metadata": {},
      "source": [
        "**Menampilkan visualisasi hasil prediksi**"
      ]
    },
    {
      "cell_type": "code",
      "execution_count": 857,
      "metadata": {},
      "outputs": [
        {
          "data": {
            "text/plain": [
              "<matplotlib.collections.PathCollection at 0x15182c4f0>"
            ]
          },
          "execution_count": 857,
          "metadata": {},
          "output_type": "execute_result"
        },
        {
          "data": {
            "image/png": "[encoded data removed]",
            "text/plain": [
              "<Figure size 432x288 with 1 Axes>"
            ]
          },
          "metadata": {
            "needs_background": "light"
          },
          "output_type": "display_data"
        }
      ],
      "source": [
        "linear_reg_prediction = linear_reg_model.predict(data_test)\n",
        "plt.scatter(label_test['TARGET_deathRate'], linear_reg_prediction)"
      ]
    },
    {
      "cell_type": "markdown",
      "metadata": {},
      "source": [
        "hmmm ternyata masih ada outlier"
      ]
    },
    {
      "cell_type": "markdown",
      "metadata": {},
      "source": [
        "**Menampilkan nilai MSE, MAE, RMSE, dan R2 Square**"
      ]
    },
    {
      "cell_type": "code",
      "execution_count": 858,
      "metadata": {},
      "outputs": [
        {
          "name": "stdout",
          "output_type": "stream",
          "text": [
            "MAE: 14.39816540363802\n",
            "MSE: 393.69600914577865\n",
            "RMSE: 19.841774344694546\n",
            "R2 SQUARE: 0.4841416961000903\n"
          ]
        }
      ],
      "source": [
        "MSE = metrics.mean_squared_error(label_test, linear_reg_prediction)\n",
        "MAE = metrics.mean_absolute_error(label_test, linear_reg_prediction)\n",
        "RMSE = np.sqrt(metrics.mean_squared_error(label_test, linear_reg_prediction))\n",
        "R2_SQUARE = metrics.r2_score(label_test, linear_reg_prediction)\n",
        "\n",
        "print(f'MAE: {MAE}')\n",
        "print(f'MSE: {MSE}')\n",
        "print(f'RMSE: {RMSE}')\n",
        "print(f'R2 SQUARE: {R2_SQUARE}')"
      ]
    },
    {
      "cell_type": "markdown",
      "metadata": {
        "id": "coDGghwsBoSX"
      },
      "source": [
        "### Nomor 2\n",
        "[15] Implementasikan Ridge Regression pada data hasil preprocessing. Gunakan method dari library sklearn.\n",
        "\n",
        "a. Tampilkan nilai R2 Square\n",
        "\n",
        "b. Coba ubah parameter alpha dengan nilai yang lebih besar dan analisis bagaimana hubungan perubahan parameter tersebut dengan kualitas hasil regresi.\n"
      ]
    },
    {
      "cell_type": "markdown",
      "metadata": {},
      "source": [
        "**Menginisiasi model Ridge Regression**"
      ]
    },
    {
      "cell_type": "code",
      "execution_count": 859,
      "metadata": {
        "id": "EK27FheIFqrt"
      },
      "outputs": [
        {
          "data": {
            "text/plain": [
              "Ridge(alpha=1)"
            ]
          },
          "execution_count": 859,
          "metadata": {},
          "output_type": "execute_result"
        }
      ],
      "source": [
        "# alpha=1 / default\n",
        "ridge_reg_model = Ridge(alpha=1)\n",
        "ridge_reg_model.fit(data_train, label_train)"
      ]
    },
    {
      "cell_type": "markdown",
      "metadata": {},
      "source": [
        "**Menampilkan nilai R2 Square**"
      ]
    },
    {
      "cell_type": "code",
      "execution_count": 860,
      "metadata": {},
      "outputs": [
        {
          "name": "stdout",
          "output_type": "stream",
          "text": [
            "R2 SQUARE: 0.4841359431920965\n"
          ]
        }
      ],
      "source": [
        "ridge_reg_prediction = ridge_reg_model.predict(data_test)\n",
        "R2_SQUARE = metrics.r2_score(label_test, ridge_reg_prediction)\n",
        "\n",
        "print(f'R2 SQUARE: {R2_SQUARE}')"
      ]
    },
    {
      "cell_type": "markdown",
      "metadata": {},
      "source": [
        "**Mencoba parameter alpha dengan nilai yang lebih besar**"
      ]
    },
    {
      "cell_type": "code",
      "execution_count": 861,
      "metadata": {},
      "outputs": [
        {
          "data": {
            "text/plain": [
              "Ridge(alpha=3)"
            ]
          },
          "execution_count": 861,
          "metadata": {},
          "output_type": "execute_result"
        }
      ],
      "source": [
        "# alpha=3\n",
        "ridge_reg_model_upped_tol = Ridge(alpha=3)\n",
        "ridge_reg_model_upped_tol.fit(data_train, label_train)\n"
      ]
    },
    {
      "cell_type": "code",
      "execution_count": 862,
      "metadata": {},
      "outputs": [
        {
          "name": "stdout",
          "output_type": "stream",
          "text": [
            "R2 SQUARE: 0.48411360432545736\n"
          ]
        }
      ],
      "source": [
        "ridge_reg_prediction_upped_tol = ridge_reg_model_upped_tol.predict(data_test)\n",
        "R2_SQUARE_UPPED_TOL = metrics.r2_score(label_test, ridge_reg_prediction_upped_tol)\n",
        "\n",
        "print(f'R2 SQUARE: {R2_SQUARE_UPPED_TOL}')"
      ]
    },
    {
      "cell_type": "markdown",
      "metadata": {},
      "source": [
        "**Analisis dampak parameter alpha pada Ridge Regression**\n",
        "\n",
        "Mengutip dari sumber yang saya temukan di stackoverflow, nilai alpha pada regression disebut juga sebagai penalty parameter; berguna untuk menakar seberapa besar model regresi harus mencegah adanya overfitting.\n",
        "\n",
        "Pada Ridge Regression, terlihat bahwa nilai alpha tidak begitu berdampak kepada R2 Square."
      ]
    },
    {
      "cell_type": "markdown",
      "metadata": {
        "id": "1waX1EvFBtrk"
      },
      "source": [
        "### Nomor 3\n",
        "[15] Implementasikan Lasso Regression pada data hasil preprocessing. Gunakan method dari library sklearn.\n",
        "\n",
        "a. Tampilkan nilai R2 Square\n",
        "\n",
        "b. Coba ubah parameter alpha dengan nilai yang lebih besar dan analisis bagaimana hubungan perubahan parameter tersebut dengan kualitas hasil regresi.\n"
      ]
    },
    {
      "cell_type": "markdown",
      "metadata": {},
      "source": [
        "**Menginisiasi Lasso Regression**"
      ]
    },
    {
      "cell_type": "code",
      "execution_count": 863,
      "metadata": {},
      "outputs": [
        {
          "data": {
            "text/plain": [
              "Lasso(alpha=1)"
            ]
          },
          "execution_count": 863,
          "metadata": {},
          "output_type": "execute_result"
        }
      ],
      "source": [
        "# alpha=1 / default\n",
        "lasso_reg_model = Lasso(alpha=1)\n",
        "lasso_reg_model.fit(data_train, label_train)"
      ]
    },
    {
      "cell_type": "markdown",
      "metadata": {},
      "source": [
        "**Menampilkan R2 Square**"
      ]
    },
    {
      "cell_type": "code",
      "execution_count": 864,
      "metadata": {},
      "outputs": [
        {
          "name": "stdout",
          "output_type": "stream",
          "text": [
            "R2 SQUARE: 0.47570968675410186\n"
          ]
        }
      ],
      "source": [
        "lasso_reg_prediction = lasso_reg_model.predict(data_test)\n",
        "R2_SQUARE = metrics.r2_score(label_test, lasso_reg_prediction)\n",
        "\n",
        "print(f'R2 SQUARE: {R2_SQUARE}')"
      ]
    },
    {
      "cell_type": "markdown",
      "metadata": {},
      "source": [
        "**Mencoba parameter alpha dengan nilai yang lebih besar**"
      ]
    },
    {
      "cell_type": "code",
      "execution_count": 865,
      "metadata": {},
      "outputs": [
        {
          "data": {
            "text/plain": [
              "Lasso(alpha=3)"
            ]
          },
          "execution_count": 865,
          "metadata": {},
          "output_type": "execute_result"
        }
      ],
      "source": [
        "# alpha=3\n",
        "lasso_reg_model_upped_tol = Lasso(alpha=3)\n",
        "lasso_reg_model_upped_tol.fit(data_train, label_train)"
      ]
    },
    {
      "cell_type": "code",
      "execution_count": 866,
      "metadata": {},
      "outputs": [
        {
          "name": "stdout",
          "output_type": "stream",
          "text": [
            "R2 SQUARE: 0.43996637765282043\n"
          ]
        }
      ],
      "source": [
        "lasso_reg_prediction_upped_tol = lasso_reg_model_upped_tol.predict(data_test)\n",
        "R2_SQUARE_UPPED_TOL = metrics.r2_score(label_test, lasso_reg_prediction_upped_tol)\n",
        "\n",
        "print(f'R2 SQUARE: {R2_SQUARE_UPPED_TOL}')"
      ]
    },
    {
      "cell_type": "markdown",
      "metadata": {},
      "source": [
        "**Analisis dampak parameter alpha pada Lasso Regression**\n",
        "\n",
        "Terlihat bahwa perbedaan alpha pada Lasso memiliki dampak yang jauh lebih besar kepada nilai R2 Square-nya dibanding pada Ridge Regression."
      ]
    },
    {
      "cell_type": "markdown",
      "metadata": {
        "id": "wE8trQwoBztz"
      },
      "source": [
        "NOTE: Parameter alpha adalah parameter yang merepresentasikan “kekuatan” dari regularisasi yang dilakukan oleh model. Regularisasi adalah teknik modifikasi yang digunakan untuk mengurangi *generalization error*, dengan kata lain menghindari *overfitting*. Hal ini dilakukan dengan memberikan batasan/*constraint* atau penambahan penalti pada parameter/atribut yang kita gunakan. Untuk lebih jelas, silahkan baca dokumentasi model Ridge dan Lasso yang ada pada link berikut : [API Reference — scikit-learn 1.0.1 documentation ](https://scikit-learn.org/stable/modules/classes.html#module-sklearn.linear_model)"
      ]
    },
    {
      "cell_type": "markdown",
      "metadata": {
        "id": "WbJQZUllBFmw"
      },
      "source": [
        "## **Logistic and Softmax Regression**"
      ]
    },
    {
      "cell_type": "markdown",
      "metadata": {
        "id": "VjgFpFMUB2Ak"
      },
      "source": [
        "### Nomor 1\n",
        "[15] Implementasikan Logistic Regression dengan target yang digunakan adalah kolom TARGET_logistic. Gunakan method dari library sklearn.\n",
        "\n",
        "a. Visualisasikan hasil regression yang didapat dengan membandingkan hasil prediksi dan nilai target aktual.\n",
        "\n",
        "b. Tampilkan rata-rata akurasi yang didapat (baca method .score() pada dokumentasi sklearn)\n"
      ]
    },
    {
      "cell_type": "markdown",
      "metadata": {},
      "source": [
        "**Mengekstrak label TARGET_logistic dan data**"
      ]
    },
    {
      "cell_type": "code",
      "execution_count": 867,
      "metadata": {},
      "outputs": [
        {
          "data": {
            "text/html": [
              "<div>\n",
              "<style scoped>\n",
              "    .dataframe tbody tr th:only-of-type {\n",
              "        vertical-align: middle;\n",
              "    }\n",
              "\n",
              "    .dataframe tbody tr th {\n",
              "        vertical-align: top;\n",
              "    }\n",
              "\n",
              "    .dataframe thead th {\n",
              "        text-align: right;\n",
              "    }\n",
              "</style>\n",
              "<table border=\"1\" class=\"dataframe\">\n",
              "  <thead>\n",
              "    <tr style=\"text-align: right;\">\n",
              "      <th></th>\n",
              "      <th>avgDeathsPerYear</th>\n",
              "      <th>incidenceRate</th>\n",
              "      <th>medIncome</th>\n",
              "      <th>popEst2015</th>\n",
              "      <th>povertyPercent</th>\n",
              "      <th>binnedInc</th>\n",
              "      <th>MedianAge</th>\n",
              "      <th>MedianAgeMale</th>\n",
              "      <th>MedianAgeFemale</th>\n",
              "      <th>AvgHouseholdSize</th>\n",
              "      <th>...</th>\n",
              "      <th>PctPrivateCoverageAlone</th>\n",
              "      <th>PctEmpPrivCoverage</th>\n",
              "      <th>PctPublicCoverage</th>\n",
              "      <th>PctPublicCoverageAlone</th>\n",
              "      <th>PctWhite</th>\n",
              "      <th>PctBlack</th>\n",
              "      <th>PctAsian</th>\n",
              "      <th>PctOtherRace</th>\n",
              "      <th>PctMarriedHouseholds</th>\n",
              "      <th>BirthRate</th>\n",
              "    </tr>\n",
              "  </thead>\n",
              "  <tbody>\n",
              "    <tr>\n",
              "      <th>0</th>\n",
              "      <td>0.561518</td>\n",
              "      <td>0.761321</td>\n",
              "      <td>1.232312</td>\n",
              "      <td>0.478696</td>\n",
              "      <td>-0.886102</td>\n",
              "      <td>1.218383</td>\n",
              "      <td>-0.131848</td>\n",
              "      <td>-0.511128</td>\n",
              "      <td>-0.084151</td>\n",
              "      <td>0.140614</td>\n",
              "      <td>...</td>\n",
              "      <td>0.000000</td>\n",
              "      <td>0.042734</td>\n",
              "      <td>-0.427608</td>\n",
              "      <td>-0.857336</td>\n",
              "      <td>-0.113862</td>\n",
              "      <td>-0.448196</td>\n",
              "      <td>1.367088</td>\n",
              "      <td>-0.039818</td>\n",
              "      <td>0.245324</td>\n",
              "      <td>0.241011</td>\n",
              "    </tr>\n",
              "    <tr>\n",
              "      <th>1</th>\n",
              "      <td>-0.230067</td>\n",
              "      <td>-0.672179</td>\n",
              "      <td>0.088363</td>\n",
              "      <td>-0.180448</td>\n",
              "      <td>0.268698</td>\n",
              "      <td>0.173418</td>\n",
              "      <td>-0.270930</td>\n",
              "      <td>-1.410622</td>\n",
              "      <td>-1.595872</td>\n",
              "      <td>-0.325473</td>\n",
              "      <td>...</td>\n",
              "      <td>0.592879</td>\n",
              "      <td>0.254461</td>\n",
              "      <td>-0.657187</td>\n",
              "      <td>-0.644641</td>\n",
              "      <td>0.340912</td>\n",
              "      <td>-0.560060</td>\n",
              "      <td>0.380201</td>\n",
              "      <td>0.499790</td>\n",
              "      <td>-0.893428</td>\n",
              "      <td>-0.658382</td>\n",
              "    </tr>\n",
              "    <tr>\n",
              "      <th>2</th>\n",
              "      <td>-0.269746</td>\n",
              "      <td>-1.806881</td>\n",
              "      <td>0.189790</td>\n",
              "      <td>-0.248055</td>\n",
              "      <td>-0.355519</td>\n",
              "      <td>0.173418</td>\n",
              "      <td>-0.006012</td>\n",
              "      <td>0.847682</td>\n",
              "      <td>0.690607</td>\n",
              "      <td>0.327049</td>\n",
              "      <td>...</td>\n",
              "      <td>-0.549357</td>\n",
              "      <td>-0.666550</td>\n",
              "      <td>0.745793</td>\n",
              "      <td>0.304306</td>\n",
              "      <td>0.444328</td>\n",
              "      <td>-0.575848</td>\n",
              "      <td>-0.301959</td>\n",
              "      <td>0.217176</td>\n",
              "      <td>0.487085</td>\n",
              "      <td>-0.962391</td>\n",
              "    </tr>\n",
              "    <tr>\n",
              "      <th>3</th>\n",
              "      <td>0.031811</td>\n",
              "      <td>-0.327553</td>\n",
              "      <td>-0.234279</td>\n",
              "      <td>-0.081322</td>\n",
              "      <td>0.034617</td>\n",
              "      <td>-0.523226</td>\n",
              "      <td>-0.054580</td>\n",
              "      <td>0.503195</td>\n",
              "      <td>0.237090</td>\n",
              "      <td>0.094006</td>\n",
              "      <td>...</td>\n",
              "      <td>-0.904226</td>\n",
              "      <td>-0.655964</td>\n",
              "      <td>1.153933</td>\n",
              "      <td>0.942391</td>\n",
              "      <td>0.494549</td>\n",
              "      <td>-0.572892</td>\n",
              "      <td>-0.035483</td>\n",
              "      <td>-0.176530</td>\n",
              "      <td>-0.033835</td>\n",
              "      <td>-0.522020</td>\n",
              "    </tr>\n",
              "    <tr>\n",
              "      <th>4</th>\n",
              "      <td>-0.317360</td>\n",
              "      <td>-1.799549</td>\n",
              "      <td>0.240214</td>\n",
              "      <td>-0.280592</td>\n",
              "      <td>-0.683232</td>\n",
              "      <td>0.173418</td>\n",
              "      <td>0.066840</td>\n",
              "      <td>1.574933</td>\n",
              "      <td>1.276399</td>\n",
              "      <td>-0.325473</td>\n",
              "      <td>...</td>\n",
              "      <td>-0.504998</td>\n",
              "      <td>-0.645377</td>\n",
              "      <td>0.988126</td>\n",
              "      <td>0.566084</td>\n",
              "      <td>0.638610</td>\n",
              "      <td>-0.608154</td>\n",
              "      <td>-0.225352</td>\n",
              "      <td>-0.424035</td>\n",
              "      <td>0.423570</td>\n",
              "      <td>0.582401</td>\n",
              "    </tr>\n",
              "    <tr>\n",
              "      <th>...</th>\n",
              "      <td>...</td>\n",
              "      <td>...</td>\n",
              "      <td>...</td>\n",
              "      <td>...</td>\n",
              "      <td>...</td>\n",
              "      <td>...</td>\n",
              "      <td>...</td>\n",
              "      <td>...</td>\n",
              "      <td>...</td>\n",
              "      <td>...</td>\n",
              "      <td>...</td>\n",
              "      <td>...</td>\n",
              "      <td>...</td>\n",
              "      <td>...</td>\n",
              "      <td>...</td>\n",
              "      <td>...</td>\n",
              "      <td>...</td>\n",
              "      <td>...</td>\n",
              "      <td>...</td>\n",
              "      <td>...</td>\n",
              "      <td>...</td>\n",
              "    </tr>\n",
              "    <tr>\n",
              "      <th>3042</th>\n",
              "      <td>-0.339183</td>\n",
              "      <td>0.096804</td>\n",
              "      <td>-0.008497</td>\n",
              "      <td>-0.292683</td>\n",
              "      <td>-0.698838</td>\n",
              "      <td>-0.174904</td>\n",
              "      <td>-0.023673</td>\n",
              "      <td>0.292675</td>\n",
              "      <td>1.257502</td>\n",
              "      <td>-0.931387</td>\n",
              "      <td>...</td>\n",
              "      <td>0.714865</td>\n",
              "      <td>0.360325</td>\n",
              "      <td>-0.580660</td>\n",
              "      <td>-0.988226</td>\n",
              "      <td>0.405165</td>\n",
              "      <td>-0.362660</td>\n",
              "      <td>-0.354945</td>\n",
              "      <td>-0.080479</td>\n",
              "      <td>-0.027396</td>\n",
              "      <td>1.074398</td>\n",
              "    </tr>\n",
              "    <tr>\n",
              "      <th>3043</th>\n",
              "      <td>-0.283633</td>\n",
              "      <td>0.096804</td>\n",
              "      <td>0.128402</td>\n",
              "      <td>-0.199144</td>\n",
              "      <td>0.299909</td>\n",
              "      <td>0.173418</td>\n",
              "      <td>-0.328329</td>\n",
              "      <td>-1.965629</td>\n",
              "      <td>-2.030492</td>\n",
              "      <td>0.979572</td>\n",
              "      <td>...</td>\n",
              "      <td>0.537430</td>\n",
              "      <td>0.783778</td>\n",
              "      <td>-0.950537</td>\n",
              "      <td>-0.251974</td>\n",
              "      <td>-0.484758</td>\n",
              "      <td>-0.466635</td>\n",
              "      <td>1.069394</td>\n",
              "      <td>3.453599</td>\n",
              "      <td>0.116265</td>\n",
              "      <td>1.282386</td>\n",
              "    </tr>\n",
              "    <tr>\n",
              "      <th>3044</th>\n",
              "      <td>-0.277682</td>\n",
              "      <td>0.096804</td>\n",
              "      <td>0.338983</td>\n",
              "      <td>-0.206992</td>\n",
              "      <td>-0.293097</td>\n",
              "      <td>0.521740</td>\n",
              "      <td>-0.317291</td>\n",
              "      <td>-1.735971</td>\n",
              "      <td>-2.068285</td>\n",
              "      <td>1.305833</td>\n",
              "      <td>...</td>\n",
              "      <td>0.459803</td>\n",
              "      <td>0.699087</td>\n",
              "      <td>-1.231133</td>\n",
              "      <td>-0.399224</td>\n",
              "      <td>0.263556</td>\n",
              "      <td>-0.467569</td>\n",
              "      <td>0.023950</td>\n",
              "      <td>1.051192</td>\n",
              "      <td>0.594984</td>\n",
              "      <td>1.092368</td>\n",
              "    </tr>\n",
              "    <tr>\n",
              "      <th>3045</th>\n",
              "      <td>-0.265778</td>\n",
              "      <td>0.096804</td>\n",
              "      <td>0.305838</td>\n",
              "      <td>-0.234125</td>\n",
              "      <td>-0.558389</td>\n",
              "      <td>0.173418</td>\n",
              "      <td>-0.138471</td>\n",
              "      <td>-0.511128</td>\n",
              "      <td>-0.310909</td>\n",
              "      <td>0.187223</td>\n",
              "      <td>...</td>\n",
              "      <td>0.870120</td>\n",
              "      <td>0.889642</td>\n",
              "      <td>-0.861256</td>\n",
              "      <td>-0.857336</td>\n",
              "      <td>0.565440</td>\n",
              "      <td>-0.545784</td>\n",
              "      <td>-0.386740</td>\n",
              "      <td>0.042156</td>\n",
              "      <td>1.101742</td>\n",
              "      <td>0.978415</td>\n",
              "    </tr>\n",
              "    <tr>\n",
              "      <th>3046</th>\n",
              "      <td>-0.273714</td>\n",
              "      <td>0.096804</td>\n",
              "      <td>-0.487641</td>\n",
              "      <td>-0.199411</td>\n",
              "      <td>-0.464756</td>\n",
              "      <td>-0.871547</td>\n",
              "      <td>-0.421050</td>\n",
              "      <td>-2.692880</td>\n",
              "      <td>-2.861939</td>\n",
              "      <td>0.816441</td>\n",
              "      <td>...</td>\n",
              "      <td>1.313707</td>\n",
              "      <td>-1.936911</td>\n",
              "      <td>-1.422448</td>\n",
              "      <td>-1.086393</td>\n",
              "      <td>-0.827189</td>\n",
              "      <td>0.514867</td>\n",
              "      <td>0.737126</td>\n",
              "      <td>-0.178289</td>\n",
              "      <td>0.729848</td>\n",
              "      <td>1.682918</td>\n",
              "    </tr>\n",
              "  </tbody>\n",
              "</table>\n",
              "<p>3047 rows × 29 columns</p>\n",
              "</div>"
            ],
            "text/plain": [
              "      avgDeathsPerYear  incidenceRate  medIncome  popEst2015  povertyPercent  \\\n",
              "0             0.561518       0.761321   1.232312    0.478696       -0.886102   \n",
              "1            -0.230067      -0.672179   0.088363   -0.180448        0.268698   \n",
              "2            -0.269746      -1.806881   0.189790   -0.248055       -0.355519   \n",
              "3             0.031811      -0.327553  -0.234279   -0.081322        0.034617   \n",
              "4            -0.317360      -1.799549   0.240214   -0.280592       -0.683232   \n",
              "...                ...            ...        ...         ...             ...   \n",
              "3042         -0.339183       0.096804  -0.008497   -0.292683       -0.698838   \n",
              "3043         -0.283633       0.096804   0.128402   -0.199144        0.299909   \n",
              "3044         -0.277682       0.096804   0.338983   -0.206992       -0.293097   \n",
              "3045         -0.265778       0.096804   0.305838   -0.234125       -0.558389   \n",
              "3046         -0.273714       0.096804  -0.487641   -0.199411       -0.464756   \n",
              "\n",
              "      binnedInc  MedianAge  MedianAgeMale  MedianAgeFemale  AvgHouseholdSize  \\\n",
              "0      1.218383  -0.131848      -0.511128        -0.084151          0.140614   \n",
              "1      0.173418  -0.270930      -1.410622        -1.595872         -0.325473   \n",
              "2      0.173418  -0.006012       0.847682         0.690607          0.327049   \n",
              "3     -0.523226  -0.054580       0.503195         0.237090          0.094006   \n",
              "4      0.173418   0.066840       1.574933         1.276399         -0.325473   \n",
              "...         ...        ...            ...              ...               ...   \n",
              "3042  -0.174904  -0.023673       0.292675         1.257502         -0.931387   \n",
              "3043   0.173418  -0.328329      -1.965629        -2.030492          0.979572   \n",
              "3044   0.521740  -0.317291      -1.735971        -2.068285          1.305833   \n",
              "3045   0.173418  -0.138471      -0.511128        -0.310909          0.187223   \n",
              "3046  -0.871547  -0.421050      -2.692880        -2.861939          0.816441   \n",
              "\n",
              "      ...  PctPrivateCoverageAlone  PctEmpPrivCoverage  PctPublicCoverage  \\\n",
              "0     ...                 0.000000            0.042734          -0.427608   \n",
              "1     ...                 0.592879            0.254461          -0.657187   \n",
              "2     ...                -0.549357           -0.666550           0.745793   \n",
              "3     ...                -0.904226           -0.655964           1.153933   \n",
              "4     ...                -0.504998           -0.645377           0.988126   \n",
              "...   ...                      ...                 ...                ...   \n",
              "3042  ...                 0.714865            0.360325          -0.580660   \n",
              "3043  ...                 0.537430            0.783778          -0.950537   \n",
              "3044  ...                 0.459803            0.699087          -1.231133   \n",
              "3045  ...                 0.870120            0.889642          -0.861256   \n",
              "3046  ...                 1.313707           -1.936911          -1.422448   \n",
              "\n",
              "      PctPublicCoverageAlone  PctWhite  PctBlack  PctAsian  PctOtherRace  \\\n",
              "0                  -0.857336 -0.113862 -0.448196  1.367088     -0.039818   \n",
              "1                  -0.644641  0.340912 -0.560060  0.380201      0.499790   \n",
              "2                   0.304306  0.444328 -0.575848 -0.301959      0.217176   \n",
              "3                   0.942391  0.494549 -0.572892 -0.035483     -0.176530   \n",
              "4                   0.566084  0.638610 -0.608154 -0.225352     -0.424035   \n",
              "...                      ...       ...       ...       ...           ...   \n",
              "3042               -0.988226  0.405165 -0.362660 -0.354945     -0.080479   \n",
              "3043               -0.251974 -0.484758 -0.466635  1.069394      3.453599   \n",
              "3044               -0.399224  0.263556 -0.467569  0.023950      1.051192   \n",
              "3045               -0.857336  0.565440 -0.545784 -0.386740      0.042156   \n",
              "3046               -1.086393 -0.827189  0.514867  0.737126     -0.178289   \n",
              "\n",
              "      PctMarriedHouseholds  BirthRate  \n",
              "0                 0.245324   0.241011  \n",
              "1                -0.893428  -0.658382  \n",
              "2                 0.487085  -0.962391  \n",
              "3                -0.033835  -0.522020  \n",
              "4                 0.423570   0.582401  \n",
              "...                    ...        ...  \n",
              "3042             -0.027396   1.074398  \n",
              "3043              0.116265   1.282386  \n",
              "3044              0.594984   1.092368  \n",
              "3045              1.101742   0.978415  \n",
              "3046              0.729848   1.682918  \n",
              "\n",
              "[3047 rows x 29 columns]"
            ]
          },
          "metadata": {},
          "output_type": "display_data"
        }
      ],
      "source": [
        "# Mengekstrak data dan target/label\n",
        "label_logistic = cancer_df_processed[['TARGET_logistic']]\n",
        "data_logistic = cancer_df_normalized\n",
        "\n",
        "display(data_logistic)\n",
        "\n",
        "# Membagi dataset menjadi training set dan test set\n",
        "# dengan jumlah training set adalah sebanyak 80% dari data keseluruhan\n",
        "data_train, data_test, label_train, label_test = train_test_split(data_logistic, label_logistic, train_size=0.8)"
      ]
    },
    {
      "cell_type": "markdown",
      "metadata": {},
      "source": [
        "**Menginisiasi model Logistic Regression**"
      ]
    },
    {
      "cell_type": "code",
      "execution_count": 868,
      "metadata": {
        "id": "i7MSiWVRBH5C"
      },
      "outputs": [
        {
          "name": "stderr",
          "output_type": "stream",
          "text": [
            "/usr/local/lib/python3.9/site-packages/sklearn/utils/validation.py:63: DataConversionWarning: A column-vector y was passed when a 1d array was expected. Please change the shape of y to (n_samples, ), for example using ravel().\n",
            "  return f(*args, **kwargs)\n"
          ]
        },
        {
          "data": {
            "text/plain": [
              "LogisticRegression(max_iter=4000)"
            ]
          },
          "execution_count": 868,
          "metadata": {},
          "output_type": "execute_result"
        }
      ],
      "source": [
        "logistic_reg_model = LogisticRegression(max_iter=4000)\n",
        "logistic_reg_model.fit(data_train, label_train)"
      ]
    },
    {
      "cell_type": "markdown",
      "metadata": {},
      "source": [
        "**Menampilkan visualisasi perbandingan aktual dan prediksi**"
      ]
    },
    {
      "cell_type": "code",
      "execution_count": 869,
      "metadata": {},
      "outputs": [
        {
          "data": {
            "text/plain": [
              "<matplotlib.collections.PathCollection at 0x1518ab9a0>"
            ]
          },
          "execution_count": 869,
          "metadata": {},
          "output_type": "execute_result"
        },
        {
          "data": {
            "image/png": "[encoded data removed]",
            "text/plain": [
              "<Figure size 432x288 with 1 Axes>"
            ]
          },
          "metadata": {
            "needs_background": "light"
          },
          "output_type": "display_data"
        }
      ],
      "source": [
        "logistic_reg_prediction = logistic_reg_model.predict(data_test)\n",
        "plt.scatter(label_test['TARGET_logistic'], logistic_reg_prediction)"
      ]
    },
    {
      "cell_type": "markdown",
      "metadata": {},
      "source": [
        "**Menghitung rata-rata akurasi yang didapat**"
      ]
    },
    {
      "cell_type": "code",
      "execution_count": 870,
      "metadata": {},
      "outputs": [
        {
          "name": "stdout",
          "output_type": "stream",
          "text": [
            "Rata-rata akurasi Model Logistic: 0.8180327868852459\n"
          ]
        }
      ],
      "source": [
        "logistic_mean_accuracy_score = logistic_reg_model.score(data_test, label_test)\n",
        "\n",
        "print(f'Rata-rata akurasi Model Logistic: {logistic_mean_accuracy_score}')"
      ]
    },
    {
      "cell_type": "markdown",
      "metadata": {
        "id": "aN9ZAhRmB4q4"
      },
      "source": [
        "### Nomor 2\n",
        "[15] Implementasikan Softmax Regression dengan target yang digunakan adalah kolom TARGET_softmax. Gunakan method dari library sklearn.\n",
        "\n",
        "a. Visualisasikan hasil regression yang didapat dengan membandingkan hasil prediksi dan nilai target aktual.\n",
        "\n",
        "b. Tampilkan rata-rata akurasi yang didapat.\n"
      ]
    },
    {
      "cell_type": "markdown",
      "metadata": {},
      "source": [
        "**Mengekstrak label TARGET_softmax dan data**"
      ]
    },
    {
      "cell_type": "code",
      "execution_count": 871,
      "metadata": {
        "id": "7iDJ6NQ_B75A"
      },
      "outputs": [
        {
          "data": {
            "text/html": [
              "<div>\n",
              "<style scoped>\n",
              "    .dataframe tbody tr th:only-of-type {\n",
              "        vertical-align: middle;\n",
              "    }\n",
              "\n",
              "    .dataframe tbody tr th {\n",
              "        vertical-align: top;\n",
              "    }\n",
              "\n",
              "    .dataframe thead th {\n",
              "        text-align: right;\n",
              "    }\n",
              "</style>\n",
              "<table border=\"1\" class=\"dataframe\">\n",
              "  <thead>\n",
              "    <tr style=\"text-align: right;\">\n",
              "      <th></th>\n",
              "      <th>avgDeathsPerYear</th>\n",
              "      <th>incidenceRate</th>\n",
              "      <th>medIncome</th>\n",
              "      <th>popEst2015</th>\n",
              "      <th>povertyPercent</th>\n",
              "      <th>binnedInc</th>\n",
              "      <th>MedianAge</th>\n",
              "      <th>MedianAgeMale</th>\n",
              "      <th>MedianAgeFemale</th>\n",
              "      <th>AvgHouseholdSize</th>\n",
              "      <th>...</th>\n",
              "      <th>PctPrivateCoverageAlone</th>\n",
              "      <th>PctEmpPrivCoverage</th>\n",
              "      <th>PctPublicCoverage</th>\n",
              "      <th>PctPublicCoverageAlone</th>\n",
              "      <th>PctWhite</th>\n",
              "      <th>PctBlack</th>\n",
              "      <th>PctAsian</th>\n",
              "      <th>PctOtherRace</th>\n",
              "      <th>PctMarriedHouseholds</th>\n",
              "      <th>BirthRate</th>\n",
              "    </tr>\n",
              "  </thead>\n",
              "  <tbody>\n",
              "    <tr>\n",
              "      <th>0</th>\n",
              "      <td>0.561518</td>\n",
              "      <td>0.761321</td>\n",
              "      <td>1.232312</td>\n",
              "      <td>0.478696</td>\n",
              "      <td>-0.886102</td>\n",
              "      <td>1.218383</td>\n",
              "      <td>-0.131848</td>\n",
              "      <td>-0.511128</td>\n",
              "      <td>-0.084151</td>\n",
              "      <td>0.140614</td>\n",
              "      <td>...</td>\n",
              "      <td>0.000000</td>\n",
              "      <td>0.042734</td>\n",
              "      <td>-0.427608</td>\n",
              "      <td>-0.857336</td>\n",
              "      <td>-0.113862</td>\n",
              "      <td>-0.448196</td>\n",
              "      <td>1.367088</td>\n",
              "      <td>-0.039818</td>\n",
              "      <td>0.245324</td>\n",
              "      <td>0.241011</td>\n",
              "    </tr>\n",
              "    <tr>\n",
              "      <th>1</th>\n",
              "      <td>-0.230067</td>\n",
              "      <td>-0.672179</td>\n",
              "      <td>0.088363</td>\n",
              "      <td>-0.180448</td>\n",
              "      <td>0.268698</td>\n",
              "      <td>0.173418</td>\n",
              "      <td>-0.270930</td>\n",
              "      <td>-1.410622</td>\n",
              "      <td>-1.595872</td>\n",
              "      <td>-0.325473</td>\n",
              "      <td>...</td>\n",
              "      <td>0.592879</td>\n",
              "      <td>0.254461</td>\n",
              "      <td>-0.657187</td>\n",
              "      <td>-0.644641</td>\n",
              "      <td>0.340912</td>\n",
              "      <td>-0.560060</td>\n",
              "      <td>0.380201</td>\n",
              "      <td>0.499790</td>\n",
              "      <td>-0.893428</td>\n",
              "      <td>-0.658382</td>\n",
              "    </tr>\n",
              "    <tr>\n",
              "      <th>2</th>\n",
              "      <td>-0.269746</td>\n",
              "      <td>-1.806881</td>\n",
              "      <td>0.189790</td>\n",
              "      <td>-0.248055</td>\n",
              "      <td>-0.355519</td>\n",
              "      <td>0.173418</td>\n",
              "      <td>-0.006012</td>\n",
              "      <td>0.847682</td>\n",
              "      <td>0.690607</td>\n",
              "      <td>0.327049</td>\n",
              "      <td>...</td>\n",
              "      <td>-0.549357</td>\n",
              "      <td>-0.666550</td>\n",
              "      <td>0.745793</td>\n",
              "      <td>0.304306</td>\n",
              "      <td>0.444328</td>\n",
              "      <td>-0.575848</td>\n",
              "      <td>-0.301959</td>\n",
              "      <td>0.217176</td>\n",
              "      <td>0.487085</td>\n",
              "      <td>-0.962391</td>\n",
              "    </tr>\n",
              "    <tr>\n",
              "      <th>3</th>\n",
              "      <td>0.031811</td>\n",
              "      <td>-0.327553</td>\n",
              "      <td>-0.234279</td>\n",
              "      <td>-0.081322</td>\n",
              "      <td>0.034617</td>\n",
              "      <td>-0.523226</td>\n",
              "      <td>-0.054580</td>\n",
              "      <td>0.503195</td>\n",
              "      <td>0.237090</td>\n",
              "      <td>0.094006</td>\n",
              "      <td>...</td>\n",
              "      <td>-0.904226</td>\n",
              "      <td>-0.655964</td>\n",
              "      <td>1.153933</td>\n",
              "      <td>0.942391</td>\n",
              "      <td>0.494549</td>\n",
              "      <td>-0.572892</td>\n",
              "      <td>-0.035483</td>\n",
              "      <td>-0.176530</td>\n",
              "      <td>-0.033835</td>\n",
              "      <td>-0.522020</td>\n",
              "    </tr>\n",
              "    <tr>\n",
              "      <th>4</th>\n",
              "      <td>-0.317360</td>\n",
              "      <td>-1.799549</td>\n",
              "      <td>0.240214</td>\n",
              "      <td>-0.280592</td>\n",
              "      <td>-0.683232</td>\n",
              "      <td>0.173418</td>\n",
              "      <td>0.066840</td>\n",
              "      <td>1.574933</td>\n",
              "      <td>1.276399</td>\n",
              "      <td>-0.325473</td>\n",
              "      <td>...</td>\n",
              "      <td>-0.504998</td>\n",
              "      <td>-0.645377</td>\n",
              "      <td>0.988126</td>\n",
              "      <td>0.566084</td>\n",
              "      <td>0.638610</td>\n",
              "      <td>-0.608154</td>\n",
              "      <td>-0.225352</td>\n",
              "      <td>-0.424035</td>\n",
              "      <td>0.423570</td>\n",
              "      <td>0.582401</td>\n",
              "    </tr>\n",
              "    <tr>\n",
              "      <th>...</th>\n",
              "      <td>...</td>\n",
              "      <td>...</td>\n",
              "      <td>...</td>\n",
              "      <td>...</td>\n",
              "      <td>...</td>\n",
              "      <td>...</td>\n",
              "      <td>...</td>\n",
              "      <td>...</td>\n",
              "      <td>...</td>\n",
              "      <td>...</td>\n",
              "      <td>...</td>\n",
              "      <td>...</td>\n",
              "      <td>...</td>\n",
              "      <td>...</td>\n",
              "      <td>...</td>\n",
              "      <td>...</td>\n",
              "      <td>...</td>\n",
              "      <td>...</td>\n",
              "      <td>...</td>\n",
              "      <td>...</td>\n",
              "      <td>...</td>\n",
              "    </tr>\n",
              "    <tr>\n",
              "      <th>3042</th>\n",
              "      <td>-0.339183</td>\n",
              "      <td>0.096804</td>\n",
              "      <td>-0.008497</td>\n",
              "      <td>-0.292683</td>\n",
              "      <td>-0.698838</td>\n",
              "      <td>-0.174904</td>\n",
              "      <td>-0.023673</td>\n",
              "      <td>0.292675</td>\n",
              "      <td>1.257502</td>\n",
              "      <td>-0.931387</td>\n",
              "      <td>...</td>\n",
              "      <td>0.714865</td>\n",
              "      <td>0.360325</td>\n",
              "      <td>-0.580660</td>\n",
              "      <td>-0.988226</td>\n",
              "      <td>0.405165</td>\n",
              "      <td>-0.362660</td>\n",
              "      <td>-0.354945</td>\n",
              "      <td>-0.080479</td>\n",
              "      <td>-0.027396</td>\n",
              "      <td>1.074398</td>\n",
              "    </tr>\n",
              "    <tr>\n",
              "      <th>3043</th>\n",
              "      <td>-0.283633</td>\n",
              "      <td>0.096804</td>\n",
              "      <td>0.128402</td>\n",
              "      <td>-0.199144</td>\n",
              "      <td>0.299909</td>\n",
              "      <td>0.173418</td>\n",
              "      <td>-0.328329</td>\n",
              "      <td>-1.965629</td>\n",
              "      <td>-2.030492</td>\n",
              "      <td>0.979572</td>\n",
              "      <td>...</td>\n",
              "      <td>0.537430</td>\n",
              "      <td>0.783778</td>\n",
              "      <td>-0.950537</td>\n",
              "      <td>-0.251974</td>\n",
              "      <td>-0.484758</td>\n",
              "      <td>-0.466635</td>\n",
              "      <td>1.069394</td>\n",
              "      <td>3.453599</td>\n",
              "      <td>0.116265</td>\n",
              "      <td>1.282386</td>\n",
              "    </tr>\n",
              "    <tr>\n",
              "      <th>3044</th>\n",
              "      <td>-0.277682</td>\n",
              "      <td>0.096804</td>\n",
              "      <td>0.338983</td>\n",
              "      <td>-0.206992</td>\n",
              "      <td>-0.293097</td>\n",
              "      <td>0.521740</td>\n",
              "      <td>-0.317291</td>\n",
              "      <td>-1.735971</td>\n",
              "      <td>-2.068285</td>\n",
              "      <td>1.305833</td>\n",
              "      <td>...</td>\n",
              "      <td>0.459803</td>\n",
              "      <td>0.699087</td>\n",
              "      <td>-1.231133</td>\n",
              "      <td>-0.399224</td>\n",
              "      <td>0.263556</td>\n",
              "      <td>-0.467569</td>\n",
              "      <td>0.023950</td>\n",
              "      <td>1.051192</td>\n",
              "      <td>0.594984</td>\n",
              "      <td>1.092368</td>\n",
              "    </tr>\n",
              "    <tr>\n",
              "      <th>3045</th>\n",
              "      <td>-0.265778</td>\n",
              "      <td>0.096804</td>\n",
              "      <td>0.305838</td>\n",
              "      <td>-0.234125</td>\n",
              "      <td>-0.558389</td>\n",
              "      <td>0.173418</td>\n",
              "      <td>-0.138471</td>\n",
              "      <td>-0.511128</td>\n",
              "      <td>-0.310909</td>\n",
              "      <td>0.187223</td>\n",
              "      <td>...</td>\n",
              "      <td>0.870120</td>\n",
              "      <td>0.889642</td>\n",
              "      <td>-0.861256</td>\n",
              "      <td>-0.857336</td>\n",
              "      <td>0.565440</td>\n",
              "      <td>-0.545784</td>\n",
              "      <td>-0.386740</td>\n",
              "      <td>0.042156</td>\n",
              "      <td>1.101742</td>\n",
              "      <td>0.978415</td>\n",
              "    </tr>\n",
              "    <tr>\n",
              "      <th>3046</th>\n",
              "      <td>-0.273714</td>\n",
              "      <td>0.096804</td>\n",
              "      <td>-0.487641</td>\n",
              "      <td>-0.199411</td>\n",
              "      <td>-0.464756</td>\n",
              "      <td>-0.871547</td>\n",
              "      <td>-0.421050</td>\n",
              "      <td>-2.692880</td>\n",
              "      <td>-2.861939</td>\n",
              "      <td>0.816441</td>\n",
              "      <td>...</td>\n",
              "      <td>1.313707</td>\n",
              "      <td>-1.936911</td>\n",
              "      <td>-1.422448</td>\n",
              "      <td>-1.086393</td>\n",
              "      <td>-0.827189</td>\n",
              "      <td>0.514867</td>\n",
              "      <td>0.737126</td>\n",
              "      <td>-0.178289</td>\n",
              "      <td>0.729848</td>\n",
              "      <td>1.682918</td>\n",
              "    </tr>\n",
              "  </tbody>\n",
              "</table>\n",
              "<p>3047 rows × 29 columns</p>\n",
              "</div>"
            ],
            "text/plain": [
              "      avgDeathsPerYear  incidenceRate  medIncome  popEst2015  povertyPercent  \\\n",
              "0             0.561518       0.761321   1.232312    0.478696       -0.886102   \n",
              "1            -0.230067      -0.672179   0.088363   -0.180448        0.268698   \n",
              "2            -0.269746      -1.806881   0.189790   -0.248055       -0.355519   \n",
              "3             0.031811      -0.327553  -0.234279   -0.081322        0.034617   \n",
              "4            -0.317360      -1.799549   0.240214   -0.280592       -0.683232   \n",
              "...                ...            ...        ...         ...             ...   \n",
              "3042         -0.339183       0.096804  -0.008497   -0.292683       -0.698838   \n",
              "3043         -0.283633       0.096804   0.128402   -0.199144        0.299909   \n",
              "3044         -0.277682       0.096804   0.338983   -0.206992       -0.293097   \n",
              "3045         -0.265778       0.096804   0.305838   -0.234125       -0.558389   \n",
              "3046         -0.273714       0.096804  -0.487641   -0.199411       -0.464756   \n",
              "\n",
              "      binnedInc  MedianAge  MedianAgeMale  MedianAgeFemale  AvgHouseholdSize  \\\n",
              "0      1.218383  -0.131848      -0.511128        -0.084151          0.140614   \n",
              "1      0.173418  -0.270930      -1.410622        -1.595872         -0.325473   \n",
              "2      0.173418  -0.006012       0.847682         0.690607          0.327049   \n",
              "3     -0.523226  -0.054580       0.503195         0.237090          0.094006   \n",
              "4      0.173418   0.066840       1.574933         1.276399         -0.325473   \n",
              "...         ...        ...            ...              ...               ...   \n",
              "3042  -0.174904  -0.023673       0.292675         1.257502         -0.931387   \n",
              "3043   0.173418  -0.328329      -1.965629        -2.030492          0.979572   \n",
              "3044   0.521740  -0.317291      -1.735971        -2.068285          1.305833   \n",
              "3045   0.173418  -0.138471      -0.511128        -0.310909          0.187223   \n",
              "3046  -0.871547  -0.421050      -2.692880        -2.861939          0.816441   \n",
              "\n",
              "      ...  PctPrivateCoverageAlone  PctEmpPrivCoverage  PctPublicCoverage  \\\n",
              "0     ...                 0.000000            0.042734          -0.427608   \n",
              "1     ...                 0.592879            0.254461          -0.657187   \n",
              "2     ...                -0.549357           -0.666550           0.745793   \n",
              "3     ...                -0.904226           -0.655964           1.153933   \n",
              "4     ...                -0.504998           -0.645377           0.988126   \n",
              "...   ...                      ...                 ...                ...   \n",
              "3042  ...                 0.714865            0.360325          -0.580660   \n",
              "3043  ...                 0.537430            0.783778          -0.950537   \n",
              "3044  ...                 0.459803            0.699087          -1.231133   \n",
              "3045  ...                 0.870120            0.889642          -0.861256   \n",
              "3046  ...                 1.313707           -1.936911          -1.422448   \n",
              "\n",
              "      PctPublicCoverageAlone  PctWhite  PctBlack  PctAsian  PctOtherRace  \\\n",
              "0                  -0.857336 -0.113862 -0.448196  1.367088     -0.039818   \n",
              "1                  -0.644641  0.340912 -0.560060  0.380201      0.499790   \n",
              "2                   0.304306  0.444328 -0.575848 -0.301959      0.217176   \n",
              "3                   0.942391  0.494549 -0.572892 -0.035483     -0.176530   \n",
              "4                   0.566084  0.638610 -0.608154 -0.225352     -0.424035   \n",
              "...                      ...       ...       ...       ...           ...   \n",
              "3042               -0.988226  0.405165 -0.362660 -0.354945     -0.080479   \n",
              "3043               -0.251974 -0.484758 -0.466635  1.069394      3.453599   \n",
              "3044               -0.399224  0.263556 -0.467569  0.023950      1.051192   \n",
              "3045               -0.857336  0.565440 -0.545784 -0.386740      0.042156   \n",
              "3046               -1.086393 -0.827189  0.514867  0.737126     -0.178289   \n",
              "\n",
              "      PctMarriedHouseholds  BirthRate  \n",
              "0                 0.245324   0.241011  \n",
              "1                -0.893428  -0.658382  \n",
              "2                 0.487085  -0.962391  \n",
              "3                -0.033835  -0.522020  \n",
              "4                 0.423570   0.582401  \n",
              "...                    ...        ...  \n",
              "3042             -0.027396   1.074398  \n",
              "3043              0.116265   1.282386  \n",
              "3044              0.594984   1.092368  \n",
              "3045              1.101742   0.978415  \n",
              "3046              0.729848   1.682918  \n",
              "\n",
              "[3047 rows x 29 columns]"
            ]
          },
          "metadata": {},
          "output_type": "display_data"
        }
      ],
      "source": [
        "# Mengekstrak data dan target/label\n",
        "label_softmax = cancer_df_processed[['TARGET_softmax']]\n",
        "data_softmax = cancer_df_normalized\n",
        "\n",
        "display(data_softmax)\n",
        "\n",
        "# Membagi dataset menjadi training set dan test set\n",
        "# dengan jumlah training set adalah sebanyak 80% dari data keseluruhan\n",
        "data_train, data_test, label_train, label_test = train_test_split(data_softmax, label_softmax, train_size=0.8)"
      ]
    },
    {
      "cell_type": "markdown",
      "metadata": {},
      "source": [
        "**Menginisiasi model Softmax Regression**"
      ]
    },
    {
      "cell_type": "code",
      "execution_count": 872,
      "metadata": {},
      "outputs": [
        {
          "name": "stderr",
          "output_type": "stream",
          "text": [
            "/usr/local/lib/python3.9/site-packages/sklearn/utils/validation.py:63: DataConversionWarning: A column-vector y was passed when a 1d array was expected. Please change the shape of y to (n_samples, ), for example using ravel().\n",
            "  return f(*args, **kwargs)\n"
          ]
        },
        {
          "data": {
            "text/plain": [
              "LogisticRegression(max_iter=4000, multi_class='multinomial')"
            ]
          },
          "execution_count": 872,
          "metadata": {},
          "output_type": "execute_result"
        }
      ],
      "source": [
        "softmax_reg_model = LogisticRegression(max_iter=4000, multi_class='multinomial')\n",
        "softmax_reg_model.fit(data_train, label_train)"
      ]
    },
    {
      "cell_type": "markdown",
      "metadata": {},
      "source": [
        "**Menampilkan visualisasi perbandingan aktual dan prediksi**"
      ]
    },
    {
      "cell_type": "code",
      "execution_count": 873,
      "metadata": {},
      "outputs": [
        {
          "data": {
            "text/plain": [
              "<matplotlib.collections.PathCollection at 0x15190bfa0>"
            ]
          },
          "execution_count": 873,
          "metadata": {},
          "output_type": "execute_result"
        },
        {
          "data": {
            "image/png": "[encoded data removed]",
            "text/plain": [
              "<Figure size 432x288 with 1 Axes>"
            ]
          },
          "metadata": {
            "needs_background": "light"
          },
          "output_type": "display_data"
        }
      ],
      "source": [
        "softmax_reg_prediction = softmax_reg_model.predict(data_test)\n",
        "plt.scatter(label_test['TARGET_softmax'], softmax_reg_prediction)"
      ]
    },
    {
      "cell_type": "markdown",
      "metadata": {},
      "source": [
        "**Menghitung rata-rata akurasi yang didapat**"
      ]
    },
    {
      "cell_type": "code",
      "execution_count": 874,
      "metadata": {},
      "outputs": [
        {
          "name": "stdout",
          "output_type": "stream",
          "text": [
            "Rata-rata akurasi Model Softmax: 0.6278688524590164\n"
          ]
        }
      ],
      "source": [
        "softmax_mean_accuracy_score = softmax_reg_model.score(data_test, label_test)\n",
        "\n",
        "print(f'Rata-rata akurasi Model Softmax: {softmax_mean_accuracy_score}')"
      ]
    }
  ],
  "metadata": {
    "colab": {
      "collapsed_sections": [],
      "name": "Template Tugas 3 KASDD",
      "provenance": []
    },
    "kernelspec": {
      "display_name": "Python 3",
      "name": "python3"
    },
    "language_info": {
      "codemirror_mode": {
        "name": "ipython",
        "version": 3
      },
      "file_extension": ".py",
      "mimetype": "text/x-python",
      "name": "python",
      "nbconvert_exporter": "python",
      "pygments_lexer": "ipython3",
      "version": "3.9.7"
    }
  },
  "nbformat": 4,
  "nbformat_minor": 0
}
