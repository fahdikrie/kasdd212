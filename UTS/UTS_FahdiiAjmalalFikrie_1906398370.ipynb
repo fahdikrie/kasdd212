{
 "cells": [
  {
   "cell_type": "code",
   "execution_count": 4,
   "metadata": {},
   "outputs": [],
   "source": [
    "import pandas as pd\n",
    "import statistics\n",
    "import math"
   ]
  },
  {
   "cell_type": "markdown",
   "metadata": {},
   "source": [
    "### Pilihan Ganda"
   ]
  },
  {
   "cell_type": "code",
   "execution_count": 10,
   "metadata": {},
   "outputs": [
    {
     "name": "stdout",
     "output_type": "stream",
     "text": [
      "2\n",
      "2\n",
      "0.0\n",
      "1.5811388300841898\n"
     ]
    }
   ],
   "source": [
    "X = [2, 2, 2, 2, 2]\n",
    "Y = [0, 1, 2, 3, 4]\n",
    "\n",
    "print(statistics.mean(X))\n",
    "print(statistics.mean(Y))\n",
    "print(statistics.stdev(X))\n",
    "print(statistics.stdev(Y))"
   ]
  },
  {
   "cell_type": "markdown",
   "metadata": {},
   "source": [
    "Esai"
   ]
  },
  {
   "cell_type": "code",
   "execution_count": 12,
   "metadata": {},
   "outputs": [
    {
     "name": "stdout",
     "output_type": "stream",
     "text": [
      "14.5\n",
      "14.571428571428571\n",
      "3.8078865529319543\n",
      "3.8172540616821107\n"
     ]
    }
   ],
   "source": [
    "X = [2, 4, 4, 6, 8, 11, 11, 12]\n",
    "Y = [3, 4, 4, 6, 8, 8, 8, 15]\n",
    "\n",
    "print(statistics.variance(X))\n",
    "print(statistics.variance(Y))\n",
    "print(statistics.stdev(X))\n",
    "print(statistics.stdev(Y))"
   ]
  }
 ],
 "metadata": {
  "interpreter": {
   "hash": "949777d72b0d2535278d3dc13498b2535136f6dfe0678499012e853ee9abcab1"
  },
  "kernelspec": {
   "display_name": "Python 3.9.7 64-bit",
   "name": "python3"
  },
  "language_info": {
   "codemirror_mode": {
    "name": "ipython",
    "version": 3
   },
   "file_extension": ".py",
   "mimetype": "text/x-python",
   "name": "python",
   "nbconvert_exporter": "python",
   "pygments_lexer": "ipython3",
   "version": "3.9.7"
  },
  "orig_nbformat": 4
 },
 "nbformat": 4,
 "nbformat_minor": 2
}
