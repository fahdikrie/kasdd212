{
  "nbformat": 4,
  "nbformat_minor": 2,
  "metadata": {
    "colab": {
      "name": "Lab 2 - Stats and DataViz.ipynb",
      "provenance": [],
      "collapsed_sections": [],
      "toc_visible": true
    },
    "kernelspec": {
      "name": "python3",
      "display_name": "Python 3.9.6 64-bit"
    },
    "language_info": {
      "codemirror_mode": {
        "name": "ipython",
        "version": 3
      },
      "file_extension": ".py",
      "mimetype": "text/x-python",
      "name": "python",
      "nbconvert_exporter": "python",
      "pygments_lexer": "ipython3",
      "version": "3.9.6"
    },
    "interpreter": {
      "hash": "4cd7ab41f5fca4b9b44701077e38c5ffd31fe66a6cab21e0214b68d958d0e462"
    }
  },
  "cells": [
    {
      "cell_type": "markdown",
      "source": [
        "<center>\n",
        "<img src=\"https://drive.google.com/uc?id=1f1gGVI-rxcHjA90WEGNvvtSXF1pAxQwg\" alt=\"Fasilkom UI\" width=\"300\"/>\n",
        "\n",
        "CSGE603130 • Kecerdasan Artifisial dan Sains Data Dasar\n",
        "\n",
        "Semester Ganjil 2021/2022\n",
        "\n",
        "Fakultas Ilmu Komputer, Universitas Indonesia\n",
        "\n",
        "##**Lab 2: *Statistics & Data Visualization***\n",
        "\n",
        "###**Tenggat Waktu: 18 September 2021, 23.55 WIB**\n",
        "</center>\n",
        "\n",
        "####**Ketentuan:**\n",
        "\n",
        "1. Dokumen *template* lab dengan format .ipynb dan dataset (jika dibutuhkan) telah disediakan di SCeLe\n",
        "2. Jalankan kode pada dokumen .ipynb dan perhatikan dengan saksama apa yang potongan kode tersebut lakukan beserta dengan keluarannya. Jawablah **pertanyaan yang disisipkan** pada potongan program yang diberikan.\n",
        "3. Dokumen Jupyter Notebook yang telah dilengkapi dengan jawaban dikumpulkan dengan format penamaan **Kelas_LabX_NPM_Nama.ipynb**. Contoh: F_Lab2_1706979341_Lulu Ilmaknun Qurotaini.ipynb\n",
        "4. Kumpulkan dokumen tersebut pada submisi yang telah disediakan di SCeLe sesuai dengan kelas masing-masing sebelum **18 September 2021, 23.55 WIB**. Keterlambatan pengumpulan akan dikenakan pinalti.\n",
        "5. Lab ini dirancang sebagai **tugas mandiri**. Plagiarisme tidak diperkenankan dalam bentuk apapun. Adapun kolaborasi berupa diskusi (tanpa menyalin maupun mengambil jawaban orang lain) dan literasi masih diperbolehkan dengan mencantumkan kolaborator dan sumber."
      ],
      "metadata": {
        "id": "0k_j9vD93i96"
      }
    },
    {
      "cell_type": "markdown",
      "source": [
        "## **Pernyataan Integritas**\n",
        "\n",
        "Wajib diisi. Tanpa pernyataan integritas submisi akan dikenakan penalti."
      ],
      "metadata": {
        "id": "JnRUE1Ul62_R"
      }
    },
    {
      "cell_type": "code",
      "execution_count": null,
      "source": [
        "# Isi dengan data diri Anda\n",
        "NAMA = \"\"\n",
        "KELAS = \"\"\n",
        "NPM = \"\"\n",
        "\n",
        "# Isi dengan NPM teman yang berdiskusi dengan Anda\n",
        "KOLABORATOR = []\n",
        "\n",
        "# Isi dengan sumber referensi yang Anda gunakan dalam mengerjakan\n",
        "REFERENSI = []"
      ],
      "outputs": [],
      "metadata": {
        "id": "9tnfWWpN7vjq"
      }
    },
    {
      "cell_type": "code",
      "execution_count": null,
      "source": [
        "PERNYATAAN_INTEGRITAS = \"Saya, %s dari kelas %s dengan NPM %s, menyatakan bahwa seluruh jawaban pada pekerjaan ini murni saya kerjakan sendiri.\\n\\\n",
        "Saya tidak mencontek jawaban, memberikan jawaban, maupun menyalin dari sumber manapun.\\n \\\n",
        "\\n\\\n",
        "Jika saya melanggar pernyataan tersebut, saya siap menerima konsekuensi apapun yang diberikan.\\n   \\\n",
        "(%s)\" % (NAMA, KELAS, NPM, NAMA)\n",
        "\n",
        "print(PERNYATAAN_INTEGRITAS)"
      ],
      "outputs": [],
      "metadata": {
        "id": "KVEdteyu3hot"
      }
    },
    {
      "cell_type": "markdown",
      "source": [
        "# Exploratory Data Analysis\n",
        "\n",
        "*Exploratory Data Analysis* (EDA) merupakan suatu proses menganalisis dataset untuk melihat karakteristik utama dari data. EDA adalah pemrosesan dasar yang dapat mempengaruhi keputusan-keputusan seorang data scientist dalam memproses data di tahap selanjutnya. Proses ini sering melibatkan dua hal, di antaranya *descriptive statistics* dan data *visualization*."
      ],
      "metadata": {
        "id": "izi1KTt3H-er"
      }
    },
    {
      "cell_type": "markdown",
      "source": [
        "## Deskripsi Dataset Avocado\n",
        "\n",
        "Tabel di bawah menunjukkan data pemindaian ritel mingguan 2018 untuk volume (unit) dan harga ritel Nasional. Data pemindaian ritel datang langsung dari pengecer berdasarkan penjualan eceran asli alpukat jenis Hass. Mulai tahun 2013, tabel di bawah ini mencerminkan kumpulan data ritel multi-outlet. AveragePrice di tabel mencerminkan biaya per unit (per alpukat). Kode Pencarian Produk (PLU) di tabel hanya untuk alpukat Hass. Varietas alpukat lainnya (misalnya kulit hijau) tidak termasuk dalam tabel ini.\n",
        "\n",
        "* `Date`: the date of the observation\n",
        "* `AveragePrice`: the average price of a single avocado\n",
        "* `Total Volume`: total weight of avocados sold\n",
        "* `4046`: total weight of avocados with PLU 4046 sold\n",
        "* `4225`: total weight of avocados with PLU 4225 sold\n",
        "* `4770`: total weight of avocados with PLU 4770 sold\n",
        "* `Total Bags`: total weight of sold avocados put in bags (excluding those with PLUs)\n",
        "* `Small Bags`: total weight of sold avocados put in small bags\n",
        "* `Large Bags`: total weight of sold avocados put in large bags\n",
        "* `XLarge Bags`: total weight of sold avocados put in extra large bags\n",
        "* `type`: conventional or organic\n",
        "* `year`: the year\n",
        "* `region`: the city or region of the observation\n"
      ],
      "metadata": {
        "id": "r_d53lZiH-eq"
      }
    },
    {
      "cell_type": "code",
      "execution_count": null,
      "source": [
        "import pandas as pd\n",
        "import numpy as np\n",
        "import seaborn as sns\n",
        "import plotly.express as px\n",
        "import matplotlib.pyplot as plt\n",
        "import scipy.stats as scp\n",
        "import statsmodels.api as sm"
      ],
      "outputs": [],
      "metadata": {
        "id": "EK27FheIFqrt"
      }
    },
    {
      "cell_type": "code",
      "execution_count": null,
      "source": [
        "# Import dataset dengan index di kolom pertama\n",
        "avocado_df = pd.read_csv('avocado.csv', index_col=0)"
      ],
      "outputs": [],
      "metadata": {
        "id": "C_owiH5FH-er"
      }
    },
    {
      "cell_type": "code",
      "execution_count": null,
      "source": [
        "total_rows, total_attributes = avocado_df.shape\n",
        "print('Jumlah data:', total_rows)\n",
        "print(\"Jumlah atribut:\", total_attributes)\n",
        "\n",
        "avocado_df.head()"
      ],
      "outputs": [],
      "metadata": {
        "id": "E2nVvXRZH-er"
      }
    },
    {
      "cell_type": "code",
      "execution_count": null,
      "source": [
        "# Melihat kolom-kolom pada dataframe\n",
        "avocado_df.info()"
      ],
      "outputs": [],
      "metadata": {
        "id": "VJ4DlmGWH-es"
      }
    },
    {
      "cell_type": "markdown",
      "source": [
        "Terlihat sekilas tipe dan jumlah non-null dari setiap kolom. Dari informasi ini, kita mengetahui tidak ada kolom yang memiliki null untuk dataset avocado (karena semua kolom memiliki jumlah yang sama dengan jumlah data)."
      ],
      "metadata": {
        "id": "E1DCwDXvH-es"
      }
    },
    {
      "cell_type": "code",
      "execution_count": null,
      "source": [
        "# Menampilkan statistics untuk setiap atribut numerik \n",
        "avocado_df.describe()"
      ],
      "outputs": [],
      "metadata": {
        "id": "HxNrjc5gH-es"
      }
    },
    {
      "cell_type": "code",
      "execution_count": null,
      "source": [
        "# Menampilkan statistics untuk setiap atribut non-numerik atau kategorik\n",
        "avocado_df.describe(include=np.object)"
      ],
      "outputs": [],
      "metadata": {
        "id": "FEAyYUynH-et"
      }
    },
    {
      "cell_type": "markdown",
      "source": [
        "## Descriptive Statistics"
      ],
      "metadata": {
        "id": "EnLasZiyH-et"
      }
    },
    {
      "cell_type": "markdown",
      "source": [
        "Ada banyak jenis measures yang dapat diterapkan untuk *descriptive statistics*.\n",
        "\n",
        "Mengingat materi dari StatProb, ada\n",
        "1. *Central tendency* (mean, median, mode)\n",
        "2. *Dispersion* atau *variability* (variance, standard deviation)\n",
        "3. Minimum, maximum\n",
        "4. Range\n",
        "5. Quantile\n",
        "6. Percentile\n",
        "\n",
        "**Central tendency sering dipakai untuk melihat distribusi data.**\n",
        "Pada biasanya, `mean` lebih cocok untuk distribusi normal (yang terlihat simetris di tengah), sementara median lebih baik untuk distribusi bersifat *skewed* (berat sebelah). Tentunya, ini tidak berlaku untuk data kategorik yang hanya bisa menggunakan `mode`.\n",
        "\n",
        "Terkadang central tendency saja tidak cukup untuk melihat distribusi data. Central tendency tidak bisa menggambarkan seberapa besar data tersebar. **Measure of dispersion merupakan ukuran yang biasa digunakan untuk melihat keragaman data atau seberapa besar data tersebar.** Terdapat beberapa ukuran untuk menentukan dispersi data pengamatan, seperti jangkauan/rentang (`range`) dan simpangan baku (`standard deviation`).\n",
        "\n",
        "Secara umum, berikut adalah contoh penggunaan descriptive statistics (1), (2), (3) dari atribut `AveragePrice`:"
      ],
      "metadata": {
        "id": "erzqv2ZVH-et"
      }
    },
    {
      "cell_type": "code",
      "execution_count": null,
      "source": [
        "# Array of 'AveragePrice' values\n",
        "price_arr = avocado_df['AveragePrice']\n",
        "\n",
        "price_stats = [\n",
        "    ['Mean', np.mean(price_arr)],\n",
        "    ['Median', np.median(price_arr)],\n",
        "    ['Mode', scp.mode(price_arr)[0][0]],\n",
        "    ['Standard Deviation', np.std(price_arr)],\n",
        "    ['Variance', np.var(price_arr)],\n",
        "    ['Minimum', np.min(price_arr)],\n",
        "    ['Maximum', np.max(price_arr)],\n",
        "]\n",
        "\n",
        "pd.DataFrame(price_stats, columns=['Measure', 'Value'])"
      ],
      "outputs": [],
      "metadata": {
        "id": "sP7RtmxMH-eu"
      }
    },
    {
      "cell_type": "markdown",
      "source": [
        "Pada hasil di atas, kita dapat lihat bahwa `mean` > `median` > `mode`. Data juga tersebar sebesar 0.4 dari nilai `mean`. Dengan nilai maksimum 3.25 dan minimum 0.44 ada kemungkinan bahwa data cenderung padat di nilai yang rendah atau padat ke kiri."
      ],
      "metadata": {
        "id": "ga6z9G-dQULX"
      }
    },
    {
      "cell_type": "markdown",
      "source": [
        "Diluar central tendency dan dispersion, statistik deskriptif juga mencakup ***skewness* yang mengukur kemiringan atau asimetri distribusi**. *Skewness* dari data dapat mempengaruhi pemrosesan, contohnya menangani *missing values* dengan *central tendency* yang tepat atau melakukan *sampling*. \n",
        "\n",
        "Cara melihat *skewness* dapat dilakukan melalui visualisasi KDE (Kernel Density Estimation) plot. KDE plot menunjukkan estimasi dari fungsi probabilitas *density* pada sebuah data yang bersifat kontinu."
      ],
      "metadata": {
        "id": "NFxNUWD9LJUL"
      }
    },
    {
      "cell_type": "code",
      "execution_count": null,
      "source": [
        "# KDE Plot (Distribusi data) dari AveragePrice\n",
        "\n",
        "plt.figure(figsize=(7,5))\n",
        "sns.kdeplot(price_arr, shade=True)\n",
        "plt.vlines(x=np.mean(price_arr), ymin=0, ymax=1, color='blue', linestyle='--')\n",
        "plt.vlines(x=np.median(price_arr), ymin=0, ymax=1, color='brown', linestyle='--')\n",
        "plt.vlines(x=scp.mode(price_arr)[0][0], ymin=0, ymax=1, color='red', linestyle='--')\n",
        "plt.legend(['AveragePrice', 'Mean', 'Median', 'Mode'], fontsize=12)\n",
        "plt.show()"
      ],
      "outputs": [],
      "metadata": {
        "id": "eOM-fELxH-eu"
      }
    },
    {
      "cell_type": "markdown",
      "source": [
        "Terlihat bahwa distribusi bersifat skewed karena sedikit lebih berat di kiri. Berdasarkan visualisasi, median, mean, dan modus tidak selalu sama. Pada kasus ini, terlihat bahwa median dapat menjadi pengukuran yang paling tepat untuk menggambarkan central tendency dari data."
      ],
      "metadata": {
        "id": "GDyyWNN4H-eu"
      }
    },
    {
      "cell_type": "markdown",
      "source": [
        "Selain itu, kita dapat mengecek nilai skewness dari atribut-atribut numerik dengan menggunakan fungsi `.skew()` berikut:"
      ],
      "metadata": {
        "id": "WiA9cKT8S5ye"
      }
    },
    {
      "cell_type": "code",
      "execution_count": null,
      "source": [
        "# Mengambil hanya atribut float numerik\n",
        "numeric_avocado = avocado_df.select_dtypes(include=['float64'])\n",
        "\n",
        "# Mengecek nilai skewness dari data\n",
        "numeric_avocado.skew()"
      ],
      "outputs": [],
      "metadata": {
        "id": "zQ9XUTfDRQAe"
      }
    },
    {
      "cell_type": "markdown",
      "source": [
        "Interpretasi nilai *skewness*:\n",
        "*   Jika nilainya positif maka right skewed (buntut kanan > buntut kiri)\n",
        "*   Jika nilainya negatif maka left skewed (buntut kiri > buntut kanan)\n",
        "*   Jika skewness = 0, data simetris\n",
        "\n",
        "Dari hasil tersebut, didapati bahwa AveragePrice memiliki karakteristik right skewed dengan tingkat asimetris yang tidak terlalu tinggi. Sementara atribut numerik lain memiliki asimetris yang sangat tinggi ke kanan.\n"
      ],
      "metadata": {
        "id": "Z-IY5AzRTWOo"
      }
    },
    {
      "cell_type": "markdown",
      "source": [
        "Untuk membandingkan distribusi data A ke data B, kita dapat menggunakan overlapping Histogram atau KDE plot.\n",
        "\n",
        "Misalkan kita ingin melihat perbandingan `AveragePrice` dari conventional vs organic avocados."
      ],
      "metadata": {
        "id": "gPh1hDk2rInP"
      }
    },
    {
      "cell_type": "code",
      "execution_count": null,
      "source": [
        "conventional = avocado_df[avocado_df['type'] == \"conventional\"]\n",
        "organic = avocado_df[avocado_df['type'] == \"organic\"]\n",
        "conv_price = conventional['AveragePrice']\n",
        "org_price = organic['AveragePrice']\n",
        "\n",
        "# Histogram dengan \"density=True\" untuk menyerupai KDE Plot\n",
        "plt.figure(figsize=(7,5))\n",
        "plt.title(\"Average Prices per Avocado Type\", fontsize=12)\n",
        "plt.hist(conv_price, alpha=0.5, bins=50, density=True, label=\"Conventional\")\n",
        "plt.hist(org_price, alpha=0.5, bins=50, density=True, label=\"Organic\")\n",
        "plt.xlabel(\"AveragePrice\")\n",
        "plt.ylabel(\"Density\")\n",
        "plt.legend()\n",
        "plt.show()"
      ],
      "outputs": [],
      "metadata": {
        "id": "o7ZtNS1IrFHf"
      }
    },
    {
      "cell_type": "code",
      "execution_count": null,
      "source": [
        "# KDE Plot\n",
        "plt.figure(figsize=(7,5))\n",
        "sns.kdeplot(conv_price, shade=True)\n",
        "sns.kdeplot(org_price, shade=True)\n",
        "plt.legend(['Conventional','Organic'], fontsize=12)\n",
        "plt.vlines(x=conv_price.mean(), ymin=0, ymax=1.6, color='blue', linestyle='--')\n",
        "plt.vlines(x=org_price.mean(), ymin=0, ymax=1.2, color='brown', linestyle='--')\n",
        "plt.show()"
      ],
      "outputs": [],
      "metadata": {
        "id": "5CIxzMQ_r1mG"
      }
    },
    {
      "cell_type": "markdown",
      "source": [
        "## Correlation\n",
        "\n",
        "Korelasi merupakan pengukuran dependensi antar atribut dalam data. Korelasi sering digunakan untuk mengukur apakah suatu atribut memiliki hubungan yang kuat secara linier atau tidak. \n",
        "\n",
        "Terdapat beberapa jenis korelasi yang dapat digunakan pada jenis data yang berbeda. ***Pearson correlation*** umum digunakan untuk mengukur korelasi pada atribut numerik."
      ],
      "metadata": {
        "id": "kW1jrZK5H-ev"
      }
    },
    {
      "cell_type": "code",
      "execution_count": null,
      "source": [
        "# Menampilkan nilai korelasi atribut numerik (dari koefisien Pearson)\n",
        "avocado_df.corr(method='pearson')"
      ],
      "outputs": [],
      "metadata": {
        "id": "qgX_fkX8H-ev"
      }
    },
    {
      "cell_type": "markdown",
      "source": [
        "Kita sudah dapat melihat nilai korelasi pada matrix di atas. Akan tetapi, visualisasi dari matrix tersebut kurang enak untuk dilihat. Untuk itu, kita akan menggunakan visualisasi heatmap."
      ],
      "metadata": {
        "id": "za40Pa-fH-ev"
      }
    },
    {
      "cell_type": "code",
      "execution_count": null,
      "source": [
        "# Visualisasi matriks korelasi dengan heatmap\n",
        "plt.figure(figsize=(10,10))\n",
        "\n",
        "sns.heatmap(avocado_df.select_dtypes(np.number).corr(), \n",
        "        annot=True,\n",
        "        cbar=False,\n",
        "        fmt=\"0.2f\",\n",
        "        cmap=\"YlGnBu\",\n",
        "        xticklabels=avocado_df.select_dtypes(np.number).columns,\n",
        "        yticklabels=avocado_df.select_dtypes(np.number).columns)\n",
        "plt.title(\"Correlation matrix\")"
      ],
      "outputs": [],
      "metadata": {
        "id": "HOOoNTKuH-ew"
      }
    },
    {
      "cell_type": "markdown",
      "source": [
        "Dari heatmap diatas, kita bisa menentukan pasangan atribut apa saja yang memiliki relasi yang tinggi (warna biru gelap). Untuk membuktikan, dibawah terdapat 3 scatterplot yang menunjukkan korelasi dengan `Total Volume`, yakni\n",
        "* `Total Bags`: 0.96 (terlihat berbanding lurus naik)\n",
        "* `AveragePrice`: -0.19 (ada sedikit tren terbalik tetapi semua hampir berkumpul di total volume 0 - 1)\n",
        "* `year`: 0.01 (membingungkan)"
      ],
      "metadata": {
        "id": "nFngYGxAH-ew"
      }
    },
    {
      "cell_type": "code",
      "execution_count": null,
      "source": [
        "avocado_df.plot.scatter(x=\"Total Volume\", y=\"Total Bags\", figsize=(6,4))"
      ],
      "outputs": [],
      "metadata": {
        "id": "Eti6Xt70H-ew"
      }
    },
    {
      "cell_type": "markdown",
      "source": [
        "Dari visualisasi tersebut kita dapat melihat bahwa `Total Bags` berbanding lurus dengan `Total Volume`. Semakin tinggi `Total Bags`, maka `Total Volume` juga akan meningkat (tentu sangat masuk akal)."
      ],
      "metadata": {
        "id": "UP1n-3WnatQM"
      }
    },
    {
      "cell_type": "code",
      "execution_count": null,
      "source": [
        "avocado_df.plot.scatter(x=\"Total Volume\", y=\"AveragePrice\", figsize=(6,4))"
      ],
      "outputs": [],
      "metadata": {
        "id": "Cq0x33g8H-ex"
      }
    },
    {
      "cell_type": "markdown",
      "source": [
        "Antara `Total Volume` dan `AveragePrice` kita dapati bahwa terjadi hubungan yang negatif di mana peningkatan volume menyebabkan harga menurun. Hal ini mungkin terjadi karena penjualan yang agresif (mungkin seperti penjualan grosir dan sebagainya)."
      ],
      "metadata": {
        "id": "sZ64O3pwbAN-"
      }
    },
    {
      "cell_type": "code",
      "execution_count": null,
      "source": [
        "avocado_df.plot.scatter(x=\"Total Volume\", y=\"year\", figsize=(6,4))"
      ],
      "outputs": [],
      "metadata": {
        "id": "s7uN_Gv9H-ex"
      }
    },
    {
      "cell_type": "markdown",
      "source": [
        "Dari visualisasi di atas, kita mungkin menemui perhitungan dan visualisasi yang agak membingungkan. Hal ini wajar terjadi dikarenakan tahun yang dianggap sebagai data numerik sedangkan lebih tepat dianggap sebagai data kategorik. Tipe data akan sangat mempengaruhi pemrosesan di EDA, maka kita perlu berhati-hati untuk menentukan tipe data yang sesuai."
      ],
      "metadata": {
        "id": "x34CpEuubeAb"
      }
    },
    {
      "cell_type": "markdown",
      "source": [
        "## Data Visualization"
      ],
      "metadata": {
        "id": "gbkyOiQMH-e0"
      }
    },
    {
      "cell_type": "code",
      "execution_count": null,
      "source": [
        "# Fungsi yang membuat plot untuk melihat distribusi frekuensi untuk satu kolom/atribut\n",
        "def countplot(column, df):\n",
        "    return sns.countplot(x=column, data=df)"
      ],
      "outputs": [],
      "metadata": {
        "id": "DrdpYPZFH-e0"
      }
    },
    {
      "cell_type": "code",
      "execution_count": null,
      "source": [
        "countplot('type', avocado_df)"
      ],
      "outputs": [],
      "metadata": {
        "id": "TDi0naKoH-e1"
      }
    },
    {
      "cell_type": "markdown",
      "source": [
        "Sekilas dari countplot, atribut `type` memiliki data yang sangat seimbang (*perfectly balanced as all things should be*)."
      ],
      "metadata": {
        "id": "IYGTMpshH-e1"
      }
    },
    {
      "cell_type": "code",
      "execution_count": null,
      "source": [
        "countplot('year', avocado_df)"
      ],
      "outputs": [],
      "metadata": {
        "id": "pxu9mmKfH-e1"
      }
    },
    {
      "cell_type": "markdown",
      "source": [
        "Sedangkan, atribut `year` menandakan kalau data dari 2018 jauh lebih sedikit dibanding tahun-tahun sebelumnya. Hal ini wajar terjadi karena dataset memang diambil pada pertengahan tahun 2018."
      ],
      "metadata": {
        "id": "xPnGZgmmH-e1"
      }
    },
    {
      "cell_type": "code",
      "execution_count": null,
      "source": [
        "# Menampilkan boxplot type terhadap average price per tahun\n",
        "sns.boxplot(x=\"type\", y=\"AveragePrice\", hue=\"year\", data=avocado_df)"
      ],
      "outputs": [],
      "metadata": {
        "id": "PBXQwdjUH-e1"
      }
    },
    {
      "cell_type": "markdown",
      "source": [
        "Terlihat bahwa avocado bertipe `organic` memiliki rata-rata harga (`AveragePrice`) yang lebih tinggi dibanding dengan yang bertipe `conventional` setiap tahunnya."
      ],
      "metadata": {
        "id": "4x2AYY31H-e2"
      }
    },
    {
      "cell_type": "code",
      "execution_count": null,
      "source": [
        "# Menampilkan boxplot type terhadap total volume per tahun\n",
        "sns.boxplot(x=\"type\", y=\"Total Volume\", hue=\"year\", data=avocado_df)"
      ],
      "outputs": [],
      "metadata": {
        "id": "Al0c3WOtH-e2"
      }
    },
    {
      "cell_type": "markdown",
      "source": [
        "Jika dilihat dari total volume yang terjual, terlihat sepertinya avocado memiliki \"outliers\" yang cukup banyak dan jauh dari IQR sampai boxplotnya sendiri tidak terlihat."
      ],
      "metadata": {
        "id": "TyT1zDEOH-e2"
      }
    },
    {
      "cell_type": "code",
      "execution_count": null,
      "source": [
        "# Menampilkan boxplot untuk atribut yang memiliki banyak unique values (seperti region) terhadap average price\n",
        "fig = px.box(avocado_df, x='region', y='AveragePrice')\n",
        "fig.show()"
      ],
      "outputs": [],
      "metadata": {
        "id": "KvlcHJumH-e2"
      }
    },
    {
      "cell_type": "markdown",
      "source": [
        "## Latihan Soal"
      ],
      "metadata": {
        "id": "9rTVxrm5H-e3"
      }
    },
    {
      "cell_type": "markdown",
      "source": [
        "### **SOAL 1: Descriptive Statistics**\n",
        "\n",
        "(a) Tampilkan descriptive statistics dari atribut `Total Volume`! (hint: tambahkan range, Q1, Q2, Q3, 20th Percentile)"
      ],
      "metadata": {
        "id": "YV4SXdjZx7vW"
      }
    },
    {
      "cell_type": "code",
      "execution_count": null,
      "source": [
        "# 1(a) Implementasi kode di sini"
      ],
      "outputs": [],
      "metadata": {
        "id": "-rgIU_gox7vX"
      }
    },
    {
      "cell_type": "markdown",
      "source": [
        "(b) Apa central tendency paling cocok untuk atribut `Total Volume`? Berikan alasan!"
      ],
      "metadata": {
        "id": "76MgVJ5ox7vX"
      }
    },
    {
      "cell_type": "code",
      "execution_count": null,
      "source": [
        "# 1(b) Implementasi kode di sini"
      ],
      "outputs": [],
      "metadata": {
        "id": "6N0mROQKx7vX"
      }
    },
    {
      "cell_type": "markdown",
      "source": [
        "### **SOAL 2: Data Visualization**\n",
        "\n",
        "Untuk setiap sub-soal, pilih salah satu dari visualisasi berikut:\n",
        "* Pie chart\n",
        "* Bar chart\n",
        "* Scatter plot\n",
        "* Box plot\n",
        "* Histogram\n",
        "* Line graph\n",
        "\n",
        "Beberapa kasus terkadang memiliki lebih dari satu \"jawaban yang tepat\", karena ada banyak cara untuk visualisasi data. Pilihlah yang menurut Anda paling cocok berdasarkan kasus yang diberikan.\n",
        "\n",
        "**Secara eksplisit, tulis chart apa yang Anda pilih dan alasannya.**\n",
        "\n",
        "(a) Buatlah visualisasi untuk melihat rata-rata alpukat yang terjual di setiap region. Apakah California adalah region dengan rata-rata penjualan alpukat terbanyak? (Asumsi `TotalUS` bukanlah sebuah region)\n",
        "\n",
        "(rev1: 14/09/2021 12:47 WIB)"
      ],
      "metadata": {
        "id": "xDjQhbwwH-e5"
      }
    },
    {
      "cell_type": "code",
      "execution_count": null,
      "source": [
        "# 2(a) Implementasi kode di sini"
      ],
      "outputs": [],
      "metadata": {
        "id": "ZtTtxfm9H-e5"
      }
    },
    {
      "cell_type": "markdown",
      "source": [
        "(b) Buatlah visualisasi yang menunjukkan average price per tahun. Dari visualisasi, di antara 2 tahun apakah yang memiliki perbedaan average price yang tertinggi?"
      ],
      "metadata": {
        "id": "fpvdhbekH-e5"
      }
    },
    {
      "cell_type": "code",
      "execution_count": null,
      "source": [
        "# 2(b) Implementasi kode di sini"
      ],
      "outputs": [],
      "metadata": {
        "id": "Sfb_ta50QjAi"
      }
    },
    {
      "cell_type": "markdown",
      "source": [
        "(c) Buatlah visualisasi dari persentase total volume alpukat yang terjual dengan average price >= 1.4 dari masing-masing tipe. Berapakah persentase dari organic avocadoes yang terjual dengan average price >= 1.4?"
      ],
      "metadata": {
        "id": "C7DJBA9XQjAi"
      }
    },
    {
      "cell_type": "code",
      "execution_count": null,
      "source": [
        "# 2(c) Implementasi kode di sini"
      ],
      "outputs": [],
      "metadata": {
        "id": "M-jM_UStQjAi"
      }
    },
    {
      "cell_type": "markdown",
      "source": [
        "(d) Buatlah visualisasi untuk melihat pola dari `AveragePrice` dan `Small Bags`. Berdasarkan apa yang Anda lihat, apakah ada outlier(s) untuk alpukat dengan average price sekitar 1.0?"
      ],
      "metadata": {
        "id": "q0qB8Wd2QjAi"
      }
    },
    {
      "cell_type": "code",
      "execution_count": null,
      "source": [
        "# 2(d) Implementasi kode di sini"
      ],
      "outputs": [],
      "metadata": {
        "id": "7qyKzhznQjAi"
      }
    },
    {
      "cell_type": "markdown",
      "source": [
        "(e) Buatlah visualisasi untuk melihat apakah ada outliers di atribut `Total Bags` untuk setiap region. Berikan satu contoh region yang terlihat tidak memiliki outlier."
      ],
      "metadata": {
        "id": "04NjLD1NQjAj"
      }
    },
    {
      "cell_type": "code",
      "execution_count": null,
      "source": [
        "# 2(e) Implementasi kode di sini"
      ],
      "outputs": [],
      "metadata": {
        "id": "OTtks5ADQjAj"
      }
    },
    {
      "cell_type": "markdown",
      "source": [
        "(f) Lihatlah perbandingan distribusi data dari jumlah alpukat yang dijual di California dengan GreatLakes. Berikan analisis Anda."
      ],
      "metadata": {
        "id": "43MRVejjoYy-"
      }
    },
    {
      "cell_type": "code",
      "execution_count": null,
      "source": [
        "# 2(f) Implementasi kode di sini"
      ],
      "outputs": [],
      "metadata": {
        "id": "L5ikGgqLQjAj"
      }
    }
  ]
}