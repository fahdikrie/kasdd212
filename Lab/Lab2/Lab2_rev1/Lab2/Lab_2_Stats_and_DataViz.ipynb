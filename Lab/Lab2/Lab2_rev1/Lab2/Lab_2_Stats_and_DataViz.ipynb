{
  "nbformat": 4,
  "nbformat_minor": 0,
  "metadata": {
    "colab": {
      "name": "Lab 2 - Stats and DataViz.ipynb",
      "provenance": [],
      "collapsed_sections": [],
      "toc_visible": true
    },
    "kernelspec": {
      "display_name": "Python 3",
      "language": "python",
      "name": "python3"
    },
    "language_info": {
      "codemirror_mode": {
        "name": "ipython",
        "version": 3
      },
      "file_extension": ".py",
      "mimetype": "text/x-python",
      "name": "python",
      "nbconvert_exporter": "python",
      "pygments_lexer": "ipython3",
      "version": "3.6.8"
    }
  },
  "cells": [
    {
      "cell_type": "markdown",
      "metadata": {
        "id": "0k_j9vD93i96"
      },
      "source": [
        "<center>\n",
        "<img src=\"https://drive.google.com/uc?id=1f1gGVI-rxcHjA90WEGNvvtSXF1pAxQwg\" alt=\"Fasilkom UI\" width=\"300\"/>\n",
        "\n",
        "CSGE603130 • Kecerdasan Artifisial dan Sains Data Dasar\n",
        "\n",
        "Semester Ganjil 2021/2022\n",
        "\n",
        "Fakultas Ilmu Komputer, Universitas Indonesia\n",
        "\n",
        "##**Lab 2: *Statistics & Data Visualization***\n",
        "\n",
        "###**Tenggat Waktu: 18 September 2021, 23.55 WIB**\n",
        "</center>\n",
        "\n",
        "####**Ketentuan:**\n",
        "\n",
        "1. Dokumen *template* lab dengan format .ipynb dan dataset (jika dibutuhkan) telah disediakan di SCeLe\n",
        "2. Jalankan kode pada dokumen .ipynb dan perhatikan dengan saksama apa yang potongan kode tersebut lakukan beserta dengan keluarannya. Jawablah **pertanyaan yang disisipkan** pada potongan program yang diberikan.\n",
        "3. Dokumen Jupyter Notebook yang telah dilengkapi dengan jawaban dikumpulkan dengan format penamaan **Kelas_LabX_NPM_Nama.ipynb**. Contoh: F_Lab2_1706979341_Lulu Ilmaknun Qurotaini.ipynb\n",
        "4. Kumpulkan dokumen tersebut pada submisi yang telah disediakan di SCeLe sesuai dengan kelas masing-masing sebelum **18 September 2021, 23.55 WIB**. Keterlambatan pengumpulan akan dikenakan pinalti.\n",
        "5. Lab ini dirancang sebagai **tugas mandiri**. Plagiarisme tidak diperkenankan dalam bentuk apapun. Adapun kolaborasi berupa diskusi (tanpa menyalin maupun mengambil jawaban orang lain) dan literasi masih diperbolehkan dengan mencantumkan kolaborator dan sumber."
      ]
    },
    {
      "cell_type": "markdown",
      "metadata": {
        "id": "JnRUE1Ul62_R"
      },
      "source": [
        "## **Pernyataan Integritas**\n",
        "\n",
        "Wajib diisi. Tanpa pernyataan integritas submisi akan dikenakan penalti."
      ]
    },
    {
      "cell_type": "code",
      "metadata": {
        "id": "9tnfWWpN7vjq"
      },
      "source": [
        "# Isi dengan data diri Anda\n",
        "NAMA = \"\"\n",
        "KELAS = \"\"\n",
        "NPM = \"\"\n",
        "\n",
        "# Isi dengan NPM teman yang berdiskusi dengan Anda\n",
        "KOLABORATOR = []\n",
        "\n",
        "# Isi dengan sumber referensi yang Anda gunakan dalam mengerjakan\n",
        "REFERENSI = []"
      ],
      "execution_count": null,
      "outputs": []
    },
    {
      "cell_type": "code",
      "metadata": {
        "id": "KVEdteyu3hot"
      },
      "source": [
        "PERNYATAAN_INTEGRITAS = \"Saya, %s dari kelas %s dengan NPM %s, menyatakan bahwa seluruh jawaban pada pekerjaan ini murni saya kerjakan sendiri.\\n\\\n",
        "Saya tidak mencontek jawaban, memberikan jawaban, maupun menyalin dari sumber manapun.\\n \\\n",
        "\\n\\\n",
        "Jika saya melanggar pernyataan tersebut, saya siap menerima konsekuensi apapun yang diberikan.\\n   \\\n",
        "(%s)\" % (NAMA, KELAS, NPM, NAMA)\n",
        "\n",
        "print(PERNYATAAN_INTEGRITAS)"
      ],
      "execution_count": null,
      "outputs": []
    },
    {
      "cell_type": "markdown",
      "metadata": {
        "id": "izi1KTt3H-er"
      },
      "source": [
        "# Exploratory Data Analysis\n",
        "\n",
        "*Exploratory Data Analysis* (EDA) merupakan suatu proses menganalisis dataset untuk melihat karakteristik utama dari data. EDA adalah pemrosesan dasar yang dapat mempengaruhi keputusan-keputusan seorang data scientist dalam memproses data di tahap selanjutnya. Proses ini sering melibatkan dua hal, di antaranya *descriptive statistics* dan data *visualization*."
      ]
    },
    {
      "cell_type": "markdown",
      "metadata": {
        "id": "r_d53lZiH-eq"
      },
      "source": [
        "## Deskripsi Dataset Avocado\n",
        "\n",
        "Tabel di bawah menunjukkan data pemindaian ritel mingguan 2018 untuk volume (unit) dan harga ritel Nasional. Data pemindaian ritel datang langsung dari pengecer berdasarkan penjualan eceran asli alpukat jenis Hass. Mulai tahun 2013, tabel di bawah ini mencerminkan kumpulan data ritel multi-outlet. AveragePrice di tabel mencerminkan biaya per unit (per alpukat). Kode Pencarian Produk (PLU) di tabel hanya untuk alpukat Hass. Varietas alpukat lainnya (misalnya kulit hijau) tidak termasuk dalam tabel ini.\n",
        "\n",
        "* `Date`: the date of the observation\n",
        "* `AveragePrice`: the average price of a single avocado\n",
        "* `Total Volume`: total weight of avocados sold\n",
        "* `4046`: total weight of avocados with PLU 4046 sold\n",
        "* `4225`: total weight of avocados with PLU 4225 sold\n",
        "* `4770`: total weight of avocados with PLU 4770 sold\n",
        "* `Total Bags`: total weight of sold avocados put in bags (excluding those with PLUs)\n",
        "* `Small Bags`: total weight of sold avocados put in small bags\n",
        "* `Large Bags`: total weight of sold avocados put in large bags\n",
        "* `XLarge Bags`: total weight of sold avocados put in extra large bags\n",
        "* `type`: conventional or organic\n",
        "* `year`: the year\n",
        "* `region`: the city or region of the observation\n"
      ]
    },
    {
      "cell_type": "code",
      "metadata": {
        "id": "EK27FheIFqrt"
      },
      "source": [
        "import pandas as pd\n",
        "import numpy as np\n",
        "import seaborn as sns\n",
        "import plotly.express as px\n",
        "import matplotlib.pyplot as plt\n",
        "import scipy.stats as scp\n",
        "import statsmodels.api as sm"
      ],
      "execution_count": null,
      "outputs": []
    },
    {
      "cell_type": "code",
      "metadata": {
        "id": "C_owiH5FH-er"
      },
      "source": [
        "# Import dataset dengan index di kolom pertama\n",
        "avocado_df = pd.read_csv('avocado.csv', index_col=0)"
      ],
      "execution_count": null,
      "outputs": []
    },
    {
      "cell_type": "code",
      "metadata": {
        "id": "E2nVvXRZH-er"
      },
      "source": [
        "total_rows, total_attributes = avocado_df.shape\n",
        "print('Jumlah data:', total_rows)\n",
        "print(\"Jumlah atribut:\", total_attributes)\n",
        "\n",
        "avocado_df.head()"
      ],
      "execution_count": null,
      "outputs": []
    },
    {
      "cell_type": "code",
      "metadata": {
        "id": "VJ4DlmGWH-es"
      },
      "source": [
        "# Melihat kolom-kolom pada dataframe\n",
        "avocado_df.info()"
      ],
      "execution_count": null,
      "outputs": []
    },
    {
      "cell_type": "markdown",
      "metadata": {
        "id": "E1DCwDXvH-es"
      },
      "source": [
        "Terlihat sekilas tipe dan jumlah non-null dari setiap kolom. Dari informasi ini, kita mengetahui tidak ada kolom yang memiliki null untuk dataset avocado (karena semua kolom memiliki jumlah yang sama dengan jumlah data)."
      ]
    },
    {
      "cell_type": "code",
      "metadata": {
        "id": "HxNrjc5gH-es"
      },
      "source": [
        "# Menampilkan statistics untuk setiap atribut numerik \n",
        "avocado_df.describe()"
      ],
      "execution_count": null,
      "outputs": []
    },
    {
      "cell_type": "code",
      "metadata": {
        "id": "FEAyYUynH-et"
      },
      "source": [
        "# Menampilkan statistics untuk setiap atribut non-numerik atau kategorik\n",
        "avocado_df.describe(include=np.object)"
      ],
      "execution_count": null,
      "outputs": []
    },
    {
      "cell_type": "markdown",
      "metadata": {
        "id": "EnLasZiyH-et"
      },
      "source": [
        "## Descriptive Statistics"
      ]
    },
    {
      "cell_type": "markdown",
      "metadata": {
        "id": "erzqv2ZVH-et"
      },
      "source": [
        "Ada banyak jenis measures yang dapat diterapkan untuk *descriptive statistics*.\n",
        "\n",
        "Mengingat materi dari StatProb, ada\n",
        "1. *Central tendency* (mean, median, mode)\n",
        "2. *Dispersion* atau *variability* (variance, standard deviation)\n",
        "3. Minimum, maximum\n",
        "4. Range\n",
        "5. Quantile\n",
        "6. Percentile\n",
        "\n",
        "**Central tendency sering dipakai untuk melihat distribusi data.**\n",
        "Pada biasanya, `mean` lebih cocok untuk distribusi normal (yang terlihat simetris di tengah), sementara median lebih baik untuk distribusi bersifat *skewed* (berat sebelah). Tentunya, ini tidak berlaku untuk data kategorik yang hanya bisa menggunakan `mode`.\n",
        "\n",
        "Terkadang central tendency saja tidak cukup untuk melihat distribusi data. Central tendency tidak bisa menggambarkan seberapa besar data tersebar. **Measure of dispersion merupakan ukuran yang biasa digunakan untuk melihat keragaman data atau seberapa besar data tersebar.** Terdapat beberapa ukuran untuk menentukan dispersi data pengamatan, seperti jangkauan/rentang (`range`) dan simpangan baku (`standard deviation`).\n",
        "\n",
        "Secara umum, berikut adalah contoh penggunaan descriptive statistics (1), (2), (3) dari atribut `AveragePrice`:"
      ]
    },
    {
      "cell_type": "code",
      "metadata": {
        "id": "sP7RtmxMH-eu"
      },
      "source": [
        "# Array of 'AveragePrice' values\n",
        "price_arr = avocado_df['AveragePrice']\n",
        "\n",
        "price_stats = [\n",
        "    ['Mean', np.mean(price_arr)],\n",
        "    ['Median', np.median(price_arr)],\n",
        "    ['Mode', scp.mode(price_arr)[0][0]],\n",
        "    ['Standard Deviation', np.std(price_arr)],\n",
        "    ['Variance', np.var(price_arr)],\n",
        "    ['Minimum', np.min(price_arr)],\n",
        "    ['Maximum', np.max(price_arr)],\n",
        "]\n",
        "\n",
        "pd.DataFrame(price_stats, columns=['Measure', 'Value'])"
      ],
      "execution_count": null,
      "outputs": []
    },
    {
      "cell_type": "markdown",
      "metadata": {
        "id": "ga6z9G-dQULX"
      },
      "source": [
        "Pada hasil di atas, kita dapat lihat bahwa `mean` > `median` > `mode`. Data juga tersebar sebesar 0.4 dari nilai `mean`. Dengan nilai maksimum 3.25 dan minimum 0.44 ada kemungkinan bahwa data cenderung padat di nilai yang rendah atau padat ke kiri."
      ]
    },
    {
      "cell_type": "markdown",
      "metadata": {
        "id": "NFxNUWD9LJUL"
      },
      "source": [
        "Diluar central tendency dan dispersion, statistik deskriptif juga mencakup ***skewness* yang mengukur kemiringan atau asimetri distribusi**. *Skewness* dari data dapat mempengaruhi pemrosesan, contohnya menangani *missing values* dengan *central tendency* yang tepat atau melakukan *sampling*. \n",
        "\n",
        "Cara melihat *skewness* dapat dilakukan melalui visualisasi KDE (Kernel Density Estimation) plot. KDE plot menunjukkan estimasi dari fungsi probabilitas *density* pada sebuah data yang bersifat kontinu."
      ]
    },
    {
      "cell_type": "code",
      "metadata": {
        "id": "eOM-fELxH-eu"
      },
      "source": [
        "# KDE Plot (Distribusi data) dari AveragePrice\n",
        "\n",
        "plt.figure(figsize=(7,5))\n",
        "sns.kdeplot(price_arr, shade=True)\n",
        "plt.vlines(x=np.mean(price_arr), ymin=0, ymax=1, color='blue', linestyle='--')\n",
        "plt.vlines(x=np.median(price_arr), ymin=0, ymax=1, color='brown', linestyle='--')\n",
        "plt.vlines(x=scp.mode(price_arr)[0][0], ymin=0, ymax=1, color='red', linestyle='--')\n",
        "plt.legend(['AveragePrice', 'Mean', 'Median', 'Mode'], fontsize=12)\n",
        "plt.show()"
      ],
      "execution_count": null,
      "outputs": []
    },
    {
      "cell_type": "markdown",
      "metadata": {
        "id": "GDyyWNN4H-eu"
      },
      "source": [
        "Terlihat bahwa distribusi bersifat skewed karena sedikit lebih berat di kiri. Berdasarkan visualisasi, median, mean, dan modus tidak selalu sama. Pada kasus ini, terlihat bahwa median dapat menjadi pengukuran yang paling tepat untuk menggambarkan central tendency dari data."
      ]
    },
    {
      "cell_type": "markdown",
      "metadata": {
        "id": "WiA9cKT8S5ye"
      },
      "source": [
        "Selain itu, kita dapat mengecek nilai skewness dari atribut-atribut numerik dengan menggunakan fungsi `.skew()` berikut:"
      ]
    },
    {
      "cell_type": "code",
      "metadata": {
        "id": "zQ9XUTfDRQAe"
      },
      "source": [
        "# Mengambil hanya atribut float numerik\n",
        "numeric_avocado = avocado_df.select_dtypes(include=['float64'])\n",
        "\n",
        "# Mengecek nilai skewness dari data\n",
        "numeric_avocado.skew()"
      ],
      "execution_count": null,
      "outputs": []
    },
    {
      "cell_type": "markdown",
      "metadata": {
        "id": "Z-IY5AzRTWOo"
      },
      "source": [
        "Interpretasi nilai *skewness*:\n",
        "*   Jika nilainya positif maka right skewed (buntut kanan > buntut kiri)\n",
        "*   Jika nilainya negatif maka left skewed (buntut kiri > buntut kanan)\n",
        "*   Jika skewness = 0, data simetris\n",
        "\n",
        "Dari hasil tersebut, didapati bahwa AveragePrice memiliki karakteristik right skewed dengan tingkat asimetris yang tidak terlalu tinggi. Sementara atribut numerik lain memiliki asimetris yang sangat tinggi ke kanan.\n"
      ]
    },
    {
      "cell_type": "markdown",
      "metadata": {
        "id": "gPh1hDk2rInP"
      },
      "source": [
        "Untuk membandingkan distribusi data A ke data B, kita dapat menggunakan overlapping Histogram atau KDE plot.\n",
        "\n",
        "Misalkan kita ingin melihat perbandingan `AveragePrice` dari conventional vs organic avocados."
      ]
    },
    {
      "cell_type": "code",
      "metadata": {
        "id": "o7ZtNS1IrFHf"
      },
      "source": [
        "conventional = avocado_df[avocado_df['type'] == \"conventional\"]\n",
        "organic = avocado_df[avocado_df['type'] == \"organic\"]\n",
        "conv_price = conventional['AveragePrice']\n",
        "org_price = organic['AveragePrice']\n",
        "\n",
        "# Histogram dengan \"density=True\" untuk menyerupai KDE Plot\n",
        "plt.figure(figsize=(7,5))\n",
        "plt.title(\"Average Prices per Avocado Type\", fontsize=12)\n",
        "plt.hist(conv_price, alpha=0.5, bins=50, density=True, label=\"Conventional\")\n",
        "plt.hist(org_price, alpha=0.5, bins=50, density=True, label=\"Organic\")\n",
        "plt.xlabel(\"AveragePrice\")\n",
        "plt.ylabel(\"Density\")\n",
        "plt.legend()\n",
        "plt.show()"
      ],
      "execution_count": null,
      "outputs": []
    },
    {
      "cell_type": "code",
      "metadata": {
        "id": "5CIxzMQ_r1mG"
      },
      "source": [
        "# KDE Plot\n",
        "plt.figure(figsize=(7,5))\n",
        "sns.kdeplot(conv_price, shade=True)\n",
        "sns.kdeplot(org_price, shade=True)\n",
        "plt.legend(['Conventional','Organic'], fontsize=12)\n",
        "plt.vlines(x=conv_price.mean(), ymin=0, ymax=1.6, color='blue', linestyle='--')\n",
        "plt.vlines(x=org_price.mean(), ymin=0, ymax=1.2, color='brown', linestyle='--')\n",
        "plt.show()"
      ],
      "execution_count": null,
      "outputs": []
    },
    {
      "cell_type": "markdown",
      "metadata": {
        "id": "kW1jrZK5H-ev"
      },
      "source": [
        "## Correlation\n",
        "\n",
        "Korelasi merupakan pengukuran dependensi antar atribut dalam data. Korelasi sering digunakan untuk mengukur apakah suatu atribut memiliki hubungan yang kuat secara linier atau tidak. \n",
        "\n",
        "Terdapat beberapa jenis korelasi yang dapat digunakan pada jenis data yang berbeda. ***Pearson correlation*** umum digunakan untuk mengukur korelasi pada atribut numerik."
      ]
    },
    {
      "cell_type": "code",
      "metadata": {
        "id": "qgX_fkX8H-ev"
      },
      "source": [
        "# Menampilkan nilai korelasi atribut numerik (dari koefisien Pearson)\n",
        "avocado_df.corr(method='pearson')"
      ],
      "execution_count": null,
      "outputs": []
    },
    {
      "cell_type": "markdown",
      "metadata": {
        "id": "za40Pa-fH-ev"
      },
      "source": [
        "Kita sudah dapat melihat nilai korelasi pada matrix di atas. Akan tetapi, visualisasi dari matrix tersebut kurang enak untuk dilihat. Untuk itu, kita akan menggunakan visualisasi heatmap."
      ]
    },
    {
      "cell_type": "code",
      "metadata": {
        "id": "HOOoNTKuH-ew"
      },
      "source": [
        "# Visualisasi matriks korelasi dengan heatmap\n",
        "plt.figure(figsize=(10,10))\n",
        "\n",
        "sns.heatmap(avocado_df.select_dtypes(np.number).corr(), \n",
        "        annot=True,\n",
        "        cbar=False,\n",
        "        fmt=\"0.2f\",\n",
        "        cmap=\"YlGnBu\",\n",
        "        xticklabels=avocado_df.select_dtypes(np.number).columns,\n",
        "        yticklabels=avocado_df.select_dtypes(np.number).columns)\n",
        "plt.title(\"Correlation matrix\")"
      ],
      "execution_count": null,
      "outputs": []
    },
    {
      "cell_type": "markdown",
      "metadata": {
        "id": "nFngYGxAH-ew"
      },
      "source": [
        "Dari heatmap diatas, kita bisa menentukan pasangan atribut apa saja yang memiliki relasi yang tinggi (warna biru gelap). Untuk membuktikan, dibawah terdapat 3 scatterplot yang menunjukkan korelasi dengan `Total Volume`, yakni\n",
        "* `Total Bags`: 0.96 (terlihat berbanding lurus naik)\n",
        "* `AveragePrice`: -0.19 (ada sedikit tren terbalik tetapi semua hampir berkumpul di total volume 0 - 1)\n",
        "* `year`: 0.01 (membingungkan)"
      ]
    },
    {
      "cell_type": "code",
      "metadata": {
        "id": "Eti6Xt70H-ew"
      },
      "source": [
        "avocado_df.plot.scatter(x=\"Total Volume\", y=\"Total Bags\", figsize=(6,4))"
      ],
      "execution_count": null,
      "outputs": []
    },
    {
      "cell_type": "markdown",
      "metadata": {
        "id": "UP1n-3WnatQM"
      },
      "source": [
        "Dari visualisasi tersebut kita dapat melihat bahwa `Total Bags` berbanding lurus dengan `Total Volume`. Semakin tinggi `Total Bags`, maka `Total Volume` juga akan meningkat (tentu sangat masuk akal)."
      ]
    },
    {
      "cell_type": "code",
      "metadata": {
        "id": "Cq0x33g8H-ex"
      },
      "source": [
        "avocado_df.plot.scatter(x=\"Total Volume\", y=\"AveragePrice\", figsize=(6,4))"
      ],
      "execution_count": null,
      "outputs": []
    },
    {
      "cell_type": "markdown",
      "metadata": {
        "id": "sZ64O3pwbAN-"
      },
      "source": [
        "Antara `Total Volume` dan `AveragePrice` kita dapati bahwa terjadi hubungan yang negatif di mana peningkatan volume menyebabkan harga menurun. Hal ini mungkin terjadi karena penjualan yang agresif (mungkin seperti penjualan grosir dan sebagainya)."
      ]
    },
    {
      "cell_type": "code",
      "metadata": {
        "id": "s7uN_Gv9H-ex"
      },
      "source": [
        "avocado_df.plot.scatter(x=\"Total Volume\", y=\"year\", figsize=(6,4))"
      ],
      "execution_count": null,
      "outputs": []
    },
    {
      "cell_type": "markdown",
      "metadata": {
        "id": "x34CpEuubeAb"
      },
      "source": [
        "Dari visualisasi di atas, kita mungkin menemui perhitungan dan visualisasi yang agak membingungkan. Hal ini wajar terjadi dikarenakan tahun yang dianggap sebagai data numerik sedangkan lebih tepat dianggap sebagai data kategorik. Tipe data akan sangat mempengaruhi pemrosesan di EDA, maka kita perlu berhati-hati untuk menentukan tipe data yang sesuai."
      ]
    },
    {
      "cell_type": "markdown",
      "metadata": {
        "id": "gbkyOiQMH-e0"
      },
      "source": [
        "## Data Visualization"
      ]
    },
    {
      "cell_type": "code",
      "metadata": {
        "id": "DrdpYPZFH-e0"
      },
      "source": [
        "# Fungsi yang membuat plot untuk melihat distribusi frekuensi untuk satu kolom/atribut\n",
        "def countplot(column, df):\n",
        "    return sns.countplot(x=column, data=df)"
      ],
      "execution_count": null,
      "outputs": []
    },
    {
      "cell_type": "code",
      "metadata": {
        "id": "TDi0naKoH-e1"
      },
      "source": [
        "countplot('type', avocado_df)"
      ],
      "execution_count": null,
      "outputs": []
    },
    {
      "cell_type": "markdown",
      "metadata": {
        "id": "IYGTMpshH-e1"
      },
      "source": [
        "Sekilas dari countplot, atribut `type` memiliki data yang sangat seimbang (*perfectly balanced as all things should be*)."
      ]
    },
    {
      "cell_type": "code",
      "metadata": {
        "id": "pxu9mmKfH-e1"
      },
      "source": [
        "countplot('year', avocado_df)"
      ],
      "execution_count": null,
      "outputs": []
    },
    {
      "cell_type": "markdown",
      "metadata": {
        "id": "xPnGZgmmH-e1"
      },
      "source": [
        "Sedangkan, atribut `year` menandakan kalau data dari 2018 jauh lebih sedikit dibanding tahun-tahun sebelumnya. Hal ini wajar terjadi karena dataset memang diambil pada pertengahan tahun 2018."
      ]
    },
    {
      "cell_type": "code",
      "metadata": {
        "id": "PBXQwdjUH-e1"
      },
      "source": [
        "# Menampilkan boxplot type terhadap average price per tahun\n",
        "sns.boxplot(x=\"type\", y=\"AveragePrice\", hue=\"year\", data=avocado_df)"
      ],
      "execution_count": null,
      "outputs": []
    },
    {
      "cell_type": "markdown",
      "metadata": {
        "id": "4x2AYY31H-e2"
      },
      "source": [
        "Terlihat bahwa avocado bertipe `organic` memiliki rata-rata harga (`AveragePrice`) yang lebih tinggi dibanding dengan yang bertipe `conventional` setiap tahunnya."
      ]
    },
    {
      "cell_type": "code",
      "metadata": {
        "id": "Al0c3WOtH-e2"
      },
      "source": [
        "# Menampilkan boxplot type terhadap total volume per tahun\n",
        "sns.boxplot(x=\"type\", y=\"Total Volume\", hue=\"year\", data=avocado_df)"
      ],
      "execution_count": null,
      "outputs": []
    },
    {
      "cell_type": "markdown",
      "metadata": {
        "id": "TyT1zDEOH-e2"
      },
      "source": [
        "Jika dilihat dari total volume yang terjual, terlihat sepertinya avocado memiliki \"outliers\" yang cukup banyak dan jauh dari IQR sampai boxplotnya sendiri tidak terlihat."
      ]
    },
    {
      "cell_type": "code",
      "metadata": {
        "id": "KvlcHJumH-e2"
      },
      "source": [
        "# Menampilkan boxplot untuk atribut yang memiliki banyak unique values (seperti region) terhadap average price\n",
        "fig = px.box(avocado_df, x='region', y='AveragePrice')\n",
        "fig.show()"
      ],
      "execution_count": null,
      "outputs": []
    },
    {
      "cell_type": "markdown",
      "metadata": {
        "id": "9rTVxrm5H-e3"
      },
      "source": [
        "## Latihan Soal"
      ]
    },
    {
      "cell_type": "markdown",
      "metadata": {
        "id": "YV4SXdjZx7vW"
      },
      "source": [
        "### **SOAL 1: Descriptive Statistics**\n",
        "\n",
        "(a) Tampilkan descriptive statistics dari atribut `Total Volume`! (hint: tambahkan range, Q1, Q2, Q3, 20th Percentile)"
      ]
    },
    {
      "cell_type": "code",
      "metadata": {
        "id": "-rgIU_gox7vX"
      },
      "source": [
        "# 1(a) Implementasi kode di sini"
      ],
      "execution_count": null,
      "outputs": []
    },
    {
      "cell_type": "markdown",
      "metadata": {
        "id": "76MgVJ5ox7vX"
      },
      "source": [
        "(b) Apa central tendency paling cocok untuk atribut `Total Volume`? Berikan alasan!"
      ]
    },
    {
      "cell_type": "code",
      "metadata": {
        "id": "6N0mROQKx7vX"
      },
      "source": [
        "# 1(b) Implementasi kode di sini"
      ],
      "execution_count": null,
      "outputs": []
    },
    {
      "cell_type": "markdown",
      "metadata": {
        "id": "xDjQhbwwH-e5"
      },
      "source": [
        "### **SOAL 2: Data Visualization**\n",
        "\n",
        "Untuk setiap sub-soal, pilih salah satu dari visualisasi berikut:\n",
        "* Pie chart\n",
        "* Bar chart\n",
        "* Scatter plot\n",
        "* Box plot\n",
        "* Histogram\n",
        "* Line graph\n",
        "\n",
        "Beberapa kasus terkadang memiliki lebih dari satu \"jawaban yang tepat\", karena ada banyak cara untuk visualisasi data. Pilihlah yang menurut Anda paling cocok berdasarkan kasus yang diberikan.\n",
        "\n",
        "**Secara eksplisit, tulis chart apa yang Anda pilih dan alasannya.**\n",
        "\n",
        "(a) Buatlah visualisasi untuk melihat rata-rata alpukat yang terjual di setiap region. Apakah California adalah region dengan rata-rata penjualan alpukat terbanyak? (Asumsi `TotalUS` bukanlah sebuah region)\n",
        "\n",
        "(rev1: 14/09/2021 12:47 WIB)"
      ]
    },
    {
      "cell_type": "code",
      "metadata": {
        "id": "ZtTtxfm9H-e5"
      },
      "source": [
        "# 2(a) Implementasi kode di sini"
      ],
      "execution_count": null,
      "outputs": []
    },
    {
      "cell_type": "markdown",
      "metadata": {
        "id": "fpvdhbekH-e5"
      },
      "source": [
        "(b) Buatlah visualisasi yang menunjukkan average price per tahun. Dari visualisasi, di antara 2 tahun apakah yang memiliki perbedaan average price yang tertinggi?"
      ]
    },
    {
      "cell_type": "code",
      "metadata": {
        "id": "Sfb_ta50QjAi"
      },
      "source": [
        "# 2(b) Implementasi kode di sini"
      ],
      "execution_count": null,
      "outputs": []
    },
    {
      "cell_type": "markdown",
      "metadata": {
        "id": "C7DJBA9XQjAi"
      },
      "source": [
        "(c) Buatlah visualisasi dari persentase total volume alpukat yang terjual dengan average price >= 1.4 dari masing-masing tipe. Berapakah persentase dari organic avocadoes yang terjual dengan average price >= 1.4?"
      ]
    },
    {
      "cell_type": "code",
      "metadata": {
        "id": "M-jM_UStQjAi"
      },
      "source": [
        "# 2(c) Implementasi kode di sini"
      ],
      "execution_count": null,
      "outputs": []
    },
    {
      "cell_type": "markdown",
      "metadata": {
        "id": "q0qB8Wd2QjAi"
      },
      "source": [
        "(d) Buatlah visualisasi untuk melihat pola dari `AveragePrice` dan `Small Bags`. Berdasarkan apa yang Anda lihat, apakah ada outlier(s) untuk alpukat dengan average price sekitar 1.0?"
      ]
    },
    {
      "cell_type": "code",
      "metadata": {
        "id": "7qyKzhznQjAi"
      },
      "source": [
        "# 2(d) Implementasi kode di sini"
      ],
      "execution_count": null,
      "outputs": []
    },
    {
      "cell_type": "markdown",
      "metadata": {
        "id": "04NjLD1NQjAj"
      },
      "source": [
        "(e) Buatlah visualisasi untuk melihat apakah ada outliers di atribut `Total Bags` untuk setiap region. Berikan satu contoh region yang terlihat tidak memiliki outlier."
      ]
    },
    {
      "cell_type": "code",
      "metadata": {
        "id": "OTtks5ADQjAj"
      },
      "source": [
        "# 2(e) Implementasi kode di sini"
      ],
      "execution_count": null,
      "outputs": []
    },
    {
      "cell_type": "markdown",
      "metadata": {
        "id": "43MRVejjoYy-"
      },
      "source": [
        "(f) Lihatlah perbandingan distribusi data dari jumlah alpukat yang dijual di California dengan GreatLakes. Berikan analisis Anda."
      ]
    },
    {
      "cell_type": "code",
      "metadata": {
        "id": "L5ikGgqLQjAj"
      },
      "source": [
        "# 2(f) Implementasi kode di sini"
      ],
      "execution_count": null,
      "outputs": []
    }
  ]
}